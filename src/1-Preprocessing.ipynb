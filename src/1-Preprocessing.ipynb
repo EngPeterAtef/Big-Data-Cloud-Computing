{
 "cells": [
  {
   "cell_type": "code",
   "execution_count": 1,
   "metadata": {},
   "outputs": [],
   "source": [
    "from pyspark.sql import SparkSession\n",
    "from pyspark.conf import SparkConf\n",
    "from pyspark.sql.functions import col, countDistinct, isnan, when, count, round, substring_index,substring, split, regexp_replace, udf\n",
    "from pyspark.sql.types import StructType, StructField, StringType, DateType, DoubleType, IntegerType\n",
    "from pyspark.ml.feature import VectorAssembler, StringIndexer, OneHotEncoder\n",
    "from pyspark.ml import Pipeline\n",
    "from pyspark.ml.evaluation import BinaryClassificationEvaluator, MulticlassClassificationEvaluator\n",
    "from pyspark.ml.classification import LogisticRegression, DecisionTreeClassifier, RandomForestClassifier, LinearSVC\n",
    "\n",
    "import plotly.graph_objects as go\n",
    "from plotly.subplots import make_subplots\n",
    "\n",
    "from tabulate import tabulate\n",
    "\n",
    "\n"
   ]
  },
  {
   "cell_type": "markdown",
   "metadata": {},
   "source": [
    "\n",
    "\n",
    " ## Since we write local [*] in the master, it will use all cores in our machine. If we said local [4] it will work with 4 cores.\n",
    "\n",
    "\n",
    "\n",
    " ## getOrCreate is used to create a SparkSession if not present."
   ]
  },
  {
   "cell_type": "code",
   "execution_count": 2,
   "metadata": {},
   "outputs": [],
   "source": [
    "\n",
    "spark=SparkSession.builder\\\n",
    "    .master(\"local[*]\")\\\n",
    "    .appName(\"LoanApproval\")\\\n",
    "    .getOrCreate()\n"
   ]
  },
  {
   "cell_type": "code",
   "execution_count": 3,
   "metadata": {},
   "outputs": [],
   "source": [
    "\n",
    "sc=spark.sparkContext\n"
   ]
  },
  {
   "cell_type": "markdown",
   "metadata": {},
   "source": [
    " ## Read Data - SBAnational.csv"
   ]
  },
  {
   "cell_type": "code",
   "execution_count": 4,
   "metadata": {},
   "outputs": [],
   "source": [
    "\n",
    "data_path=\"../data/SBAnational.csv\"\n"
   ]
  },
  {
   "cell_type": "code",
   "execution_count": 5,
   "metadata": {},
   "outputs": [],
   "source": [
    "\n",
    "loan_df =  spark.read.csv(data_path, header=True, inferSchema=True, quote='\"', escape='\"', multiLine=True)\n"
   ]
  },
  {
   "cell_type": "code",
   "execution_count": 6,
   "metadata": {},
   "outputs": [
    {
     "name": "stdout",
     "output_type": "stream",
     "text": [
      "+-------------+--------------------+------------+-----+-----+--------------------+---------+------+------------+----------+----+-----+--------+---------+-----------+-------------+----------+---------+------+----------+----------------+-----------------+------------+----------+------------+------------+------------+\n",
      "|LoanNr_ChkDgt|                Name|        City|State|  Zip|                Bank|BankState| NAICS|ApprovalDate|ApprovalFY|Term|NoEmp|NewExist|CreateJob|RetainedJob|FranchiseCode|UrbanRural|RevLineCr|LowDoc|ChgOffDate|DisbursementDate|DisbursementGross|BalanceGross|MIS_Status|ChgOffPrinGr|      GrAppv|    SBA_Appv|\n",
      "+-------------+--------------------+------------+-----+-----+--------------------+---------+------+------------+----------+----+-----+--------+---------+-----------+-------------+----------+---------+------+----------+----------------+-----------------+------------+----------+------------+------------+------------+\n",
      "|   1000014003|      ABC HOBBYCRAFT|  EVANSVILLE|   IN|47711|    FIFTH THIRD BANK|       OH|451120|   28-Feb-97|      1997|  84|    4|       2|        0|          0|            1|         0|        N|     Y|      NULL|       28-Feb-99|      $60,000.00 |      $0.00 |     P I F|      $0.00 | $60,000.00 | $48,000.00 |\n",
      "|   1000024006|LANDMARK BAR & GR...|   NEW PARIS|   IN|46526|     1ST SOURCE BANK|       IN|722410|   28-Feb-97|      1997|  60|    2|       2|        0|          0|            1|         0|        N|     Y|      NULL|       31-May-97|      $40,000.00 |      $0.00 |     P I F|      $0.00 | $40,000.00 | $32,000.00 |\n",
      "|   1000034009|WHITLOCK DDS, TOD...| BLOOMINGTON|   IN|47401|GRANT COUNTY STAT...|       IN|621210|   28-Feb-97|      1997| 180|    7|       1|        0|          0|            1|         0|        N|     N|      NULL|       31-Dec-97|     $287,000.00 |      $0.00 |     P I F|      $0.00 |$287,000.00 |$215,250.00 |\n",
      "|   1000044001|BIG BUCKS PAWN & ...|BROKEN ARROW|   OK|74012|1ST NATL BK & TR ...|       OK|     0|   28-Feb-97|      1997|  60|    2|       1|        0|          0|            1|         0|        N|     Y|      NULL|       30-Jun-97|      $35,000.00 |      $0.00 |     P I F|      $0.00 | $35,000.00 | $28,000.00 |\n",
      "|   1000054004|ANASTASIA CONFECT...|     ORLANDO|   FL|32801|FLORIDA BUS. DEVE...|       FL|     0|   28-Feb-97|      1997| 240|   14|       1|        7|          7|            1|         0|        N|     N|      NULL|       14-May-97|     $229,000.00 |      $0.00 |     P I F|      $0.00 |$229,000.00 |$229,000.00 |\n",
      "+-------------+--------------------+------------+-----+-----+--------------------+---------+------+------------+----------+----+-----+--------+---------+-----------+-------------+----------+---------+------+----------+----------------+-----------------+------------+----------+------------+------------+------------+\n",
      "only showing top 5 rows\n",
      "\n",
      "=====================\n",
      "Number of rows in the dataframe:\n",
      "899164\n",
      "=====================\n",
      "Schema of the dataframe:\n",
      "root\n",
      " |-- LoanNr_ChkDgt: long (nullable = true)\n",
      " |-- Name: string (nullable = true)\n",
      " |-- City: string (nullable = true)\n",
      " |-- State: string (nullable = true)\n",
      " |-- Zip: integer (nullable = true)\n",
      " |-- Bank: string (nullable = true)\n",
      " |-- BankState: string (nullable = true)\n",
      " |-- NAICS: integer (nullable = true)\n",
      " |-- ApprovalDate: string (nullable = true)\n",
      " |-- ApprovalFY: string (nullable = true)\n",
      " |-- Term: integer (nullable = true)\n",
      " |-- NoEmp: integer (nullable = true)\n",
      " |-- NewExist: integer (nullable = true)\n",
      " |-- CreateJob: integer (nullable = true)\n",
      " |-- RetainedJob: integer (nullable = true)\n",
      " |-- FranchiseCode: integer (nullable = true)\n",
      " |-- UrbanRural: integer (nullable = true)\n",
      " |-- RevLineCr: string (nullable = true)\n",
      " |-- LowDoc: string (nullable = true)\n",
      " |-- ChgOffDate: string (nullable = true)\n",
      " |-- DisbursementDate: string (nullable = true)\n",
      " |-- DisbursementGross: string (nullable = true)\n",
      " |-- BalanceGross: string (nullable = true)\n",
      " |-- MIS_Status: string (nullable = true)\n",
      " |-- ChgOffPrinGr: string (nullable = true)\n",
      " |-- GrAppv: string (nullable = true)\n",
      " |-- SBA_Appv: string (nullable = true)\n",
      "\n",
      "=====================\n",
      "Columns in the dataframe:\n",
      "['LoanNr_ChkDgt', 'Name', 'City', 'State', 'Zip', 'Bank', 'BankState', 'NAICS', 'ApprovalDate', 'ApprovalFY', 'Term', 'NoEmp', 'NewExist', 'CreateJob', 'RetainedJob', 'FranchiseCode', 'UrbanRural', 'RevLineCr', 'LowDoc', 'ChgOffDate', 'DisbursementDate', 'DisbursementGross', 'BalanceGross', 'MIS_Status', 'ChgOffPrinGr', 'GrAppv', 'SBA_Appv']\n"
     ]
    }
   ],
   "source": [
    "\n",
    "loan_df.show(5)\n",
    "print('=====================')\n",
    "print(\"Number of rows in the dataframe:\")\n",
    "loan_df_count = loan_df.count()\n",
    "print(loan_df_count)\n",
    "print('=====================')\n",
    "print(\"Schema of the dataframe:\")\n",
    "loan_df.printSchema() #prints the dataframe schema\n",
    "print('=====================')\n",
    "print(\"Columns in the dataframe:\")\n",
    "print(loan_df.columns) \n"
   ]
  },
  {
   "cell_type": "markdown",
   "metadata": {},
   "source": [
    " # Preprocessing and cleaning"
   ]
  },
  {
   "cell_type": "markdown",
   "metadata": {},
   "source": [
    " ### Report"
   ]
  },
  {
   "cell_type": "code",
   "execution_count": 7,
   "metadata": {},
   "outputs": [],
   "source": [
    "\n",
    "# =========================================================================\n",
    "# =========================================================================\n",
    "# ============================= DF REPORT =================================\n",
    "# =========================================================================\n",
    "# =========================================================================\n",
    "def report_df(df, header):\n",
    "    # Calculate the total number of rows\n",
    "    rdd_count = df.count()\n",
    "\n",
    "    # Initialize lists to store column statistics\n",
    "    col_names = []\n",
    "    data_types = []\n",
    "    unique_samples = []\n",
    "    num_uniques = []\n",
    "    nan_percentages = []\n",
    "    report_data = []\n",
    "\n",
    "    # Iterate over each column\n",
    "    for col_name in header:\n",
    "        print(col_name)\n",
    "        # Append column name\n",
    "        col_names.append(col_name)\n",
    "        selected_col = col(col_name)\n",
    "        selected_col_df = df.select(selected_col)\n",
    "\n",
    "        # Determine data type\n",
    "        dtype = selected_col_df.dtypes[0][1]\n",
    "        data_types.append(dtype)\n",
    "        distinct_df = selected_col_df.distinct()\n",
    "        # Collect unique values\n",
    "        unique_sample = [row[col_name] for row in distinct_df.limit(2).collect()]\n",
    "        unique_samples.append(unique_sample)\n",
    "\n",
    "        # Count number of unique values\n",
    "        n_unique = distinct_df.count()\n",
    "        num_uniques.append(n_unique)\n",
    "\n",
    "        # Calculate percentage of NaN values\n",
    "        none_percentage_val = df.filter(selected_col.isNull()).count() / rdd_count * 100\n",
    "        nan_percentages.append(none_percentage_val)\n",
    "        report_data.append([col_name, dtype, unique_sample, n_unique, none_percentage_val])\n",
    "\n",
    "    return report_data\n"
   ]
  },
  {
   "cell_type": "code",
   "execution_count": 8,
   "metadata": {},
   "outputs": [
    {
     "name": "stdout",
     "output_type": "stream",
     "text": [
      "LoanNr_ChkDgt\n",
      "Name\n",
      "City\n",
      "State\n",
      "Zip\n",
      "Bank\n",
      "BankState\n",
      "NAICS\n",
      "ApprovalDate\n",
      "ApprovalFY\n",
      "Term\n",
      "NoEmp\n",
      "NewExist\n",
      "CreateJob\n",
      "RetainedJob\n",
      "FranchiseCode\n",
      "UrbanRural\n",
      "RevLineCr\n",
      "LowDoc\n",
      "ChgOffDate\n"
     ]
    },
    {
     "name": "stderr",
     "output_type": "stream",
     "text": [
      "ERROR:root:KeyboardInterrupt while sending command.\n",
      "Traceback (most recent call last):\n",
      "  File \"c:\\Users\\bemoi\\miniconda3\\envs\\v38_env\\lib\\site-packages\\py4j\\java_gateway.py\", line 1038, in send_command\n",
      "    response = connection.send_command(command)\n",
      "  File \"c:\\Users\\bemoi\\miniconda3\\envs\\v38_env\\lib\\site-packages\\py4j\\clientserver.py\", line 511, in send_command\n",
      "    answer = smart_decode(self.stream.readline()[:-1])\n",
      "  File \"c:\\Users\\bemoi\\miniconda3\\envs\\v38_env\\lib\\socket.py\", line 669, in readinto\n",
      "    return self._sock.recv_into(b)\n",
      "KeyboardInterrupt\n"
     ]
    },
    {
     "ename": "KeyboardInterrupt",
     "evalue": "",
     "output_type": "error",
     "traceback": [
      "\u001b[1;31m---------------------------------------------------------------------------\u001b[0m",
      "\u001b[1;31mKeyboardInterrupt\u001b[0m                         Traceback (most recent call last)",
      "Cell \u001b[1;32mIn[8], line 2\u001b[0m\n\u001b[0;32m      1\u001b[0m \u001b[38;5;66;03m# %%\u001b[39;00m\n\u001b[1;32m----> 2\u001b[0m report_res \u001b[38;5;241m=\u001b[39m \u001b[43mreport_df\u001b[49m\u001b[43m(\u001b[49m\u001b[43mloan_df\u001b[49m\u001b[43m,\u001b[49m\u001b[43m \u001b[49m\u001b[43mloan_df\u001b[49m\u001b[38;5;241;43m.\u001b[39;49m\u001b[43mcolumns\u001b[49m\u001b[43m)\u001b[49m\n",
      "Cell \u001b[1;32mIn[7], line 32\u001b[0m, in \u001b[0;36mreport_df\u001b[1;34m(df, header)\u001b[0m\n\u001b[0;32m     30\u001b[0m distinct_df \u001b[38;5;241m=\u001b[39m selected_col_df\u001b[38;5;241m.\u001b[39mdistinct()\n\u001b[0;32m     31\u001b[0m \u001b[38;5;66;03m# Collect unique values\u001b[39;00m\n\u001b[1;32m---> 32\u001b[0m unique_sample \u001b[38;5;241m=\u001b[39m [row[col_name] \u001b[38;5;28;01mfor\u001b[39;00m row \u001b[38;5;129;01min\u001b[39;00m \u001b[43mdistinct_df\u001b[49m\u001b[38;5;241;43m.\u001b[39;49m\u001b[43mlimit\u001b[49m\u001b[43m(\u001b[49m\u001b[38;5;241;43m2\u001b[39;49m\u001b[43m)\u001b[49m\u001b[38;5;241;43m.\u001b[39;49m\u001b[43mcollect\u001b[49m\u001b[43m(\u001b[49m\u001b[43m)\u001b[49m]\n\u001b[0;32m     33\u001b[0m unique_samples\u001b[38;5;241m.\u001b[39mappend(unique_sample)\n\u001b[0;32m     35\u001b[0m \u001b[38;5;66;03m# Count number of unique values\u001b[39;00m\n",
      "File \u001b[1;32mc:\\Users\\bemoi\\miniconda3\\envs\\v38_env\\lib\\site-packages\\pyspark\\sql\\dataframe.py:1261\u001b[0m, in \u001b[0;36mDataFrame.collect\u001b[1;34m(self)\u001b[0m\n\u001b[0;32m   1241\u001b[0m \u001b[38;5;250m\u001b[39m\u001b[38;5;124;03m\"\"\"Returns all the records as a list of :class:`Row`.\u001b[39;00m\n\u001b[0;32m   1242\u001b[0m \n\u001b[0;32m   1243\u001b[0m \u001b[38;5;124;03m.. versionadded:: 1.3.0\u001b[39;00m\n\u001b[1;32m   (...)\u001b[0m\n\u001b[0;32m   1258\u001b[0m \u001b[38;5;124;03m[Row(age=14, name='Tom'), Row(age=23, name='Alice'), Row(age=16, name='Bob')]\u001b[39;00m\n\u001b[0;32m   1259\u001b[0m \u001b[38;5;124;03m\"\"\"\u001b[39;00m\n\u001b[0;32m   1260\u001b[0m \u001b[38;5;28;01mwith\u001b[39;00m SCCallSiteSync(\u001b[38;5;28mself\u001b[39m\u001b[38;5;241m.\u001b[39m_sc):\n\u001b[1;32m-> 1261\u001b[0m     sock_info \u001b[38;5;241m=\u001b[39m \u001b[38;5;28;43mself\u001b[39;49m\u001b[38;5;241;43m.\u001b[39;49m\u001b[43m_jdf\u001b[49m\u001b[38;5;241;43m.\u001b[39;49m\u001b[43mcollectToPython\u001b[49m\u001b[43m(\u001b[49m\u001b[43m)\u001b[49m\n\u001b[0;32m   1262\u001b[0m \u001b[38;5;28;01mreturn\u001b[39;00m \u001b[38;5;28mlist\u001b[39m(_load_from_socket(sock_info, BatchedSerializer(CPickleSerializer())))\n",
      "File \u001b[1;32mc:\\Users\\bemoi\\miniconda3\\envs\\v38_env\\lib\\site-packages\\py4j\\java_gateway.py:1321\u001b[0m, in \u001b[0;36mJavaMember.__call__\u001b[1;34m(self, *args)\u001b[0m\n\u001b[0;32m   1314\u001b[0m args_command, temp_args \u001b[38;5;241m=\u001b[39m \u001b[38;5;28mself\u001b[39m\u001b[38;5;241m.\u001b[39m_build_args(\u001b[38;5;241m*\u001b[39margs)\n\u001b[0;32m   1316\u001b[0m command \u001b[38;5;241m=\u001b[39m proto\u001b[38;5;241m.\u001b[39mCALL_COMMAND_NAME \u001b[38;5;241m+\u001b[39m\\\n\u001b[0;32m   1317\u001b[0m     \u001b[38;5;28mself\u001b[39m\u001b[38;5;241m.\u001b[39mcommand_header \u001b[38;5;241m+\u001b[39m\\\n\u001b[0;32m   1318\u001b[0m     args_command \u001b[38;5;241m+\u001b[39m\\\n\u001b[0;32m   1319\u001b[0m     proto\u001b[38;5;241m.\u001b[39mEND_COMMAND_PART\n\u001b[1;32m-> 1321\u001b[0m answer \u001b[38;5;241m=\u001b[39m \u001b[38;5;28;43mself\u001b[39;49m\u001b[38;5;241;43m.\u001b[39;49m\u001b[43mgateway_client\u001b[49m\u001b[38;5;241;43m.\u001b[39;49m\u001b[43msend_command\u001b[49m\u001b[43m(\u001b[49m\u001b[43mcommand\u001b[49m\u001b[43m)\u001b[49m\n\u001b[0;32m   1322\u001b[0m return_value \u001b[38;5;241m=\u001b[39m get_return_value(\n\u001b[0;32m   1323\u001b[0m     answer, \u001b[38;5;28mself\u001b[39m\u001b[38;5;241m.\u001b[39mgateway_client, \u001b[38;5;28mself\u001b[39m\u001b[38;5;241m.\u001b[39mtarget_id, \u001b[38;5;28mself\u001b[39m\u001b[38;5;241m.\u001b[39mname)\n\u001b[0;32m   1325\u001b[0m \u001b[38;5;28;01mfor\u001b[39;00m temp_arg \u001b[38;5;129;01min\u001b[39;00m temp_args:\n",
      "File \u001b[1;32mc:\\Users\\bemoi\\miniconda3\\envs\\v38_env\\lib\\site-packages\\py4j\\java_gateway.py:1038\u001b[0m, in \u001b[0;36mGatewayClient.send_command\u001b[1;34m(self, command, retry, binary)\u001b[0m\n\u001b[0;32m   1036\u001b[0m connection \u001b[38;5;241m=\u001b[39m \u001b[38;5;28mself\u001b[39m\u001b[38;5;241m.\u001b[39m_get_connection()\n\u001b[0;32m   1037\u001b[0m \u001b[38;5;28;01mtry\u001b[39;00m:\n\u001b[1;32m-> 1038\u001b[0m     response \u001b[38;5;241m=\u001b[39m \u001b[43mconnection\u001b[49m\u001b[38;5;241;43m.\u001b[39;49m\u001b[43msend_command\u001b[49m\u001b[43m(\u001b[49m\u001b[43mcommand\u001b[49m\u001b[43m)\u001b[49m\n\u001b[0;32m   1039\u001b[0m     \u001b[38;5;28;01mif\u001b[39;00m binary:\n\u001b[0;32m   1040\u001b[0m         \u001b[38;5;28;01mreturn\u001b[39;00m response, \u001b[38;5;28mself\u001b[39m\u001b[38;5;241m.\u001b[39m_create_connection_guard(connection)\n",
      "File \u001b[1;32mc:\\Users\\bemoi\\miniconda3\\envs\\v38_env\\lib\\site-packages\\py4j\\clientserver.py:511\u001b[0m, in \u001b[0;36mClientServerConnection.send_command\u001b[1;34m(self, command)\u001b[0m\n\u001b[0;32m    509\u001b[0m \u001b[38;5;28;01mtry\u001b[39;00m:\n\u001b[0;32m    510\u001b[0m     \u001b[38;5;28;01mwhile\u001b[39;00m \u001b[38;5;28;01mTrue\u001b[39;00m:\n\u001b[1;32m--> 511\u001b[0m         answer \u001b[38;5;241m=\u001b[39m smart_decode(\u001b[38;5;28;43mself\u001b[39;49m\u001b[38;5;241;43m.\u001b[39;49m\u001b[43mstream\u001b[49m\u001b[38;5;241;43m.\u001b[39;49m\u001b[43mreadline\u001b[49m\u001b[43m(\u001b[49m\u001b[43m)\u001b[49m[:\u001b[38;5;241m-\u001b[39m\u001b[38;5;241m1\u001b[39m])\n\u001b[0;32m    512\u001b[0m         logger\u001b[38;5;241m.\u001b[39mdebug(\u001b[38;5;124m\"\u001b[39m\u001b[38;5;124mAnswer received: \u001b[39m\u001b[38;5;132;01m{0}\u001b[39;00m\u001b[38;5;124m\"\u001b[39m\u001b[38;5;241m.\u001b[39mformat(answer))\n\u001b[0;32m    513\u001b[0m         \u001b[38;5;66;03m# Happens when a the other end is dead. There might be an empty\u001b[39;00m\n\u001b[0;32m    514\u001b[0m         \u001b[38;5;66;03m# answer before the socket raises an error.\u001b[39;00m\n",
      "File \u001b[1;32mc:\\Users\\bemoi\\miniconda3\\envs\\v38_env\\lib\\socket.py:669\u001b[0m, in \u001b[0;36mSocketIO.readinto\u001b[1;34m(self, b)\u001b[0m\n\u001b[0;32m    667\u001b[0m \u001b[38;5;28;01mwhile\u001b[39;00m \u001b[38;5;28;01mTrue\u001b[39;00m:\n\u001b[0;32m    668\u001b[0m     \u001b[38;5;28;01mtry\u001b[39;00m:\n\u001b[1;32m--> 669\u001b[0m         \u001b[38;5;28;01mreturn\u001b[39;00m \u001b[38;5;28;43mself\u001b[39;49m\u001b[38;5;241;43m.\u001b[39;49m\u001b[43m_sock\u001b[49m\u001b[38;5;241;43m.\u001b[39;49m\u001b[43mrecv_into\u001b[49m\u001b[43m(\u001b[49m\u001b[43mb\u001b[49m\u001b[43m)\u001b[49m\n\u001b[0;32m    670\u001b[0m     \u001b[38;5;28;01mexcept\u001b[39;00m timeout:\n\u001b[0;32m    671\u001b[0m         \u001b[38;5;28mself\u001b[39m\u001b[38;5;241m.\u001b[39m_timeout_occurred \u001b[38;5;241m=\u001b[39m \u001b[38;5;28;01mTrue\u001b[39;00m\n",
      "\u001b[1;31mKeyboardInterrupt\u001b[0m: "
     ]
    }
   ],
   "source": [
    "\n",
    "report_res = report_df(loan_df, loan_df.columns)\n",
    "\n"
   ]
  },
  {
   "cell_type": "code",
   "execution_count": null,
   "metadata": {},
   "outputs": [],
   "source": [
    "\n",
    "\n",
    "# Display the result\n",
    "column_names = ['Column', 'Type', 'Unique Sample', 'N Unique', '%None']\n",
    "print(tabulate(report_res, headers=column_names, tablefmt='grid'))\n"
   ]
  },
  {
   "cell_type": "code",
   "execution_count": null,
   "metadata": {},
   "outputs": [],
   "source": [
    "\n",
    "def show_percentage_of_each_value_in_column(df, df_count,col_name):\n",
    "    # Calculate percentage of 0s and 1s\n",
    "    percentage_df = df.groupBy(col_name).agg((count(\"*\") / df_count).alias(\"Percentage\"))\n",
    "\n",
    "    # Round percentage values to two decimal places\n",
    "    percentage_df = percentage_df.withColumn(\"Percentage\", round(col(\"Percentage\") * 100, 2))\n",
    "\n",
    "    # sort the dataframe by percentage descending\n",
    "    percentage_df = percentage_df.sort(col(\"Percentage\").desc())\n",
    "\n",
    "    # Show result\n",
    "    percentage_df.show()\n"
   ]
  },
  {
   "cell_type": "markdown",
   "metadata": {},
   "source": [
    " ### 1. LoanNr_ChkDgt - ID\n",
    "\n",
    " Drop the column as it is an ID column and does not provide any information for the analysis."
   ]
  },
  {
   "cell_type": "code",
   "execution_count": null,
   "metadata": {},
   "outputs": [],
   "source": [
    "\n",
    "loan_df = loan_df.drop('LoanNr_ChkDgt')\n"
   ]
  },
  {
   "cell_type": "markdown",
   "metadata": {},
   "source": [
    " ### 2. Name - Name of Borrower\n",
    "\n",
    " Drop the column as it is a name column and does not provide any information for the analysis."
   ]
  },
  {
   "cell_type": "code",
   "execution_count": null,
   "metadata": {},
   "outputs": [],
   "source": [
    "\n",
    "col_name = 'Name'\n",
    "show_percentage_of_each_value_in_column(loan_df, loan_df_count,col_name)\n",
    "\n"
   ]
  },
  {
   "cell_type": "code",
   "execution_count": null,
   "metadata": {},
   "outputs": [],
   "source": [
    "\n",
    "# percentage of unique values in the city\n",
    "city_unique_count = loan_df.select(col_name).distinct().count()\n",
    "print(f\"Number of unique values in City: {city_unique_count}\")\n",
    "city_percentage = city_unique_count / loan_df_count * 100\n",
    "print(f\"Percentage of unique values in City: {city_percentage:.2f}%\")\n"
   ]
  },
  {
   "cell_type": "markdown",
   "metadata": {},
   "source": [
    " Drop as most of the names are unique"
   ]
  },
  {
   "cell_type": "code",
   "execution_count": null,
   "metadata": {},
   "outputs": [],
   "source": [
    "\n",
    "loan_df = loan_df.drop('Name')\n"
   ]
  },
  {
   "cell_type": "markdown",
   "metadata": {},
   "source": [
    " ### 3. City - City of Borrower\n",
    "\n"
   ]
  },
  {
   "cell_type": "code",
   "execution_count": null,
   "metadata": {},
   "outputs": [],
   "source": [
    "\n",
    "# Count the occurrences of each value in city column\n",
    "col_name = 'City'\n",
    "show_percentage_of_each_value_in_column(loan_df, loan_df_count,col_name)\n"
   ]
  },
  {
   "cell_type": "code",
   "execution_count": null,
   "metadata": {},
   "outputs": [],
   "source": [
    "\n",
    "# percentage of unique values in the city\n",
    "city_unique_count = loan_df.select(col_name).distinct().count()\n",
    "print(f\"Number of unique values in City: {city_unique_count}\")\n",
    "city_percentage = city_unique_count / loan_df_count * 100\n",
    "print(f\"Percentage of unique values in City: {city_percentage:.2f}%\")\n"
   ]
  },
  {
   "cell_type": "code",
   "execution_count": null,
   "metadata": {},
   "outputs": [],
   "source": [
    "\n",
    "unique_city_df = loan_df.select(col_name).groupBy(col_name).agg((count(\"*\")).alias(\"Count\")).sort(col(\"Count\").desc())\n",
    "unique_city_df.show()\n"
   ]
  },
  {
   "cell_type": "code",
   "execution_count": null,
   "metadata": {},
   "outputs": [],
   "source": [
    "\n",
    "# delete null values\n",
    "loan_df = loan_df.dropna(subset=[col_name])\n",
    "\n"
   ]
  },
  {
   "cell_type": "markdown",
   "metadata": {},
   "source": [
    " ### 4. State - State of Borrower"
   ]
  },
  {
   "cell_type": "code",
   "execution_count": null,
   "metadata": {},
   "outputs": [],
   "source": [
    "\n",
    "col_name = 'State'\n",
    "show_percentage_of_each_value_in_column(loan_df, loan_df_count,col_name)\n"
   ]
  },
  {
   "cell_type": "code",
   "execution_count": null,
   "metadata": {},
   "outputs": [],
   "source": [
    "\n",
    "# percentage of unique values in the city\n",
    "state_unique_count = loan_df.select(col_name).distinct().count()\n",
    "print(f\"Number of unique values in State: {state_unique_count}\")\n",
    "state_percentage = state_unique_count / loan_df_count * 100\n",
    "print(f\"Percentage of unique values in State: {state_percentage:.2f}%\")\n"
   ]
  },
  {
   "cell_type": "code",
   "execution_count": null,
   "metadata": {},
   "outputs": [],
   "source": [
    "\n",
    "# delete nulls\n",
    "loan_df = loan_df.dropna(subset=[col_name])\n",
    "\n"
   ]
  },
  {
   "cell_type": "markdown",
   "metadata": {},
   "source": [
    " ### 5. Zip - Zip code of Borrower"
   ]
  },
  {
   "cell_type": "code",
   "execution_count": null,
   "metadata": {},
   "outputs": [],
   "source": [
    "\n",
    "col_name = 'Zip'\n",
    "show_percentage_of_each_value_in_column(loan_df, loan_df_count,col_name)\n"
   ]
  },
  {
   "cell_type": "code",
   "execution_count": null,
   "metadata": {},
   "outputs": [],
   "source": [
    "\n",
    "# percentage of unique values in the city\n",
    "zip_unique_count = loan_df.select(col_name).distinct().count()\n",
    "print(f\"Number of unique values in Zip: {zip_unique_count}\")\n",
    "zip_percentage = zip_unique_count / loan_df_count * 100\n",
    "print(f\"Percentage of unique values in Zip: {zip_percentage:.2f}%\")\n"
   ]
  },
  {
   "cell_type": "code",
   "execution_count": null,
   "metadata": {},
   "outputs": [],
   "source": [
    "\n",
    "unique_zip_df = loan_df.select(col_name).groupBy(col_name).agg((count(\"*\")).alias(\"Count\")).sort(col(\"Count\").desc())\n",
    "unique_zip_df.show()\n"
   ]
  },
  {
   "cell_type": "code",
   "execution_count": null,
   "metadata": {},
   "outputs": [],
   "source": [
    "\n",
    "loan_df = loan_df.drop(\"col_name\")\n"
   ]
  },
  {
   "cell_type": "markdown",
   "metadata": {},
   "source": [
    " ### 6. Bank - Name of the bank that gave the loan"
   ]
  },
  {
   "cell_type": "code",
   "execution_count": null,
   "metadata": {},
   "outputs": [],
   "source": [
    "\n",
    "col_name = 'Bank'\n",
    "show_percentage_of_each_value_in_column(loan_df, loan_df_count,col_name)\n",
    "loan_df = loan_df.dropna(subset=[col_name])\n",
    "\n",
    "# percentage of unique values in the city\n",
    "bank_unique_count = loan_df.select(col_name).distinct().count()\n",
    "print(f\"Number of unique values in Zip: {bank_unique_count}\")\n",
    "bank_percentage = bank_unique_count / loan_df_count * 100\n",
    "print(f\"Percentage of unique values in Zip: {bank_percentage:.2f}%\")\n"
   ]
  },
  {
   "cell_type": "markdown",
   "metadata": {},
   "source": [
    " ### 7. BankState - State of Bank"
   ]
  },
  {
   "cell_type": "code",
   "execution_count": null,
   "metadata": {},
   "outputs": [],
   "source": [
    "\n",
    "col_name = 'BankState'\n",
    "show_percentage_of_each_value_in_column(loan_df, loan_df_count,col_name)\n",
    "loan_df = loan_df.dropna(subset=[col_name])\n",
    "\n",
    "# percentage of unique values in the city\n",
    "bankState_unique_count = loan_df.select(col_name).distinct().count()\n",
    "print(f\"Number of unique values in Zip: {bankState_unique_count}\")\n",
    "bankState_percentage = bankState_unique_count / loan_df_count * 100\n",
    "print(f\"Percentage of unique values in Zip: {bankState_percentage:.2f}%\")\n"
   ]
  },
  {
   "cell_type": "markdown",
   "metadata": {},
   "source": [
    " ### 8. NAICS - North American Industry Classification System code for the industry where the business is located"
   ]
  },
  {
   "cell_type": "code",
   "execution_count": null,
   "metadata": {},
   "outputs": [],
   "source": [
    "\n",
    "col_name='NAICS'\n",
    "show_percentage_of_each_value_in_column(loan_df, loan_df_count,col_name)\n"
   ]
  },
  {
   "cell_type": "code",
   "execution_count": null,
   "metadata": {},
   "outputs": [],
   "source": [
    "\n",
    "# percentage of unique values in the city\n",
    "zip_unique_count = loan_df.select(col_name).distinct().count()\n",
    "print(f\"Number of unique values in Zip: {zip_unique_count}\")\n",
    "zip_percentage = zip_unique_count / loan_df_count * 100\n",
    "print(f\"Percentage of unique values in Zip: {zip_percentage:.2f}%\")\n"
   ]
  },
  {
   "cell_type": "code",
   "execution_count": null,
   "metadata": {},
   "outputs": [],
   "source": [
    "\n",
    "# # Convert NAICS code into related sector\n",
    "\n",
    "# Extract first two characters of NAICS code\n",
    "first_two_chars = substring(loan_df[\"NAICS\"], 1, 2)\n",
    "# print(first_two_chars)[0]\n",
    "\n",
    "# Apply mapping using when and otherwise\n",
    "loan_df = loan_df.withColumn(\"Sector\",\n",
    "    first_two_chars\n",
    ")\n",
    "loan_df = loan_df.drop(\"NAICS\")\n",
    "col_name='Sector'\n",
    "# # Function to get the sector for a given NAICS code\n",
    "# def get_sector(naics_code):\n",
    "#     return naics_to_sector[str(naics_code)]\n",
    "\n",
    "# # Register UDF\n",
    "# get_sector_udf = udf(get_sector, StringType())\n",
    "\n",
    "# # Apply UDF to create a new column 'Sector'\n",
    "# loan_df = loan_df.withColumn(\"Sector\", get_sector_udf(loan_df[\"Sector\"]))\n",
    "show_percentage_of_each_value_in_column(loan_df, loan_df_count,col_name)\n"
   ]
  },
  {
   "cell_type": "code",
   "execution_count": null,
   "metadata": {},
   "outputs": [],
   "source": [
    "\n",
    "naics_to_sector = {\n",
    "    '11': 'Agriculture, Forestry, Fishing and Hunting',\n",
    "    '21': 'Mining, Quarrying, and Oil and Gas Extraction',\n",
    "    '22': 'Utilities',\n",
    "    '23': 'Construction',\n",
    "    '31-33': 'Manufacturing',\n",
    "    '42': 'Wholesale Trade',\n",
    "    '44-45': 'Retail Trade',\n",
    "    '48-49': 'Transportation and Warehousing',\n",
    "    '51': 'Information',\n",
    "    '52': 'Finance and Insurance',\n",
    "    '53': 'Real Estate and Rental and Leasing',\n",
    "    '54': 'Professional, Scientific, and Technical Services',\n",
    "    '55': 'Management of Companies and Enterprises',\n",
    "    '56': 'Administrative and Support and Waste Management and Remediation Services',\n",
    "    '61': 'Educational Services',\n",
    "    '62': 'Health Care and Social Assistance',\n",
    "    '71': 'Arts, Entertainment, and Recreation',\n",
    "    '72': 'Accommodation and Food Services',\n",
    "    '81': 'Other Services (except Public Administration)',\n",
    "    '92': 'Public Administration'\n",
    "}\n",
    "col_name='Sector'\n",
    "\n",
    "loan_df = loan_df.withColumn(col_name, \n",
    "                   when(col(col_name) == 32, 31)\n",
    "                   .when(col(col_name) == 33, 31)\n",
    "                   .when(col(col_name) == 45, 44)\n",
    "                   .when(col(col_name) == 49, 48))\n",
    "\n",
    "# loan_df = loan_df.withColumn(col_name, \n",
    "#                    when(col(col_name) == \"Y\", 1)\n",
    "#                    .otherwise(0)\n",
    "#                    .cast(\"int\"))\n"
   ]
  },
  {
   "cell_type": "code",
   "execution_count": null,
   "metadata": {},
   "outputs": [],
   "source": [
    "\n",
    "loan_df.show(5)\n"
   ]
  },
  {
   "cell_type": "markdown",
   "metadata": {},
   "source": [
    " ### 9. ApprovalDate - Date SBA commitment issued"
   ]
  },
  {
   "cell_type": "code",
   "execution_count": null,
   "metadata": {},
   "outputs": [],
   "source": [
    "\n",
    "col_name = 'ApprovalDate'\n",
    "show_percentage_of_each_value_in_column(loan_df, loan_df_count,col_name)\n"
   ]
  },
  {
   "cell_type": "code",
   "execution_count": null,
   "metadata": {},
   "outputs": [],
   "source": [
    "\n",
    "# the full date has too much detail, so we will extract the month only\n",
    "# first, remove the nulls\n",
    "col_name = 'ApprovalDate'\n",
    "print(f\"Number of rows before removing nulls: {loan_df_count}\")\n",
    "loan_df = loan_df.filter(loan_df[col_name].isNotNull())\n",
    "loan_df_count = loan_df.count()\n",
    "print(f\"Number of rows after removing nulls: {loan_df_count}\")\n",
    "# split on '-', get the second element\n",
    "loan_df = loan_df.withColumn(\"ApprovalMonth\", split(col(col_name), \"-\")[1])\n",
    "loan_df = loan_df.drop(col_name)\n",
    "col_name = 'ApprovalMonth'\n",
    "show_percentage_of_each_value_in_column(loan_df, loan_df_count,\"ApprovalMonth\")\n"
   ]
  },
  {
   "cell_type": "markdown",
   "metadata": {},
   "source": [
    " ### 10. ApprovalFY - Fiscal Year of commitment\n",
    "\n",
    " Drop the column as it is a date column and does not provide any information for the analysis."
   ]
  },
  {
   "cell_type": "code",
   "execution_count": null,
   "metadata": {},
   "outputs": [],
   "source": [
    "\n",
    "loan_df = loan_df.drop('ApprovalFY')\n"
   ]
  },
  {
   "cell_type": "markdown",
   "metadata": {},
   "source": [
    " ### 11. Term - Loan term in months"
   ]
  },
  {
   "cell_type": "code",
   "execution_count": null,
   "metadata": {},
   "outputs": [],
   "source": [
    "\n",
    "col_name = 'Term'\n",
    "show_percentage_of_each_value_in_column(loan_df, loan_df_count,col_name)\n"
   ]
  },
  {
   "cell_type": "code",
   "execution_count": null,
   "metadata": {},
   "outputs": [],
   "source": [
    "\n",
    "# percentage of unique values in the city\n",
    "term_unique_count = loan_df.select(col_name).distinct().count()\n",
    "print(f\"Number of unique values in Zip: {term_unique_count}\")\n",
    "term_percentage = term_unique_count / loan_df_count * 100\n",
    "print(f\"Percentage of unique values in Zip: {term_percentage:.2f}%\")\n"
   ]
  },
  {
   "cell_type": "code",
   "execution_count": null,
   "metadata": {},
   "outputs": [],
   "source": [
    "\n",
    "loan_df = loan_df.withColumn(\"Term_category\", \n",
    "                             when((col(col_name) <=90),'Below 3 months')\n",
    "                             .when(((col(col_name)>90) & (col(col_name)<=180)), '3-6 months')\n",
    "                             .when(((col(col_name)>180) & (col(col_name)<=365)),  '6-12 months')\n",
    "                             .otherwise('More Than a Year'))\n",
    "loan_df = loan_df.drop(col_name)\n"
   ]
  },
  {
   "cell_type": "code",
   "execution_count": null,
   "metadata": {},
   "outputs": [],
   "source": [
    "\n",
    "col_name = \"Term_category\"\n",
    "show_percentage_of_each_value_in_column(loan_df, loan_df_count,col_name)\n"
   ]
  },
  {
   "cell_type": "markdown",
   "metadata": {},
   "source": [
    " ### 12. NoEmp - Number of Business Employees"
   ]
  },
  {
   "cell_type": "code",
   "execution_count": null,
   "metadata": {},
   "outputs": [],
   "source": [
    "\n",
    "col_name = 'NoEmp'\n",
    "show_percentage_of_each_value_in_column(loan_df, loan_df_count,col_name)\n"
   ]
  },
  {
   "cell_type": "code",
   "execution_count": null,
   "metadata": {},
   "outputs": [],
   "source": [
    "\n",
    "# percentage of unique values in the city\n",
    "zip_unique_count = loan_df.select(col_name).distinct().count()\n",
    "print(f\"Number of unique values in Zip: {zip_unique_count}\")\n",
    "zip_percentage = zip_unique_count / loan_df_count * 100\n",
    "print(f\"Percentage of unique values in Zip: {zip_percentage:.2f}%\")\n"
   ]
  },
  {
   "cell_type": "markdown",
   "metadata": {},
   "source": [
    " ### 13. NewExist - 1 = Existing business, 2 = New business"
   ]
  },
  {
   "cell_type": "code",
   "execution_count": null,
   "metadata": {},
   "outputs": [],
   "source": [
    "\n",
    "col_name = 'NewExist'\n",
    "show_percentage_of_each_value_in_column(loan_df, loan_df_count,col_name)\n"
   ]
  },
  {
   "cell_type": "markdown",
   "metadata": {},
   "source": [
    " Drop rows with 0 or Null"
   ]
  },
  {
   "cell_type": "code",
   "execution_count": null,
   "metadata": {},
   "outputs": [],
   "source": [
    "\n",
    "col_name = 'NewExist'\n",
    "print(f\"Number of rows before removing 0s and nulls: {loan_df_count}\")\n",
    "loan_df = loan_df.filter(loan_df[col_name] != 0)\n",
    "loan_df = loan_df.filter(loan_df[col_name].isNotNull())\n",
    "loan_df_count = loan_df.count()\n",
    "print(f\"Number of rows after removing 0s and nulls: {loan_df_count}\")\n"
   ]
  },
  {
   "cell_type": "code",
   "execution_count": null,
   "metadata": {},
   "outputs": [],
   "source": [
    "\n",
    "show_percentage_of_each_value_in_column(loan_df, loan_df_count,col_name)\n"
   ]
  },
  {
   "cell_type": "code",
   "execution_count": null,
   "metadata": {},
   "outputs": [],
   "source": [
    "\n",
    "loan_df = loan_df.withColumn(col_name, \n",
    "                   when(col(col_name) == \"2\", 1)\n",
    "                   .otherwise(0)\n",
    "                   .cast(\"int\"))\n"
   ]
  },
  {
   "cell_type": "code",
   "execution_count": null,
   "metadata": {},
   "outputs": [],
   "source": [
    "\n",
    "show_percentage_of_each_value_in_column(loan_df, loan_df_count,col_name)\n"
   ]
  },
  {
   "cell_type": "markdown",
   "metadata": {},
   "source": [
    " ### 14. CreateJob - Number of jobs created"
   ]
  },
  {
   "cell_type": "code",
   "execution_count": null,
   "metadata": {},
   "outputs": [],
   "source": [
    "\n",
    "col_name='CreateJob'\n",
    "show_percentage_of_each_value_in_column(loan_df, loan_df_count,col_name)\n"
   ]
  },
  {
   "cell_type": "code",
   "execution_count": null,
   "metadata": {},
   "outputs": [],
   "source": [
    "\n",
    "# loan_df = loan_df.drop(col_name)\n"
   ]
  },
  {
   "cell_type": "markdown",
   "metadata": {},
   "source": [
    " ### 15. RetainedJob - Number of jobs retained"
   ]
  },
  {
   "cell_type": "code",
   "execution_count": null,
   "metadata": {},
   "outputs": [],
   "source": [
    "\n",
    "col_name='RetainedJob'\n",
    "show_percentage_of_each_value_in_column(loan_df, loan_df_count,col_name)\n"
   ]
  },
  {
   "cell_type": "code",
   "execution_count": null,
   "metadata": {},
   "outputs": [],
   "source": [
    "\n",
    "loan_df = loan_df.drop(col_name)\n"
   ]
  },
  {
   "cell_type": "markdown",
   "metadata": {},
   "source": [
    " ### 16. FranchiseCode - Franchise code, (00000 or 00001) = No franchise"
   ]
  },
  {
   "cell_type": "code",
   "execution_count": null,
   "metadata": {},
   "outputs": [],
   "source": [
    "\n",
    "col_name='FranchiseCode'\n",
    "show_percentage_of_each_value_in_column(loan_df, loan_df_count,col_name)\n"
   ]
  },
  {
   "cell_type": "markdown",
   "metadata": {},
   "source": [
    " We don't care about the franchise code, we only care if there is a franchise or not"
   ]
  },
  {
   "cell_type": "code",
   "execution_count": null,
   "metadata": {},
   "outputs": [],
   "source": [
    "\n",
    "# make 0 or 1 = 0, anything else = 1\n",
    "loan_df = loan_df.withColumn(\"IsFranchise\", when((col(col_name) == 0) | (col(col_name) == 1), 0).otherwise(1))\n"
   ]
  },
  {
   "cell_type": "code",
   "execution_count": null,
   "metadata": {},
   "outputs": [],
   "source": [
    "\n",
    "col_name = 'IsFranchise'\n",
    "show_percentage_of_each_value_in_column(loan_df, loan_df_count,col_name)\n"
   ]
  },
  {
   "cell_type": "code",
   "execution_count": null,
   "metadata": {},
   "outputs": [],
   "source": [
    "\n",
    "loan_df = loan_df.drop('FranchiseCode')\n"
   ]
  },
  {
   "cell_type": "markdown",
   "metadata": {},
   "source": [
    " ### 17. UrbanRural - 1 = Urban, 2 = rural, 0 = undefined"
   ]
  },
  {
   "cell_type": "code",
   "execution_count": null,
   "metadata": {},
   "outputs": [],
   "source": [
    "\n",
    "col_name = 'UrbanRural'\n",
    "show_percentage_of_each_value_in_column(loan_df, loan_df_count,col_name)\n"
   ]
  },
  {
   "cell_type": "markdown",
   "metadata": {},
   "source": [
    " ### 18. RevLineCr - Revolving line of credit: Y = Yes, N = No"
   ]
  },
  {
   "cell_type": "code",
   "execution_count": null,
   "metadata": {},
   "outputs": [],
   "source": [
    "\n",
    "col_name = 'RevLineCr'\n",
    "show_percentage_of_each_value_in_column(loan_df, loan_df_count,col_name)\n"
   ]
  },
  {
   "cell_type": "markdown",
   "metadata": {},
   "source": [
    " Filter only N and Y"
   ]
  },
  {
   "cell_type": "code",
   "execution_count": null,
   "metadata": {},
   "outputs": [],
   "source": [
    "\n",
    "col_name = 'RevLineCr'\n",
    "print(f\"Number of rows before filtering: {loan_df_count}\")\n",
    "loan_df = loan_df.filter(loan_df[col_name].isin('N', 'Y'))\n",
    "loan_df_count = loan_df.count()\n",
    "print(f\"Number of rows after filtering: {loan_df_count}\")\n",
    "show_percentage_of_each_value_in_column(loan_df, loan_df_count,col_name)\n"
   ]
  },
  {
   "cell_type": "markdown",
   "metadata": {},
   "source": [
    " Transform N and Y to 0 and 1"
   ]
  },
  {
   "cell_type": "code",
   "execution_count": null,
   "metadata": {},
   "outputs": [],
   "source": [
    "\n",
    "loan_df = loan_df.withColumn(col_name, \n",
    "                   when(col(col_name) == \"Y\", 1)\n",
    "                   .otherwise(0)\n",
    "                   .cast(\"int\"))\n"
   ]
  },
  {
   "cell_type": "markdown",
   "metadata": {},
   "source": [
    " ### 19. LowDoc - LowDoc Loan Program: Y = Yes, N = No"
   ]
  },
  {
   "cell_type": "code",
   "execution_count": null,
   "metadata": {},
   "outputs": [],
   "source": [
    "\n",
    "col_name = \"LowDoc\"\n",
    "show_percentage_of_each_value_in_column(loan_df, loan_df_count,col_name)\n"
   ]
  },
  {
   "cell_type": "markdown",
   "metadata": {},
   "source": [
    " Filter only N and Y"
   ]
  },
  {
   "cell_type": "code",
   "execution_count": null,
   "metadata": {},
   "outputs": [],
   "source": [
    "\n",
    "col_name = 'LowDoc'\n",
    "print(f\"Number of rows before filtering: {loan_df_count}\")\n",
    "loan_df = loan_df.filter(loan_df[col_name].isin('N', 'Y'))\n",
    "loan_df_count = loan_df.count()\n",
    "print(f\"Number of rows after filtering: {loan_df_count}\")\n",
    "show_percentage_of_each_value_in_column(loan_df, loan_df_count,col_name)\n"
   ]
  },
  {
   "cell_type": "markdown",
   "metadata": {},
   "source": [
    " Transform N and Y to 0 and 1"
   ]
  },
  {
   "cell_type": "code",
   "execution_count": null,
   "metadata": {},
   "outputs": [],
   "source": [
    "\n",
    "loan_df = loan_df.withColumn(col_name, \n",
    "                   when(col(col_name) == \"Y\", 1)\n",
    "                   .otherwise(0)\n",
    "                   .cast(\"int\"))\n"
   ]
  },
  {
   "cell_type": "markdown",
   "metadata": {},
   "source": [
    " ### 20. ChgOffDate - The date when a loan is declared to be in default\n",
    "\n",
    " Drop the column due to the high number of missing values."
   ]
  },
  {
   "cell_type": "code",
   "execution_count": null,
   "metadata": {},
   "outputs": [],
   "source": [
    "\n",
    "loan_df = loan_df.drop('ChgOffDate')\n"
   ]
  },
  {
   "cell_type": "markdown",
   "metadata": {},
   "source": [
    " ### 21. DisbursementDate - Date when loan was disbursed"
   ]
  },
  {
   "cell_type": "code",
   "execution_count": null,
   "metadata": {},
   "outputs": [],
   "source": [
    "\n",
    "loan_df = loan_df.drop('DisbursementDate')\n"
   ]
  },
  {
   "cell_type": "markdown",
   "metadata": {},
   "source": [
    " ### 22. DisbursementGross - Amount disbursed"
   ]
  },
  {
   "cell_type": "code",
   "execution_count": null,
   "metadata": {},
   "outputs": [],
   "source": [
    "\n",
    "loan_df = loan_df.drop('DisbursementGross')\n"
   ]
  },
  {
   "cell_type": "markdown",
   "metadata": {},
   "source": [
    " ### 23. BalanceGross - Gross amount outstanding"
   ]
  },
  {
   "cell_type": "code",
   "execution_count": null,
   "metadata": {},
   "outputs": [],
   "source": [
    "\n",
    "col_name = 'BalanceGross'\n",
    "show_percentage_of_each_value_in_column(loan_df, loan_df_count,col_name)\n"
   ]
  },
  {
   "cell_type": "markdown",
   "metadata": {},
   "source": [
    " Drop as most of the values are 0"
   ]
  },
  {
   "cell_type": "code",
   "execution_count": null,
   "metadata": {},
   "outputs": [],
   "source": [
    "\n",
    "loan_df = loan_df.drop('BalanceGross')\n"
   ]
  },
  {
   "cell_type": "markdown",
   "metadata": {},
   "source": [
    " ### 24. MIS_Status - Target variable"
   ]
  },
  {
   "cell_type": "markdown",
   "metadata": {},
   "source": [
    " Delete rows that have null target value (MIS_Status)"
   ]
  },
  {
   "cell_type": "code",
   "execution_count": null,
   "metadata": {},
   "outputs": [],
   "source": [
    "\n",
    "col_name =\"MIS_Status\"\n",
    "show_percentage_of_each_value_in_column(loan_df, loan_df_count, col_name)\n"
   ]
  },
  {
   "cell_type": "code",
   "execution_count": null,
   "metadata": {},
   "outputs": [],
   "source": [
    "\n",
    "# drop rows with null values in MIS_Status column\n",
    "loan_df = loan_df.dropna(subset=[col_name])\n",
    "show_percentage_of_each_value_in_column(loan_df, loan_df_count, col_name)\n",
    "\n"
   ]
  },
  {
   "cell_type": "markdown",
   "metadata": {},
   "source": [
    " ### Replace target values with 0 and 1\n",
    "\n",
    " Target value column is: MIS_Status\n",
    "\n",
    " \"P I F\" = 1\n",
    "\n",
    " \"CHGOFF\" = 0"
   ]
  },
  {
   "cell_type": "code",
   "execution_count": null,
   "metadata": {},
   "outputs": [],
   "source": [
    "\n",
    "loan_df = loan_df.withColumn(col_name, \n",
    "                   when(col(col_name) == \"P I F\", 1)\n",
    "                   .otherwise(0)\n",
    "                   .cast(\"int\"))\n"
   ]
  },
  {
   "cell_type": "markdown",
   "metadata": {},
   "source": [
    " Show the percentage of:\n",
    "\n",
    " - Paid in full loans (approved loans), MIS_Status = 1\n",
    "\n",
    " - Charged off loans (rejected loans), MIS_Status = 0"
   ]
  },
  {
   "cell_type": "code",
   "execution_count": null,
   "metadata": {},
   "outputs": [],
   "source": [
    "\n",
    "show_percentage_of_each_value_in_column(loan_df, loan_df_count, col_name)\n"
   ]
  },
  {
   "cell_type": "markdown",
   "metadata": {},
   "source": [
    " ### 25. ChgOffPrinGr - Charged-off amount"
   ]
  },
  {
   "cell_type": "code",
   "execution_count": null,
   "metadata": {},
   "outputs": [],
   "source": [
    "\n",
    "col_name = 'ChgOffPrinGr'\n",
    "show_percentage_of_each_value_in_column(loan_df, loan_df_count,col_name)\n"
   ]
  },
  {
   "cell_type": "markdown",
   "metadata": {},
   "source": [
    " Drop this column as it will leak info to the column, because if the value is 0, this means that the loan is charged off"
   ]
  },
  {
   "cell_type": "code",
   "execution_count": null,
   "metadata": {},
   "outputs": [],
   "source": [
    "\n",
    "loan_df = loan_df.drop('ChgOffPrinGr')\n"
   ]
  },
  {
   "cell_type": "markdown",
   "metadata": {},
   "source": [
    " ### 26. GrAppv - Gross amount of loan approved by bank"
   ]
  },
  {
   "cell_type": "code",
   "execution_count": null,
   "metadata": {},
   "outputs": [],
   "source": [
    "\n",
    "col_name = \"GrAppv\"\n",
    "show_percentage_of_each_value_in_column(loan_df, loan_df_count,col_name)\n"
   ]
  },
  {
   "cell_type": "markdown",
   "metadata": {},
   "source": [
    " #### Clean this column\n",
    "\n",
    " - Remove $\n",
    "\n",
    " - Remove ,\n",
    "\n",
    " - Convert to float"
   ]
  },
  {
   "cell_type": "code",
   "execution_count": null,
   "metadata": {},
   "outputs": [],
   "source": [
    "\n",
    "loan_df = loan_df.withColumn(\"clean_GrAppv\", regexp_replace(\"GrAppv\", \"\\$\", \"\"))  # Remove $\n",
    "loan_df = loan_df.withColumn(\"clean_GrAppv\", regexp_replace(\"clean_GrAppv\", \",\", \"\"))  # Remove comma\n",
    "loan_df = loan_df.withColumn(\"clean_GrAppv\", col(\"clean_GrAppv\").cast(\"float\"))\n",
    "col_name = \"clean_GrAppv\"\n",
    "show_percentage_of_each_value_in_column(loan_df, loan_df_count,col_name)\n"
   ]
  },
  {
   "cell_type": "code",
   "execution_count": null,
   "metadata": {},
   "outputs": [],
   "source": [
    "\n",
    "loan_df = loan_df.drop('GrAppv')\n"
   ]
  },
  {
   "cell_type": "markdown",
   "metadata": {},
   "source": [
    " ### 27. SBA_Appv - SBA's guaranteed amount of approved loan\n",
    "\n",
    " Drop as we don't know this amount in the future"
   ]
  },
  {
   "cell_type": "code",
   "execution_count": null,
   "metadata": {},
   "outputs": [],
   "source": [
    "\n",
    "loan_df = loan_df.drop('SBA_Appv')\n"
   ]
  },
  {
   "cell_type": "markdown",
   "metadata": {},
   "source": [
    " ### Final schema"
   ]
  },
  {
   "cell_type": "code",
   "execution_count": null,
   "metadata": {},
   "outputs": [],
   "source": [
    "\n",
    "loan_df.printSchema()\n"
   ]
  },
  {
   "cell_type": "markdown",
   "metadata": {},
   "source": [
    " ### Check duplicated rows based on all columns\n",
    "\n"
   ]
  },
  {
   "cell_type": "code",
   "execution_count": null,
   "metadata": {},
   "outputs": [],
   "source": [
    "\n",
    "print(\"Number of duplicate rows in the dataframe:\")\n",
    "loan_df_duplicates = loan_df_count - loan_df.dropDuplicates().count()\n",
    "print(loan_df_duplicates)\n"
   ]
  },
  {
   "cell_type": "markdown",
   "metadata": {},
   "source": [
    " ### Final DF Count"
   ]
  },
  {
   "cell_type": "code",
   "execution_count": null,
   "metadata": {},
   "outputs": [],
   "source": [
    "\n",
    "loan_df_count = loan_df.count()\n",
    "print(f\"Final DF count: {loan_df_count}\")\n"
   ]
  },
  {
   "cell_type": "code",
   "execution_count": null,
   "metadata": {},
   "outputs": [],
   "source": [
    "\n",
    "report_res = report_df(loan_df, loan_df.columns)\n",
    "# Display the result\n",
    "column_names = ['Column', 'Type', 'Unique Sample', 'N Unique', '%None']\n",
    "print(tabulate(report_res, headers=column_names, tablefmt='grid'))"
   ]
  }
 ],
 "metadata": {
  "kernelspec": {
   "display_name": "v38_env",
   "language": "python",
   "name": "python3"
  },
  "language_info": {
   "codemirror_mode": {
    "name": "ipython",
    "version": 3
   },
   "file_extension": ".py",
   "mimetype": "text/x-python",
   "name": "python",
   "nbconvert_exporter": "python",
   "pygments_lexer": "ipython3",
   "version": "3.8.18"
  }
 },
 "nbformat": 4,
 "nbformat_minor": 2
}
