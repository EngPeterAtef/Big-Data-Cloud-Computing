{
 "cells": [
  {
   "cell_type": "code",
   "execution_count": 1,
   "metadata": {},
   "outputs": [],
   "source": [
    "from pyspark.sql import SparkSession, Window\n",
    "from pyspark.sql.functions import col,first, countDistinct, isnan, when, count, round, substring_index,substring, split, regexp_replace, udf\n",
    "from tabulate import tabulate\n",
    "import pandas as pd"
   ]
  },
  {
   "cell_type": "markdown",
   "metadata": {},
   "source": [
    "\n",
    "\n",
    " ## Since we write local [*] in the master, it will use all cores in our machine. If we said local [4] it will work with 4 cores.\n",
    "\n",
    "\n",
    "\n",
    " ## getOrCreate is used to create a SparkSession if not present."
   ]
  },
  {
   "cell_type": "code",
   "execution_count": 2,
   "metadata": {},
   "outputs": [],
   "source": [
    "print_reports = False"
   ]
  },
  {
   "cell_type": "code",
   "execution_count": 3,
   "metadata": {},
   "outputs": [],
   "source": [
    "\n",
    "spark=SparkSession.builder\\\n",
    "    .master(\"local[*]\")\\\n",
    "    .appName(\"LoanApproval\")\\\n",
    "    .getOrCreate()\n"
   ]
  },
  {
   "cell_type": "code",
   "execution_count": 4,
   "metadata": {},
   "outputs": [],
   "source": [
    "\n",
    "sc=spark.sparkContext\n"
   ]
  },
  {
   "cell_type": "markdown",
   "metadata": {},
   "source": [
    " ## Read Data - SBAnational.csv"
   ]
  },
  {
   "cell_type": "code",
   "execution_count": 5,
   "metadata": {},
   "outputs": [],
   "source": [
    "\n",
    "data_path=\"../data/SBAnational.csv\"\n"
   ]
  },
  {
   "cell_type": "code",
   "execution_count": 6,
   "metadata": {},
   "outputs": [],
   "source": [
    "\n",
    "loan_df =  spark.read.csv(data_path, header=True, inferSchema=True, quote='\"', escape='\"', multiLine=True)\n"
   ]
  },
  {
   "cell_type": "code",
   "execution_count": 7,
   "metadata": {},
   "outputs": [
    {
     "name": "stdout",
     "output_type": "stream",
     "text": [
      "+-------------+--------------------+------------+-----+-----+--------------------+---------+------+------------+----------+----+-----+--------+---------+-----------+-------------+----------+---------+------+----------+----------------+-----------------+------------+----------+------------+------------+------------+\n",
      "|LoanNr_ChkDgt|                Name|        City|State|  Zip|                Bank|BankState| NAICS|ApprovalDate|ApprovalFY|Term|NoEmp|NewExist|CreateJob|RetainedJob|FranchiseCode|UrbanRural|RevLineCr|LowDoc|ChgOffDate|DisbursementDate|DisbursementGross|BalanceGross|MIS_Status|ChgOffPrinGr|      GrAppv|    SBA_Appv|\n",
      "+-------------+--------------------+------------+-----+-----+--------------------+---------+------+------------+----------+----+-----+--------+---------+-----------+-------------+----------+---------+------+----------+----------------+-----------------+------------+----------+------------+------------+------------+\n",
      "|   1000014003|      ABC HOBBYCRAFT|  EVANSVILLE|   IN|47711|    FIFTH THIRD BANK|       OH|451120|   28-Feb-97|      1997|  84|    4|       2|        0|          0|            1|         0|        N|     Y|      NULL|       28-Feb-99|      $60,000.00 |      $0.00 |     P I F|      $0.00 | $60,000.00 | $48,000.00 |\n",
      "|   1000024006|LANDMARK BAR & GR...|   NEW PARIS|   IN|46526|     1ST SOURCE BANK|       IN|722410|   28-Feb-97|      1997|  60|    2|       2|        0|          0|            1|         0|        N|     Y|      NULL|       31-May-97|      $40,000.00 |      $0.00 |     P I F|      $0.00 | $40,000.00 | $32,000.00 |\n",
      "|   1000034009|WHITLOCK DDS, TOD...| BLOOMINGTON|   IN|47401|GRANT COUNTY STAT...|       IN|621210|   28-Feb-97|      1997| 180|    7|       1|        0|          0|            1|         0|        N|     N|      NULL|       31-Dec-97|     $287,000.00 |      $0.00 |     P I F|      $0.00 |$287,000.00 |$215,250.00 |\n",
      "|   1000044001|BIG BUCKS PAWN & ...|BROKEN ARROW|   OK|74012|1ST NATL BK & TR ...|       OK|     0|   28-Feb-97|      1997|  60|    2|       1|        0|          0|            1|         0|        N|     Y|      NULL|       30-Jun-97|      $35,000.00 |      $0.00 |     P I F|      $0.00 | $35,000.00 | $28,000.00 |\n",
      "|   1000054004|ANASTASIA CONFECT...|     ORLANDO|   FL|32801|FLORIDA BUS. DEVE...|       FL|     0|   28-Feb-97|      1997| 240|   14|       1|        7|          7|            1|         0|        N|     N|      NULL|       14-May-97|     $229,000.00 |      $0.00 |     P I F|      $0.00 |$229,000.00 |$229,000.00 |\n",
      "+-------------+--------------------+------------+-----+-----+--------------------+---------+------+------------+----------+----+-----+--------+---------+-----------+-------------+----------+---------+------+----------+----------------+-----------------+------------+----------+------------+------------+------------+\n",
      "only showing top 5 rows\n",
      "\n",
      "=====================\n",
      "Number of rows in the dataframe:\n",
      "=====================\n",
      "899164\n",
      "=====================\n",
      "Number of columns in the dataframe:\n",
      "=====================\n",
      "27\n",
      "=====================\n",
      "Schema of the dataframe:\n",
      "=====================\n",
      "root\n",
      " |-- LoanNr_ChkDgt: long (nullable = true)\n",
      " |-- Name: string (nullable = true)\n",
      " |-- City: string (nullable = true)\n",
      " |-- State: string (nullable = true)\n",
      " |-- Zip: integer (nullable = true)\n",
      " |-- Bank: string (nullable = true)\n",
      " |-- BankState: string (nullable = true)\n",
      " |-- NAICS: integer (nullable = true)\n",
      " |-- ApprovalDate: string (nullable = true)\n",
      " |-- ApprovalFY: string (nullable = true)\n",
      " |-- Term: integer (nullable = true)\n",
      " |-- NoEmp: integer (nullable = true)\n",
      " |-- NewExist: integer (nullable = true)\n",
      " |-- CreateJob: integer (nullable = true)\n",
      " |-- RetainedJob: integer (nullable = true)\n",
      " |-- FranchiseCode: integer (nullable = true)\n",
      " |-- UrbanRural: integer (nullable = true)\n",
      " |-- RevLineCr: string (nullable = true)\n",
      " |-- LowDoc: string (nullable = true)\n",
      " |-- ChgOffDate: string (nullable = true)\n",
      " |-- DisbursementDate: string (nullable = true)\n",
      " |-- DisbursementGross: string (nullable = true)\n",
      " |-- BalanceGross: string (nullable = true)\n",
      " |-- MIS_Status: string (nullable = true)\n",
      " |-- ChgOffPrinGr: string (nullable = true)\n",
      " |-- GrAppv: string (nullable = true)\n",
      " |-- SBA_Appv: string (nullable = true)\n",
      "\n",
      "=====================\n",
      "Columns in the dataframe:\n",
      "=====================\n",
      "['LoanNr_ChkDgt', 'Name', 'City', 'State', 'Zip', 'Bank', 'BankState', 'NAICS', 'ApprovalDate', 'ApprovalFY', 'Term', 'NoEmp', 'NewExist', 'CreateJob', 'RetainedJob', 'FranchiseCode', 'UrbanRural', 'RevLineCr', 'LowDoc', 'ChgOffDate', 'DisbursementDate', 'DisbursementGross', 'BalanceGross', 'MIS_Status', 'ChgOffPrinGr', 'GrAppv', 'SBA_Appv']\n"
     ]
    }
   ],
   "source": [
    "\n",
    "loan_df.show(5)\n",
    "print('=====================')\n",
    "print(\"Number of rows in the dataframe:\")\n",
    "print('=====================')\n",
    "loan_df_count = loan_df.count()\n",
    "print(loan_df_count)\n",
    "print('=====================')\n",
    "print(\"Number of columns in the dataframe:\")\n",
    "print('=====================')\n",
    "print(len(loan_df.columns))\n",
    "print('=====================')\n",
    "print(\"Schema of the dataframe:\")\n",
    "print('=====================')\n",
    "loan_df.printSchema() #prints the dataframe schema\n",
    "print('=====================')\n",
    "print(\"Columns in the dataframe:\")\n",
    "print('=====================')\n",
    "print(loan_df.columns) \n"
   ]
  },
  {
   "cell_type": "code",
   "execution_count": 8,
   "metadata": {},
   "outputs": [
    {
     "name": "stdout",
     "output_type": "stream",
     "text": [
      "+-------+--------------------+---------------+------------------+------+------------------+--------------------+---------+------------------+------------+------------------+------------------+------------------+------------------+------------------+------------------+------------------+------------------+--------------------+--------------------+----------+----------------+-----------------+------------+----------+------------+--------------+--------------+\n",
      "|summary|       LoanNr_ChkDgt|           Name|              City| State|               Zip|                Bank|BankState|             NAICS|ApprovalDate|        ApprovalFY|              Term|             NoEmp|          NewExist|         CreateJob|       RetainedJob|     FranchiseCode|        UrbanRural|           RevLineCr|              LowDoc|ChgOffDate|DisbursementDate|DisbursementGross|BalanceGross|MIS_Status|ChgOffPrinGr|        GrAppv|      SBA_Appv|\n",
      "+-------+--------------------+---------------+------------------+------+------------------+--------------------+---------+------------------+------------+------------------+------------------+------------------+------------------+------------------+------------------+------------------+------------------+--------------------+--------------------+----------+----------------+-----------------+------------+----------+------------+--------------+--------------+\n",
      "|  count|              899164|         899161|            899134|899150|            899164|              897605|   897598|            899164|      899164|            899164|            899164|            899164|            899028|            899164|            899164|            899164|            899164|              894636|              896582|    162699|          896796|           899164|      899164|    897167|      899164|        899164|        899164|\n",
      "|   mean|  4.77261231059431E9|       Infinity|62418.333333333336|  NULL| 53804.39124119738|                NULL|     NULL| 398660.9501459133|        NULL|2001.1440633667946|110.77307810366074|11.411353212539648|1.2804039473742754| 8.430376438558483|10.797257230049246|2753.7259332001727|0.7577483084287182|2.095988510877792E-4|6.702412868632708E-4|      NULL|            NULL|             NULL|        NULL|      NULL|        NULL|          NULL|          NULL|\n",
      "| stddev|2.5381750374530525E9|            NaN| 54024.13594249642|  NULL|31184.159151555537|                NULL|     NULL|263318.31275955576|        NULL| 5.912834916813208| 78.85730506613979| 74.10819633684089|0.4517500002551906|236.68816523962056|237.12059969290667|12758.019135648858|0.6464359834770617|0.023804441974866312|0.025889018653924897|      NULL|            NULL|             NULL|        NULL|      NULL|        NULL|          NULL|          NULL|\n",
      "|    min|          1000014003|\"216\" PIANO BAR|   #115, BALTIMORE|    AK|                 0|1ST & FARMERS BK ...|       AK|                 0|    1-Apr-02|              1962|                 0|                 0|                 0|                 0|                 0|                 0|                 0|                   ,|                   0|  1-Apr-01|        1-Apr-00|           $0.00 |      $0.00 |    CHGOFF|      $0.00 |$1,000,000.00 |$1,000,000.00 |\n",
      "|    max|          9996003010|  z on 2nd, LLC|            weston|    WY|             99999|ZIONS FIRST NATIO...|       WY|            928120|    9-Sep-99|              2014|               569|              9999|                 2|              8800|              9500|             99999|                 2|                   `|                   Y|  9-Sep-99|        9-Sep-99|     $999,999.00 |$996,262.00 |     P I F|    $999.00 |  $999,995.00 |  $999,999.00 |\n",
      "+-------+--------------------+---------------+------------------+------+------------------+--------------------+---------+------------------+------------+------------------+------------------+------------------+------------------+------------------+------------------+------------------+------------------+--------------------+--------------------+----------+----------------+-----------------+------------+----------+------------+--------------+--------------+\n",
      "\n"
     ]
    }
   ],
   "source": [
    "loan_df.describe().show()"
   ]
  },
  {
   "cell_type": "markdown",
   "metadata": {},
   "source": [
    " # Preprocessing and cleaning"
   ]
  },
  {
   "cell_type": "markdown",
   "metadata": {},
   "source": [
    " ### Report"
   ]
  },
  {
   "cell_type": "code",
   "execution_count": 9,
   "metadata": {},
   "outputs": [],
   "source": [
    "# =========================================================================\n",
    "# =========================================================================\n",
    "# ============================= DF REPORT =================================\n",
    "# =========================================================================\n",
    "# =========================================================================\n",
    "def report_df(df, header):\n",
    "    # Calculate the total number of rows\n",
    "    rdd_count = df.count()\n",
    "\n",
    "    # Initialize lists to store column statistics\n",
    "    col_names = []\n",
    "    data_types = []\n",
    "    unique_samples = []\n",
    "    num_uniques = []\n",
    "    nan_percentages = []\n",
    "    report_data = []\n",
    "\n",
    "    # Iterate over each column\n",
    "    for col_name in header:\n",
    "        print(col_name)\n",
    "        # Append column name\n",
    "        col_names.append(col_name)\n",
    "        selected_col = col(col_name)\n",
    "        selected_col_df = df.select(selected_col)\n",
    "\n",
    "        # Determine data type\n",
    "        dtype = selected_col_df.dtypes[0][1]\n",
    "        data_types.append(dtype)\n",
    "        distinct_df = selected_col_df.distinct()\n",
    "        # Collect unique values\n",
    "        unique_sample = [row[col_name] for row in distinct_df.limit(2).collect()]\n",
    "        unique_samples.append(unique_sample)\n",
    "\n",
    "        # Count number of unique values\n",
    "        n_unique = distinct_df.count()\n",
    "        num_uniques.append(n_unique)\n",
    "\n",
    "        # Calculate percentage of NaN values\n",
    "        none_percentage_val = df.filter(selected_col.isNull()).count() / rdd_count * 100\n",
    "        nan_percentages.append(none_percentage_val)\n",
    "        report_data.append([col_name, dtype, unique_sample, n_unique, none_percentage_val])\n",
    "\n",
    "    return report_data\n"
   ]
  },
  {
   "cell_type": "code",
   "execution_count": 10,
   "metadata": {},
   "outputs": [],
   "source": [
    "if print_reports:\n",
    "    report_res = report_df(loan_df, loan_df.columns)\n",
    "    # Display the result\n",
    "    column_names = ['Column', 'Type', 'Unique Sample', 'N Unique', '%None']\n",
    "    print(tabulate(report_res, headers=column_names, tablefmt='grid'))\n",
    "\n",
    "\n"
   ]
  },
  {
   "cell_type": "code",
   "execution_count": null,
   "metadata": {},
   "outputs": [],
   "source": []
  },
  {
   "cell_type": "code",
   "execution_count": 11,
   "metadata": {},
   "outputs": [],
   "source": [
    "\n",
    "def show_percentage_of_each_value_in_column(df, df_count,col_name,show_num=10):\n",
    "    # Calculate percentage of 0s and 1s\n",
    "    percentage_df = df.groupBy(col_name).agg((count(\"*\") / df_count).alias(\"Percentage\"))\n",
    "\n",
    "    # Round percentage values to two decimal places\n",
    "    percentage_df = percentage_df.withColumn(\"Percentage\", round(col(\"Percentage\") * 100, 2))\n",
    "\n",
    "    # sort the dataframe by percentage descending\n",
    "    percentage_df = percentage_df.sort(col(\"Percentage\").desc())\n",
    "\n",
    "    # Show result\n",
    "    percentage_df.show(show_num)\n",
    "\n",
    "def show_df_where_col_isnull(df, col_name, show_num):\n",
    "    # Filter rows where 'Name' column is null\n",
    "    filtered_df = df.filter(col(col_name).isNull())\n",
    "\n",
    "    # Show the resulting DataFrame\n",
    "    filtered_df.show(show_num)\n",
    "    null_count = filtered_df.count()\n",
    "    print(f\"Null Count: {null_count}\")\n",
    "\n",
    "def print_unique_val_num_in_col(df, col_name):\n",
    "    # percentage of unique values in the city\n",
    "    unique_count = loan_df.select(col_name).distinct().count()\n",
    "    print(f\"Number of unique values in {col_name}: {unique_count}\")\n",
    "    percentage = unique_count / loan_df_count * 100\n",
    "    print(f\"Percentage of unique values in {col_name}: {percentage:.2f}%\")"
   ]
  },
  {
   "cell_type": "markdown",
   "metadata": {},
   "source": [
    " ### 1. LoanNr_ChkDgt - ID\n",
    "\n",
    " Drop the column as it is an ID column and does not provide any information for the analysis."
   ]
  },
  {
   "cell_type": "code",
   "execution_count": 12,
   "metadata": {},
   "outputs": [],
   "source": [
    "\n",
    "loan_df = loan_df.drop('LoanNr_ChkDgt')\n"
   ]
  },
  {
   "cell_type": "markdown",
   "metadata": {},
   "source": [
    " ### 2. Name - Name of Borrower\n",
    "\n",
    " Drop the column as it is a name column and does not provide any information for the analysis."
   ]
  },
  {
   "cell_type": "code",
   "execution_count": 13,
   "metadata": {},
   "outputs": [
    {
     "name": "stdout",
     "output_type": "stream",
     "text": [
      "+-------------------+----------+\n",
      "|               Name|Percentage|\n",
      "+-------------------+----------+\n",
      "|             SUBWAY|      0.14|\n",
      "|      QUIZNO'S SUBS|      0.05|\n",
      "|     DOMINO'S PIZZA|      0.04|\n",
      "|COLD STONE CREAMERY|      0.04|\n",
      "|        DAIRY QUEEN|      0.04|\n",
      "+-------------------+----------+\n",
      "only showing top 5 rows\n",
      "\n"
     ]
    }
   ],
   "source": [
    "\n",
    "col_name = 'Name'\n",
    "show_percentage_of_each_value_in_column(loan_df, loan_df_count,col_name, show_num=5)"
   ]
  },
  {
   "cell_type": "code",
   "execution_count": 14,
   "metadata": {},
   "outputs": [
    {
     "name": "stdout",
     "output_type": "stream",
     "text": [
      "+----+----------+-----+-----+--------------------+---------+------+------------+----------+----+-----+--------+---------+-----------+-------------+----------+---------+------+----------+----------------+-----------------+------------+----------+------------+-----------+-----------+\n",
      "|Name|      City|State|  Zip|                Bank|BankState| NAICS|ApprovalDate|ApprovalFY|Term|NoEmp|NewExist|CreateJob|RetainedJob|FranchiseCode|UrbanRural|RevLineCr|LowDoc|ChgOffDate|DisbursementDate|DisbursementGross|BalanceGross|MIS_Status|ChgOffPrinGr|     GrAppv|   SBA_Appv|\n",
      "+----+----------+-----+-----+--------------------+---------+------+------------+----------+----+-----+--------+---------+-----------+-------------+----------+---------+------+----------+----------------+-----------------+------------+----------+------------+-----------+-----------+\n",
      "|NULL|      TROY|   NY|12180|MANUFACTURERS & T...|       NY|     0|   16-Oct-98|      1999|  60|    2|       1|        0|          0|            1|         0|        0|     Y|      NULL|       30-Nov-98|      $40,000.00 |      $0.00 |     P I F|      $0.00 |$40,000.00 |$32,000.00 |\n",
      "|NULL|E. AMHERST|   NY|14051|BANK OF AMERICA N...|       RI|811310|   16-Oct-98|      1999|  60|    2|       1|        0|          0|            1|         0|        0|     Y|      NULL|       28-Feb-99|      $28,000.00 |      $0.00 |     P I F|      $0.00 |$28,000.00 |$22,400.00 |\n",
      "|NULL| CAMBRIDGE|   MA| 2138|BANK OF AMERICA N...|       RI|     0|   19-Oct-98|      1999|  60|    6|       1|        0|          0|            1|         0|        0|     Y|      NULL|       31-Mar-99|      $30,000.00 |      $0.00 |     P I F|      $0.00 |$30,000.00 |$24,000.00 |\n",
      "+----+----------+-----+-----+--------------------+---------+------+------------+----------+----+-----+--------+---------+-----------+-------------+----------+---------+------+----------+----------------+-----------------+------------+----------+------------+-----------+-----------+\n",
      "\n",
      "Null Count: 3\n"
     ]
    }
   ],
   "source": [
    "show_df_where_col_isnull(loan_df, col_name, show_num=5)"
   ]
  },
  {
   "cell_type": "code",
   "execution_count": 15,
   "metadata": {},
   "outputs": [
    {
     "name": "stdout",
     "output_type": "stream",
     "text": [
      "+----+----+-----+---+----+---------+-----+------------+----------+----+-----+--------+---------+-----------+-------------+----------+---------+------+----------+----------------+-----------------+------------+----------+------------+------+--------+\n",
      "|Name|City|State|Zip|Bank|BankState|NAICS|ApprovalDate|ApprovalFY|Term|NoEmp|NewExist|CreateJob|RetainedJob|FranchiseCode|UrbanRural|RevLineCr|LowDoc|ChgOffDate|DisbursementDate|DisbursementGross|BalanceGross|MIS_Status|ChgOffPrinGr|GrAppv|SBA_Appv|\n",
      "+----+----+-----+---+----+---------+-----+------------+----------+----+-----+--------+---------+-----------+-------------+----------+---------+------+----------+----------------+-----------------+------------+----------+------------+------+--------+\n",
      "+----+----+-----+---+----+---------+-----+------------+----------+----+-----+--------+---------+-----------+-------------+----------+---------+------+----------+----------------+-----------------+------------+----------+------------+------+--------+\n",
      "\n",
      "Null Count: 0\n"
     ]
    }
   ],
   "source": [
    "# Fill null values in the 'Name' column with 'Unknown Company'\n",
    "loan_df = loan_df.fillna({col_name: 'Unknown Name'})\n",
    "show_df_where_col_isnull(loan_df, col_name, show_num=5)"
   ]
  },
  {
   "cell_type": "code",
   "execution_count": 16,
   "metadata": {},
   "outputs": [
    {
     "name": "stdout",
     "output_type": "stream",
     "text": [
      "Number of unique values in Name: 779587\n",
      "Percentage of unique values in Name: 86.70%\n"
     ]
    }
   ],
   "source": [
    "\n",
    "print_unique_val_num_in_col(loan_df, col_name)\n"
   ]
  },
  {
   "cell_type": "markdown",
   "metadata": {},
   "source": [
    " Drop as most of the names are unique"
   ]
  },
  {
   "cell_type": "code",
   "execution_count": 17,
   "metadata": {},
   "outputs": [],
   "source": [
    "\n",
    "# loan_df = loan_df.drop('Name')\n"
   ]
  },
  {
   "cell_type": "markdown",
   "metadata": {},
   "source": [
    " ### 3. City - City of Borrower\n",
    "\n"
   ]
  },
  {
   "cell_type": "code",
   "execution_count": 18,
   "metadata": {},
   "outputs": [
    {
     "name": "stdout",
     "output_type": "stream",
     "text": [
      "+-----------+----------+\n",
      "|       City|Percentage|\n",
      "+-----------+----------+\n",
      "|LOS ANGELES|      1.29|\n",
      "|    HOUSTON|      1.14|\n",
      "|   NEW YORK|      0.87|\n",
      "|    CHICAGO|      0.67|\n",
      "|      MIAMI|      0.62|\n",
      "+-----------+----------+\n",
      "only showing top 5 rows\n",
      "\n"
     ]
    }
   ],
   "source": [
    "\n",
    "# Count the occurrences of each value in city column\n",
    "col_name = 'City'\n",
    "show_percentage_of_each_value_in_column(loan_df, loan_df_count,col_name, show_num=5)\n"
   ]
  },
  {
   "cell_type": "code",
   "execution_count": 19,
   "metadata": {},
   "outputs": [
    {
     "name": "stdout",
     "output_type": "stream",
     "text": [
      "+--------------------+----+-----+-----+--------------------+---------+-----+------------+----------+----+-----+--------+---------+-----------+-------------+----------+---------+------+----------+----------------+-----------------+------------+----------+------------+------------+------------+\n",
      "|                Name|City|State|  Zip|                Bank|BankState|NAICS|ApprovalDate|ApprovalFY|Term|NoEmp|NewExist|CreateJob|RetainedJob|FranchiseCode|UrbanRural|RevLineCr|LowDoc|ChgOffDate|DisbursementDate|DisbursementGross|BalanceGross|MIS_Status|ChgOffPrinGr|      GrAppv|    SBA_Appv|\n",
      "+--------------------+----+-----+-----+--------------------+---------+-----+------------+----------+----+-----+--------+---------+-----------+-------------+----------+---------+------+----------+----------------+-----------------+------------+----------+------------+------------+------------+\n",
      "|  BUSATH PHOTOGRAPHY|NULL|   UT|84109|MOUNTAIN W. SMALL...|       UT|    0|   15-Dec-81|      1982| 300|    2|       2|        0|          0|            0|         0|        N|     N|      NULL|        6-Jan-82|     $190,000.00 |      $0.00 |     P I F|      $0.00 |$190,000.00 |$190,000.00 |\n",
      "|  HAYES/DOCKSIDE,INC|NULL|   LA|70130|NEW ORLEANS REGIO...|       LA|    0|   17-Dec-81|      1982| 240|   23|       2|        0|          0|            0|         0|        N|     N|      NULL|       10-Feb-82|     $500,000.00 |      $0.00 |     P I F|      $0.00 |$500,000.00 |$500,000.00 |\n",
      "|YACHTING &NAVIGAT...|NULL|   IL|60624|BANK - AMERICA NA...|       IL|    0|   10-Apr-81|      1981| 300|   10|       2|        0|          0|            0|         0|        N|     N|      NULL|        4-Nov-81|     $150,000.00 |      $0.00 |     P I F|      $0.00 |$150,000.00 |$150,000.00 |\n",
      "|ACE PLATING COMPA...|NULL|   IL|60636|                NULL|     NULL|    0|   15-May-81|      1981| 180|    1|       2|        0|          0|            0|         0|        N|     N|      NULL|        4-Nov-81|      $49,000.00 |      $0.00 |     P I F|      $0.00 | $49,000.00 | $49,000.00 |\n",
      "|HERMANOS LOPEZ,IN...|NULL|   CA|92102|CDC SMALL BUS. FI...|       CA|    0|   16-Apr-81|      1981| 180|   45|       2|        0|          0|            0|         0|        N|     N|      NULL|        6-Jan-82|     $488,000.00 |      $0.00 |     P I F|      $0.00 |$488,000.00 |$488,000.00 |\n",
      "+--------------------+----+-----+-----+--------------------+---------+-----+------------+----------+----+-----+--------+---------+-----------+-------------+----------+---------+------+----------+----------------+-----------------+------------+----------+------------+------------+------------+\n",
      "only showing top 5 rows\n",
      "\n",
      "Null Count: 30\n"
     ]
    }
   ],
   "source": [
    "show_df_where_col_isnull(loan_df, col_name, show_num=5)"
   ]
  },
  {
   "cell_type": "code",
   "execution_count": 20,
   "metadata": {},
   "outputs": [
    {
     "name": "stdout",
     "output_type": "stream",
     "text": [
      "+----+----+-----+---+----+---------+-----+------------+----------+----+-----+--------+---------+-----------+-------------+----------+---------+------+----------+----------------+-----------------+------------+----------+------------+------+--------+\n",
      "|Name|City|State|Zip|Bank|BankState|NAICS|ApprovalDate|ApprovalFY|Term|NoEmp|NewExist|CreateJob|RetainedJob|FranchiseCode|UrbanRural|RevLineCr|LowDoc|ChgOffDate|DisbursementDate|DisbursementGross|BalanceGross|MIS_Status|ChgOffPrinGr|GrAppv|SBA_Appv|\n",
      "+----+----+-----+---+----+---------+-----+------------+----------+----+-----+--------+---------+-----------+-------------+----------+---------+------+----------+----------------+-----------------+------------+----------+------------+------+--------+\n",
      "+----+----+-----+---+----+---------+-----+------------+----------+----+-----+--------+---------+-----------+-------------+----------+---------+------+----------+----------------+-----------------+------------+----------+------------+------+--------+\n",
      "\n",
      "Null Count: 0\n"
     ]
    }
   ],
   "source": [
    "# Fill null values in the 'Name' column with 'Unknown Company'\n",
    "loan_df = loan_df.fillna({col_name: 'Unknown City'})\n",
    "show_df_where_col_isnull(loan_df, col_name, show_num=5)"
   ]
  },
  {
   "cell_type": "code",
   "execution_count": 21,
   "metadata": {},
   "outputs": [
    {
     "name": "stdout",
     "output_type": "stream",
     "text": [
      "Number of unique values in City: 32582\n",
      "Percentage of unique values in City: 3.62%\n"
     ]
    }
   ],
   "source": [
    "print_unique_val_num_in_col(loan_df, col_name)"
   ]
  },
  {
   "cell_type": "code",
   "execution_count": 22,
   "metadata": {},
   "outputs": [
    {
     "name": "stdout",
     "output_type": "stream",
     "text": [
      "+--------------+-----+\n",
      "|          City|Count|\n",
      "+--------------+-----+\n",
      "|   LOS ANGELES|11558|\n",
      "|       HOUSTON|10247|\n",
      "|      NEW YORK| 7846|\n",
      "|       CHICAGO| 6036|\n",
      "|         MIAMI| 5594|\n",
      "|     SAN DIEGO| 5363|\n",
      "|        DALLAS| 5085|\n",
      "|       PHOENIX| 4493|\n",
      "|     LAS VEGAS| 4390|\n",
      "|   SPRINGFIELD| 3738|\n",
      "|      BROOKLYN| 3728|\n",
      "|        DENVER| 3550|\n",
      "|   SAN ANTONIO| 3515|\n",
      "|SALT LAKE CITY| 3511|\n",
      "|        AUSTIN| 3499|\n",
      "|       SEATTLE| 3470|\n",
      "| SAN FRANCISCO| 3365|\n",
      "|      PORTLAND| 3193|\n",
      "|      COLUMBUS| 3186|\n",
      "|  PHILADELPHIA| 3178|\n",
      "+--------------+-----+\n",
      "only showing top 20 rows\n",
      "\n"
     ]
    }
   ],
   "source": [
    "\n",
    "unique_city_df = loan_df.select(col_name).groupBy(col_name).agg((count(\"*\")).alias(\"Count\")).sort(col(\"Count\").desc())\n",
    "unique_city_df.show()\n"
   ]
  },
  {
   "cell_type": "markdown",
   "metadata": {},
   "source": [
    " ### 4. State - State of Borrower"
   ]
  },
  {
   "cell_type": "code",
   "execution_count": 23,
   "metadata": {},
   "outputs": [
    {
     "name": "stdout",
     "output_type": "stream",
     "text": [
      "+-----+----------+\n",
      "|State|Percentage|\n",
      "+-----+----------+\n",
      "|   CA|     14.53|\n",
      "|   TX|      7.84|\n",
      "|   NY|      6.42|\n",
      "|   FL|      4.58|\n",
      "|   PA|      3.91|\n",
      "|   OH|      3.63|\n",
      "|   IL|       3.3|\n",
      "|   MA|      2.81|\n",
      "|   MN|      2.71|\n",
      "|   NJ|      2.67|\n",
      "+-----+----------+\n",
      "only showing top 10 rows\n",
      "\n"
     ]
    }
   ],
   "source": [
    "\n",
    "col_name = 'State'\n",
    "show_percentage_of_each_value_in_column(loan_df, loan_df_count,col_name)\n"
   ]
  },
  {
   "cell_type": "code",
   "execution_count": 24,
   "metadata": {},
   "outputs": [
    {
     "name": "stdout",
     "output_type": "stream",
     "text": [
      "Number of unique values in State: 52\n",
      "Percentage of unique values in State: 0.01%\n"
     ]
    }
   ],
   "source": [
    "print_unique_val_num_in_col(loan_df, col_name)\n"
   ]
  },
  {
   "cell_type": "code",
   "execution_count": 25,
   "metadata": {},
   "outputs": [
    {
     "name": "stdout",
     "output_type": "stream",
     "text": [
      "+--------------------+------------------+-----+-----+--------------------+---------+------+------------+----------+----+-----+--------+---------+-----------+-------------+----------+---------+------+----------+----------------+-----------------+------------+----------+------------+------------+------------+\n",
      "|                Name|              City|State|  Zip|                Bank|BankState| NAICS|ApprovalDate|ApprovalFY|Term|NoEmp|NewExist|CreateJob|RetainedJob|FranchiseCode|UrbanRural|RevLineCr|LowDoc|ChgOffDate|DisbursementDate|DisbursementGross|BalanceGross|MIS_Status|ChgOffPrinGr|      GrAppv|    SBA_Appv|\n",
      "+--------------------+------------------+-----+-----+--------------------+---------+------+------------+----------+----+-----+--------+---------+-----------+-------------+----------+---------+------+----------+----------------+-----------------+------------+----------+------------+------------+------------+\n",
      "|SO. JERSEY DANCE/...|        PENNSVILLE| NULL| 8070|                NULL|     NULL|     0|   28-Jul-81|      1981| 120|    1|       2|        0|          0|            0|         0|        N|     N|  5-Mar-90|            NULL|           $0.00 |      $0.00 |      NULL| $11,364.00 | $15,000.00 | $15,000.00 |\n",
      "|TRYON COATS & LEA...|JOHNSTOWN       NY| NULL|    0|KEYBANK NATIONAL ...|       NY|     0|   18-May-66|      1966| 282|    0|       0|        0|          0|            0|         0|        N|     N| 29-Mar-90|       16-Aug-66|      $60,000.00 |      $0.00 |    CHGOFF|  $6,084.00 | $60,000.00 | $54,000.00 |\n",
      "|CENTURY 21 PHILLI...|      CAMERON PARK| NULL|95682|SBA - EDF ENFORCE...|       CO|     0|   12-Feb-87|      1987| 240|   19|       1|        0|         19|            0|         0|        N|     N|      NULL|       17-Jun-87|      $81,000.00 |      $0.00 |     P I F|      $0.00 | $83,000.00 | $83,000.00 |\n",
      "|   THE COMPUTER EDGE|  BOX 267, APO  AP| NULL|96205|RTC/WESTPORT SAVI...|       CA|541511|   21-Jan-88|      1988|  73|    8|       1|        0|          0|            0|         0|        N|     N| 18-Sep-93|       16-Mar-88|      $50,000.00 |      $0.00 |    CHGOFF| $30,589.00 | $50,000.00 | $45,000.00 |\n",
      "|   KING'S TRUCK WASH|           WICHITA| NULL|67219|SOUTH CENT. KANSA...|       KS|811192|    5-Aug-88|      1988| 120|   17|       2|       10|          7|            0|         0|        N|     N|      NULL|       12-Jul-89|     $119,000.00 |      $0.00 |     P I F|      $0.00 |$119,000.00 |$119,000.00 |\n",
      "+--------------------+------------------+-----+-----+--------------------+---------+------+------------+----------+----+-----+--------+---------+-----------+-------------+----------+---------+------+----------+----------------+-----------------+------------+----------+------------+------------+------------+\n",
      "only showing top 5 rows\n",
      "\n",
      "Null Count: 14\n"
     ]
    }
   ],
   "source": [
    "show_df_where_col_isnull(loan_df, col_name, show_num=5)"
   ]
  },
  {
   "cell_type": "code",
   "execution_count": 26,
   "metadata": {},
   "outputs": [
    {
     "name": "stdout",
     "output_type": "stream",
     "text": [
      "[54205, 76052, 76645, 67219, 33410, 75236, 84124, 79925, 8070, 95682, 65049, 96205, 54025, 0]\n"
     ]
    }
   ],
   "source": [
    "# Filter rows where 'State' column is null\n",
    "filtered_df = loan_df.filter(col(col_name).isNull())\n",
    "\n",
    "# Extract unique values from 'Zip' column\n",
    "unique_zips = filtered_df.select('Zip').distinct().collect()\n",
    "\n",
    "# Extract unique zip codes as a list\n",
    "unique_zip_list = [row['Zip'] for row in unique_zips]\n",
    "\n",
    "# Print unique zip codes\n",
    "print(unique_zip_list)"
   ]
  },
  {
   "cell_type": "code",
   "execution_count": 27,
   "metadata": {},
   "outputs": [
    {
     "name": "stdout",
     "output_type": "stream",
     "text": [
      "+--------------------+------------------+-----+---+--------------------+---------+------+------------+----------+----+-----+--------+---------+-----------+-------------+----------+---------+------+----------+----------------+-----------------+------------+----------+------------+--------------+------------+\n",
      "|                Name|              City|State|Zip|                Bank|BankState| NAICS|ApprovalDate|ApprovalFY|Term|NoEmp|NewExist|CreateJob|RetainedJob|FranchiseCode|UrbanRural|RevLineCr|LowDoc|ChgOffDate|DisbursementDate|DisbursementGross|BalanceGross|MIS_Status|ChgOffPrinGr|        GrAppv|    SBA_Appv|\n",
      "+--------------------+------------------+-----+---+--------------------+---------+------+------------+----------+----+-----+--------+---------+-----------+-------------+----------+---------+------+----------+----------------+-----------------+------------+----------+------------+--------------+------------+\n",
      "| Grass Valley Market|      Grass Valley|   OR|  0|WELLS FARGO BANK ...|       SD|     0|   31-Mar-97|      1997|  37|    7|       1|        0|          0|            1|         0|        0|     N|  1-Mar-02|       28-Feb-98|      $20,000.00 |      $0.00 |    CHGOFF| $19,653.00 |   $20,000.00 | $10,000.00 |\n",
      "|        Eggs By Byrd|        Wappapello|   OR|  0|WELLS FARGO BANK ...|       SD|451120|    2-May-97|      1997|   4|    3|       1|        0|          0|            1|         0|        0|     N|  1-Jan-02|       31-Aug-97|      $20,000.00 |      $0.00 |    CHGOFF| $17,869.00 |   $20,000.00 | $10,000.00 |\n",
      "|   SPECIALTY BINDERY|         WASHOUGAL|   OR|  0|U.S. BANK NATIONA...|       WA|     0|   19-Mar-97|      1997| 116|    1|       1|        0|          0|            1|         0|        N|     Y| 27-Feb-03|       30-Apr-98|      $68,500.00 |      $0.00 |     P I F| $49,453.00 |   $69,500.00 | $55,600.00 |\n",
      "|        SUSHI ISLAND|      CORTE MADERA|   OR|  0|FIRST NATL BK OF ...|       CA|     0|   20-Mar-97|      1997|   4|   11|       2|        0|          0|            1|         0|        N|     Y|  1-Apr-05|       31-Oct-97|      $80,000.00 |      $0.00 |    CHGOFF| $15,655.00 |   $80,000.00 | $64,000.00 |\n",
      "|  BAZIL MOUNTAIN LLC|      FAYETTEVILLE|   OR|  0|         UNITED BANK|       WV|     0|    3-Apr-97|      1997|  14|    4|       2|        0|          0|            1|         0|        N|     Y| 21-May-01|       31-Jul-97|      $17,637.00 |      $0.00 |    CHGOFF| $10,236.00 |   $40,000.00 | $32,000.00 |\n",
      "|COLEMAN HEATING &...|           BUFFALO|   OR|  0|KEYBANK NATIONAL ...|       NY|235110|    8-Apr-97|      1997|  34|    4|       2|        0|          0|            1|         0|        N|     Y|  7-May-03|       28-Jul-97|      $47,500.00 |      $0.00 |    CHGOFF| $30,783.00 |   $47,500.00 | $38,000.00 |\n",
      "|MARKETING RESOURC...|         PITTSFORD|   OR|  0|JPMORGAN CHASE BA...|       IL|422320|   23-Apr-97|      1997|  20|    3|       1|        0|          0|            1|         0|        Y|     N|      NULL|       31-Dec-97|      $35,000.00 |      $0.00 |     P I F|      $0.00 |   $35,000.00 | $17,500.00 |\n",
      "|   SCHLOTZSKY'S DELI|      JACKSONVILLE|   OR|  0|READYCAP LENDING,...|       CA|     0|   30-Apr-97|      1997| 228|   15|       2|        0|          0|        72590|         0|        0|     N| 29-Apr-03|       30-Nov-97|     $670,400.00 |      $0.00 |    CHGOFF|$239,664.00 |  $670,400.00 |$502,800.00 |\n",
      "|ERNIE'S BACKYARD ...|       FRIENDSWOOD|   OR|  0|WELLS FARGO BANK ...|       SD|     0|    1-May-97|      1997| 209|   60|       2|        0|          0|            1|         0|        0|     N|  9-Apr-02|       30-Nov-97|     $730,000.00 |      $0.00 |    CHGOFF|$138,991.00 |  $730,000.00 |$547,500.00 |\n",
      "|TRYON COATS & LEA...|JOHNSTOWN       NY|   OR|  0|KEYBANK NATIONAL ...|       NY|     0|   18-May-66|      1966| 282|    0|       0|        0|          0|            0|         0|        N|     N| 29-Mar-90|       16-Aug-66|      $60,000.00 |      $0.00 |    CHGOFF|  $6,084.00 |   $60,000.00 | $54,000.00 |\n",
      "|CG Cupp Propertie...|            Joplin|   OR|  0|         ARVEST BANK|       AR|722110|   29-Jul-05|      2005|  18|    2|       2|       40|          2|            0|         1|        N|     N| 31-May-11|       30-Nov-05|     $100,000.00 |      $0.00 |    CHGOFF| $64,276.00 |  $100,000.00 | $50,000.00 |\n",
      "|TIME OUT BAR AND ...|            FRESNO|   OR|  0|UNITED SECURITY BANK|       CA|     0|   25-Jul-97|      1997|  48|    6|       2|        0|          0|            1|         0|        N|     N| 11-Jul-01|       30-Sep-97|      $61,000.00 |      $0.00 |    CHGOFF| $57,839.00 |   $61,000.00 | $48,800.00 |\n",
      "|A S A P TEXAS FAI...|             HURST|   OR|  0|BANK OF AMERICA N...|       OR|     0|    1-Aug-97|      1997|  24|    3|       1|        0|          0|            1|         0|        0|     N|  1-Oct-02|       28-Feb-98|      $16,000.00 |      $0.00 |     P I F|    $294.00 |   $16,000.00 |  $8,000.00 |\n",
      "|RUDY'S SCREEN PRI...|          CERRITOS|   OR|  0|BANK OF AMERICA C...|       CA|     0|   15-Aug-97|      1997|  84|    2|       1|        0|          0|            1|         0|        Y|     N| 21-May-03|       30-Sep-97|      $10,000.00 |      $0.00 |    CHGOFF|  $9,301.00 |   $10,000.00 |  $5,000.00 |\n",
      "|GRANDSTAND AUTO B...|      CALUMET PARK|   OR|  0|BUSINESS LOAN CEN...|       SC|     0|   29-Aug-97|      1997| 239|   80|       2|        0|          0|            1|         0|        N|     N|      NULL|       30-Sep-98|   $1,000,000.00 |      $0.00 |     P I F|      $0.00 |$1,000,000.00 |$750,000.00 |\n",
      "|FITNESS EQUIPMENT...|       WEATHERFORD|   OR|  0|     PROSPERITY BANK|       TX|421910|    3-Sep-97|      1997|  55|    1|       1|        0|          0|            1|         0|        0|     N| 10-Dec-02|       30-Nov-97|     $480,000.00 |      $0.00 |    CHGOFF|$395,914.00 |  $480,000.00 |$360,000.00 |\n",
      "|   SCHLOTZSKY'S DELI|      JACKSONVILLE|   OR|  0|GE CAP. SMALL BUS...|       TX|     0|    3-Sep-97|      1997| 241|    2|       2|        0|          0|        72590|         0|        0|     N| 17-Aug-01|       31-Oct-97|     $725,700.00 |      $0.00 |    CHGOFF|$471,746.00 |  $762,300.00 |$571,725.00 |\n",
      "|ONE PLUS ONE FASHION|       LOS ANGELES|   OR|  0|BANK OF AMERICA C...|       CA|     0|   14-Oct-97|      1998|  40|   60|       1|        0|          0|            1|         0|        Y|     N|  1-Oct-01|       31-Dec-97|      $28,640.00 |      $0.00 |    CHGOFF| $28,640.00 |   $50,000.00 | $25,000.00 |\n",
      "|    B D L GLASS INC.|        OYSTER BAY|   OR|  0|      CITIBANK, N.A.|       NY|235920|   21-Nov-97|      1998|   3|    1|       1|        0|          0|            1|         0|        0|     N|      NULL|       28-Feb-98|      $50,000.00 |      $0.00 |     P I F|      $0.00 |   $50,000.00 | $25,000.00 |\n",
      "|CHOCTAW VETERINAR...|           CHOCTAW|   OR|  0|           INTERBANK|       OK|541940|   24-Nov-97|      1998|  16|    4|       2|        0|          0|            1|         0|        N|     Y| 12-Feb-02|       31-Dec-97|      $50,000.00 |      $0.00 |    CHGOFF| $14,842.00 |   $50,000.00 | $40,000.00 |\n",
      "+--------------------+------------------+-----+---+--------------------+---------+------+------------+----------+----+-----+--------+---------+-----------+-------------+----------+---------+------+----------+----------------+-----------------+------------+----------+------------+--------------+------------+\n",
      "only showing top 20 rows\n",
      "\n"
     ]
    }
   ],
   "source": [
    "# Sort the DataFrame by 'Zip Code' in ascending order\n",
    "df_sorted = loan_df.orderBy('Zip')\n",
    "\n",
    "# Define a window specification for the group\n",
    "window_spec = Window.partitionBy('Zip').orderBy('Zip')\n",
    "\n",
    "# Fill the null 'State' values with the corresponding non-null 'State' value within each group\n",
    "loan_df = df_sorted.withColumn(col_name, first(col_name, ignorenulls=True).over(window_spec))\n",
    "\n",
    "# Show the resulting DataFrame\n",
    "loan_df.show()"
   ]
  },
  {
   "cell_type": "code",
   "execution_count": 28,
   "metadata": {},
   "outputs": [
    {
     "name": "stdout",
     "output_type": "stream",
     "text": [
      "+-----------------+----------------+-----+-----+--------------------+---------+------+------------+----------+----+-----+--------+---------+-----------+-------------+----------+---------+------+----------+----------------+-----------------+------------+----------+------------+-----------+-----------+\n",
      "|             Name|            City|State|  Zip|                Bank|BankState| NAICS|ApprovalDate|ApprovalFY|Term|NoEmp|NewExist|CreateJob|RetainedJob|FranchiseCode|UrbanRural|RevLineCr|LowDoc|ChgOffDate|DisbursementDate|DisbursementGross|BalanceGross|MIS_Status|ChgOffPrinGr|     GrAppv|   SBA_Appv|\n",
      "+-----------------+----------------+-----+-----+--------------------+---------+------+------------+----------+----+-----+--------+---------+-----------+-------------+----------+---------+------+----------+----------------+-----------------+------------+----------+------------+-----------+-----------+\n",
      "|THE COMPUTER EDGE|BOX 267, APO  AP| NULL|96205|RTC/WESTPORT SAVI...|       CA|541511|   21-Jan-88|      1988|  73|    8|       1|        0|          0|            0|         0|        N|     N| 18-Sep-93|       16-Mar-88|      $50,000.00 |      $0.00 |    CHGOFF| $30,589.00 |$50,000.00 |$45,000.00 |\n",
      "+-----------------+----------------+-----+-----+--------------------+---------+------+------------+----------+----+-----+--------+---------+-----------+-------------+----------+---------+------+----------+----------------+-----------------+------------+----------+------------+-----------+-----------+\n",
      "\n",
      "Null Count: 1\n"
     ]
    }
   ],
   "source": [
    "show_df_where_col_isnull(loan_df, col_name, show_num=5)"
   ]
  },
  {
   "cell_type": "markdown",
   "metadata": {},
   "source": [
    "Only 1 state with null values exist, so it is easy to look it up using its zip code.\n",
    "Zip code 96205 exists in AP."
   ]
  },
  {
   "cell_type": "code",
   "execution_count": 29,
   "metadata": {},
   "outputs": [
    {
     "name": "stdout",
     "output_type": "stream",
     "text": [
      "+----+----+-----+---+----+---------+-----+------------+----------+----+-----+--------+---------+-----------+-------------+----------+---------+------+----------+----------------+-----------------+------------+----------+------------+------+--------+\n",
      "|Name|City|State|Zip|Bank|BankState|NAICS|ApprovalDate|ApprovalFY|Term|NoEmp|NewExist|CreateJob|RetainedJob|FranchiseCode|UrbanRural|RevLineCr|LowDoc|ChgOffDate|DisbursementDate|DisbursementGross|BalanceGross|MIS_Status|ChgOffPrinGr|GrAppv|SBA_Appv|\n",
      "+----+----+-----+---+----+---------+-----+------------+----------+----+-----+--------+---------+-----------+-------------+----------+---------+------+----------+----------------+-----------------+------------+----------+------------+------+--------+\n",
      "+----+----+-----+---+----+---------+-----+------------+----------+----+-----+--------+---------+-----------+-------------+----------+---------+------+----------+----------------+-----------------+------------+----------+------------+------+--------+\n",
      "\n",
      "Null Count: 0\n"
     ]
    }
   ],
   "source": [
    "loan_df = loan_df.fillna({col_name: 'AP'})\n",
    "show_df_where_col_isnull(loan_df, col_name, show_num=5)"
   ]
  },
  {
   "cell_type": "markdown",
   "metadata": {},
   "source": [
    " ### 5. Zip - Zip code of Borrower"
   ]
  },
  {
   "cell_type": "code",
   "execution_count": 30,
   "metadata": {},
   "outputs": [
    {
     "name": "stdout",
     "output_type": "stream",
     "text": [
      "+-----+----------+\n",
      "|  Zip|Percentage|\n",
      "+-----+----------+\n",
      "|10001|       0.1|\n",
      "|90015|       0.1|\n",
      "|93401|      0.09|\n",
      "|90010|      0.08|\n",
      "|33166|      0.07|\n",
      "|90021|      0.07|\n",
      "|65804|      0.07|\n",
      "|59601|      0.07|\n",
      "|92069|      0.06|\n",
      "|84107|      0.06|\n",
      "+-----+----------+\n",
      "only showing top 10 rows\n",
      "\n"
     ]
    }
   ],
   "source": [
    "\n",
    "col_name = 'Zip'\n",
    "show_percentage_of_each_value_in_column(loan_df, loan_df_count,col_name)\n"
   ]
  },
  {
   "cell_type": "code",
   "execution_count": 31,
   "metadata": {},
   "outputs": [
    {
     "name": "stdout",
     "output_type": "stream",
     "text": [
      "Number of unique values in Zip: 33611\n",
      "Percentage of unique values in Zip: 3.74%\n"
     ]
    }
   ],
   "source": [
    "print_unique_val_num_in_col(loan_df, col_name)"
   ]
  },
  {
   "cell_type": "markdown",
   "metadata": {},
   "source": [
    "Least zip code in the US starts with 502, so any value less than this is unvalid."
   ]
  },
  {
   "cell_type": "code",
   "execution_count": 32,
   "metadata": {},
   "outputs": [
    {
     "name": "stdout",
     "output_type": "stream",
     "text": [
      "Unique Zip codes less than 501:\n",
      "[211, 417, 128, 1, 182, 6, 3, 432, 5, 92, 207, 9, 290, 301, 4, 8, 7, 465, 438, 459, 38, 477, 98, 345, 204, 260, 2, 0]\n",
      "Count: 400\n"
     ]
    }
   ],
   "source": [
    "# Filter rows where 'Zip' column is less than 501\n",
    "filtered_df = loan_df.filter(col('Zip') < 501)\n",
    "\n",
    "# Extract unique values from the filtered 'Zip' column\n",
    "unique_zips = filtered_df.select('Zip').distinct().collect()\n",
    "all_zips = filtered_df.select('Zip').collect()\n",
    "\n",
    "# Extract unique zip codes as a list\n",
    "unique_zip_list = [row['Zip'] for row in unique_zips]\n",
    "all_zip_list = [row['Zip'] for row in all_zips]\n",
    "\n",
    "# Print unique zip codes\n",
    "print(\"Unique Zip codes less than 501:\")\n",
    "print(unique_zip_list)\n",
    "print(f\"Count: {len(all_zip_list)}\")"
   ]
  },
  {
   "cell_type": "code",
   "execution_count": 33,
   "metadata": {},
   "outputs": [],
   "source": [
    "# Filter rows where 'Zip' column is less than 501\n",
    "loan_df = loan_df.filter(loan_df[col_name] >= 501)"
   ]
  },
  {
   "cell_type": "code",
   "execution_count": 34,
   "metadata": {},
   "outputs": [
    {
     "name": "stdout",
     "output_type": "stream",
     "text": [
      "+-----+-----+\n",
      "|  Zip|Count|\n",
      "+-----+-----+\n",
      "|10001|  933|\n",
      "|90015|  926|\n",
      "|93401|  806|\n",
      "|90010|  733|\n",
      "|33166|  671|\n",
      "|90021|  666|\n",
      "|59601|  640|\n",
      "|65804|  599|\n",
      "| 3801|  581|\n",
      "|59101|  578|\n",
      "|84115|  577|\n",
      "|92121|  567|\n",
      "|92101|  565|\n",
      "|90670|  531|\n",
      "|11354|  530|\n",
      "|59102|  519|\n",
      "|85260|  518|\n",
      "|84107|  513|\n",
      "|89102|  500|\n",
      "|92069|  499|\n",
      "+-----+-----+\n",
      "only showing top 20 rows\n",
      "\n"
     ]
    }
   ],
   "source": [
    "\n",
    "unique_zip_df = loan_df.select(col_name).groupBy(col_name).agg((count(\"*\")).alias(\"Count\")).sort(col(\"Count\").desc())\n",
    "unique_zip_df.show()\n"
   ]
  },
  {
   "cell_type": "markdown",
   "metadata": {},
   "source": [
    "Cast Zip to string to treat is as a categorical feature."
   ]
  },
  {
   "cell_type": "code",
   "execution_count": 35,
   "metadata": {},
   "outputs": [],
   "source": [
    "# Cast the 'Zip' column to string\n",
    "loan_df = loan_df.withColumn('Zip', col('Zip').cast('string'))"
   ]
  },
  {
   "cell_type": "code",
   "execution_count": 36,
   "metadata": {},
   "outputs": [],
   "source": [
    "\n",
    "# loan_df = loan_df.drop(col_name)\n"
   ]
  },
  {
   "cell_type": "markdown",
   "metadata": {},
   "source": [
    " ### 6. Bank - Name of the bank that gave the loan"
   ]
  },
  {
   "cell_type": "code",
   "execution_count": 37,
   "metadata": {},
   "outputs": [
    {
     "name": "stdout",
     "output_type": "stream",
     "text": [
      "+--------------------+----------+\n",
      "|                Bank|Percentage|\n",
      "+--------------------+----------+\n",
      "|BANK OF AMERICA N...|      9.66|\n",
      "|WELLS FARGO BANK ...|      7.06|\n",
      "|JPMORGAN CHASE BA...|      5.35|\n",
      "|U.S. BANK NATIONA...|      3.91|\n",
      "|CITIZENS BANK NAT...|       3.9|\n",
      "|PNC BANK, NATIONA...|      3.04|\n",
      "|           BBCN BANK|      2.55|\n",
      "|CAPITAL ONE NATL ...|      2.47|\n",
      "|MANUFACTURERS & T...|      1.25|\n",
      "|READYCAP LENDING,...|      1.19|\n",
      "+--------------------+----------+\n",
      "only showing top 10 rows\n",
      "\n"
     ]
    }
   ],
   "source": [
    "\n",
    "col_name = 'Bank'\n",
    "show_percentage_of_each_value_in_column(loan_df, loan_df_count,col_name)"
   ]
  },
  {
   "cell_type": "code",
   "execution_count": 38,
   "metadata": {},
   "outputs": [
    {
     "name": "stdout",
     "output_type": "stream",
     "text": [
      "+--------------------+-------------+-----+----+----+---------+------+------------+----------+----+-----+--------+---------+-----------+-------------+----------+---------+------+----------+----------------+-----------------+------------+----------+------------+------------+------------+\n",
      "|                Name|         City|State| Zip|Bank|BankState| NAICS|ApprovalDate|ApprovalFY|Term|NoEmp|NewExist|CreateJob|RetainedJob|FranchiseCode|UrbanRural|RevLineCr|LowDoc|ChgOffDate|DisbursementDate|DisbursementGross|BalanceGross|MIS_Status|ChgOffPrinGr|      GrAppv|    SBA_Appv|\n",
      "+--------------------+-------------+-----+----+----+---------+------+------------+----------+----+-----+--------+---------+-----------+-------------+----------+---------+------+----------+----------------+-----------------+------------+----------+------------+------------+------------+\n",
      "|BERKSHIRE HARDWOO...| CHESTERFIELD|   MA|1012|NULL|     NULL|     0|    5-Dec-89|      1990| 180|   14|       1|        0|          0|            1|         0|        N|     N|      NULL|       31-Jan-90|     $200,000.00 |      $0.00 |     P I F|      $0.00 |$450,000.00 |$337,500.00 |\n",
      "|EAGLE SNACK ROUTE 60|FEEDING HILLS|   MA|1030|NULL|     NULL|     0|   16-Oct-95|      1996| 120|    1|       1|        0|          0|            1|         0|        N|     Y|      NULL|       31-Jan-96|      $45,000.00 |      $0.00 |     P I F|      $0.00 | $45,000.00 | $36,000.00 |\n",
      "|SPRINGFIELD PLAST...|  SPRINGFIELD|   MA|1104|NULL|     NULL|326160|   28-May-91|      1991|  63|   30|       2|        0|          0|            1|         0|        N|     N|      NULL|       31-Oct-91|     $935,000.00 |      $0.00 |     P I F|      $0.00 |$935,000.00 |$748,000.00 |\n",
      "|    VISION RECORDING|   LONGMEADOW|   MA|1106|NULL|     NULL|512110|   31-Oct-91|      1992|  60|    2|       2|        0|          0|            1|         0|        N|     N|      NULL|       31-Jul-93|      $26,100.00 |      $0.00 |     P I F|      $0.00 | $26,100.00 | $23,490.00 |\n",
      "|UNDERCAR SPECIALI...|      GARDNER|   MA|1440|NULL|     NULL|811112|   20-Nov-90|      1991|  84|    6|       1|        0|          0|        53250|         0|        N|     N|      NULL|       31-Jan-91|      $60,000.00 |      $0.00 |     P I F|      $0.00 | $60,000.00 | $48,000.00 |\n",
      "+--------------------+-------------+-----+----+----+---------+------+------------+----------+----+-----+--------+---------+-----------+-------------+----------+---------+------+----------+----------------+-----------------+------------+----------+------------+------------+------------+\n",
      "only showing top 5 rows\n",
      "\n",
      "Null Count: 1558\n"
     ]
    }
   ],
   "source": [
    "show_df_where_col_isnull(loan_df, col_name, show_num=5)"
   ]
  },
  {
   "cell_type": "code",
   "execution_count": 39,
   "metadata": {},
   "outputs": [
    {
     "name": "stdout",
     "output_type": "stream",
     "text": [
      "Number of unique values in Bank: 5803\n",
      "Percentage of unique values in Bank: 0.65%\n"
     ]
    }
   ],
   "source": [
    "print_unique_val_num_in_col(loan_df, col_name)"
   ]
  },
  {
   "cell_type": "code",
   "execution_count": 40,
   "metadata": {},
   "outputs": [
    {
     "name": "stdout",
     "output_type": "stream",
     "text": [
      "+----+----+-----+---+----+---------+-----+------------+----------+----+-----+--------+---------+-----------+-------------+----------+---------+------+----------+----------------+-----------------+------------+----------+------------+------+--------+\n",
      "|Name|City|State|Zip|Bank|BankState|NAICS|ApprovalDate|ApprovalFY|Term|NoEmp|NewExist|CreateJob|RetainedJob|FranchiseCode|UrbanRural|RevLineCr|LowDoc|ChgOffDate|DisbursementDate|DisbursementGross|BalanceGross|MIS_Status|ChgOffPrinGr|GrAppv|SBA_Appv|\n",
      "+----+----+-----+---+----+---------+-----+------------+----------+----+-----+--------+---------+-----------+-------------+----------+---------+------+----------+----------------+-----------------+------------+----------+------------+------+--------+\n",
      "+----+----+-----+---+----+---------+-----+------------+----------+----+-----+--------+---------+-----------+-------------+----------+---------+------+----------+----------------+-----------------+------------+----------+------------+------+--------+\n",
      "\n",
      "Null Count: 0\n"
     ]
    }
   ],
   "source": [
    "# Fill null values in the 'Bank' column with 'Unknown Bank'\n",
    "loan_df = loan_df.fillna({col_name: 'Unknown Bank'})\n",
    "show_df_where_col_isnull(loan_df, col_name, show_num=5)"
   ]
  },
  {
   "cell_type": "markdown",
   "metadata": {},
   "source": [
    " ### 7. BankState - State of Bank"
   ]
  },
  {
   "cell_type": "code",
   "execution_count": 41,
   "metadata": {},
   "outputs": [
    {
     "name": "stdout",
     "output_type": "stream",
     "text": [
      "+---------+----------+\n",
      "|BankState|Percentage|\n",
      "+---------+----------+\n",
      "|       CA|     13.13|\n",
      "|       NC|      8.84|\n",
      "|       IL|      7.33|\n",
      "|       OH|       6.5|\n",
      "|       SD|      5.68|\n",
      "|       TX|      5.31|\n",
      "|       RI|      5.04|\n",
      "|       NY|       4.4|\n",
      "|       VA|      3.22|\n",
      "|       DE|      2.73|\n",
      "+---------+----------+\n",
      "only showing top 10 rows\n",
      "\n"
     ]
    }
   ],
   "source": [
    "\n",
    "col_name = 'BankState'\n",
    "show_percentage_of_each_value_in_column(loan_df, loan_df_count,col_name)\n"
   ]
  },
  {
   "cell_type": "code",
   "execution_count": 42,
   "metadata": {},
   "outputs": [
    {
     "name": "stdout",
     "output_type": "stream",
     "text": [
      "+--------------------+-------------+-----+----+------------+---------+------+------------+----------+----+-----+--------+---------+-----------+-------------+----------+---------+------+----------+----------------+-----------------+------------+----------+------------+------------+------------+\n",
      "|                Name|         City|State| Zip|        Bank|BankState| NAICS|ApprovalDate|ApprovalFY|Term|NoEmp|NewExist|CreateJob|RetainedJob|FranchiseCode|UrbanRural|RevLineCr|LowDoc|ChgOffDate|DisbursementDate|DisbursementGross|BalanceGross|MIS_Status|ChgOffPrinGr|      GrAppv|    SBA_Appv|\n",
      "+--------------------+-------------+-----+----+------------+---------+------+------------+----------+----+-----+--------+---------+-----------+-------------+----------+---------+------+----------+----------------+-----------------+------------+----------+------------+------------+------------+\n",
      "|BERKSHIRE HARDWOO...| CHESTERFIELD|   MA|1012|Unknown Bank|     NULL|     0|    5-Dec-89|      1990| 180|   14|       1|        0|          0|            1|         0|        N|     N|      NULL|       31-Jan-90|     $200,000.00 |      $0.00 |     P I F|      $0.00 |$450,000.00 |$337,500.00 |\n",
      "|EAGLE SNACK ROUTE 60|FEEDING HILLS|   MA|1030|Unknown Bank|     NULL|     0|   16-Oct-95|      1996| 120|    1|       1|        0|          0|            1|         0|        N|     Y|      NULL|       31-Jan-96|      $45,000.00 |      $0.00 |     P I F|      $0.00 | $45,000.00 | $36,000.00 |\n",
      "|SPRINGFIELD PLAST...|  SPRINGFIELD|   MA|1104|Unknown Bank|     NULL|326160|   28-May-91|      1991|  63|   30|       2|        0|          0|            1|         0|        N|     N|      NULL|       31-Oct-91|     $935,000.00 |      $0.00 |     P I F|      $0.00 |$935,000.00 |$748,000.00 |\n",
      "|    VISION RECORDING|   LONGMEADOW|   MA|1106|Unknown Bank|     NULL|512110|   31-Oct-91|      1992|  60|    2|       2|        0|          0|            1|         0|        N|     N|      NULL|       31-Jul-93|      $26,100.00 |      $0.00 |     P I F|      $0.00 | $26,100.00 | $23,490.00 |\n",
      "|UNDERCAR SPECIALI...|      GARDNER|   MA|1440|Unknown Bank|     NULL|811112|   20-Nov-90|      1991|  84|    6|       1|        0|          0|        53250|         0|        N|     N|      NULL|       31-Jan-91|      $60,000.00 |      $0.00 |     P I F|      $0.00 | $60,000.00 | $48,000.00 |\n",
      "+--------------------+-------------+-----+----+------------+---------+------+------------+----------+----+-----+--------+---------+-----------+-------------+----------+---------+------+----------+----------------+-----------------+------------+----------+------------+------------+------------+\n",
      "only showing top 5 rows\n",
      "\n",
      "Null Count: 1565\n"
     ]
    }
   ],
   "source": [
    "show_df_where_col_isnull(loan_df, col_name, show_num=5)"
   ]
  },
  {
   "cell_type": "code",
   "execution_count": 43,
   "metadata": {},
   "outputs": [
    {
     "name": "stdout",
     "output_type": "stream",
     "text": [
      "Number of unique values in BankState: 57\n",
      "Percentage of unique values in BankState: 0.01%\n"
     ]
    }
   ],
   "source": [
    "print_unique_val_num_in_col(loan_df, col_name)"
   ]
  },
  {
   "cell_type": "markdown",
   "metadata": {},
   "source": [
    "Drop nulls as we cant populate them."
   ]
  },
  {
   "cell_type": "code",
   "execution_count": 44,
   "metadata": {},
   "outputs": [],
   "source": [
    "loan_df = loan_df.dropna(subset=[col_name])"
   ]
  },
  {
   "cell_type": "code",
   "execution_count": 45,
   "metadata": {},
   "outputs": [
    {
     "name": "stdout",
     "output_type": "stream",
     "text": [
      "+----+----+-----+---+----+---------+-----+------------+----------+----+-----+--------+---------+-----------+-------------+----------+---------+------+----------+----------------+-----------------+------------+----------+------------+------+--------+\n",
      "|Name|City|State|Zip|Bank|BankState|NAICS|ApprovalDate|ApprovalFY|Term|NoEmp|NewExist|CreateJob|RetainedJob|FranchiseCode|UrbanRural|RevLineCr|LowDoc|ChgOffDate|DisbursementDate|DisbursementGross|BalanceGross|MIS_Status|ChgOffPrinGr|GrAppv|SBA_Appv|\n",
      "+----+----+-----+---+----+---------+-----+------------+----------+----+-----+--------+---------+-----------+-------------+----------+---------+------+----------+----------------+-----------------+------------+----------+------------+------+--------+\n",
      "+----+----+-----+---+----+---------+-----+------------+----------+----+-----+--------+---------+-----------+-------------+----------+---------+------+----------+----------------+-----------------+------------+----------+------------+------+--------+\n",
      "\n",
      "Null Count: 0\n"
     ]
    }
   ],
   "source": [
    "show_df_where_col_isnull(loan_df, \"BankState\", show_num=5)"
   ]
  },
  {
   "cell_type": "markdown",
   "metadata": {},
   "source": [
    " ### 8. NAICS - North American Industry Classification System code for the industry where the business is located"
   ]
  },
  {
   "cell_type": "code",
   "execution_count": 46,
   "metadata": {},
   "outputs": [
    {
     "name": "stdout",
     "output_type": "stream",
     "text": [
      "+------+----------+\n",
      "| NAICS|Percentage|\n",
      "+------+----------+\n",
      "|     0|     22.34|\n",
      "|722110|      3.11|\n",
      "|722211|      2.16|\n",
      "|811111|      1.62|\n",
      "|621210|      1.56|\n",
      "|624410|      1.12|\n",
      "|812112|      1.03|\n",
      "|561730|      0.99|\n",
      "|621310|      0.97|\n",
      "|812320|      0.88|\n",
      "+------+----------+\n",
      "only showing top 10 rows\n",
      "\n"
     ]
    }
   ],
   "source": [
    "\n",
    "col_name='NAICS'\n",
    "show_percentage_of_each_value_in_column(loan_df, loan_df_count,col_name)"
   ]
  },
  {
   "cell_type": "code",
   "execution_count": 47,
   "metadata": {},
   "outputs": [
    {
     "name": "stdout",
     "output_type": "stream",
     "text": [
      "Number of unique values in NAICS: 1312\n",
      "Percentage of unique values in NAICS: 0.15%\n"
     ]
    }
   ],
   "source": [
    "\n",
    "print_unique_val_num_in_col(loan_df, col_name)"
   ]
  },
  {
   "cell_type": "code",
   "execution_count": 48,
   "metadata": {},
   "outputs": [
    {
     "name": "stdout",
     "output_type": "stream",
     "text": [
      "+----+----+-----+---+----+---------+-----+------------+----------+----+-----+--------+---------+-----------+-------------+----------+---------+------+----------+----------------+-----------------+------------+----------+------------+------+--------+\n",
      "|Name|City|State|Zip|Bank|BankState|NAICS|ApprovalDate|ApprovalFY|Term|NoEmp|NewExist|CreateJob|RetainedJob|FranchiseCode|UrbanRural|RevLineCr|LowDoc|ChgOffDate|DisbursementDate|DisbursementGross|BalanceGross|MIS_Status|ChgOffPrinGr|GrAppv|SBA_Appv|\n",
      "+----+----+-----+---+----+---------+-----+------------+----------+----+-----+--------+---------+-----------+-------------+----------+---------+------+----------+----------------+-----------------+------------+----------+------------+------+--------+\n",
      "+----+----+-----+---+----+---------+-----+------------+----------+----+-----+--------+---------+-----------+-------------+----------+---------+------+----------+----------------+-----------------+------------+----------+------------+------+--------+\n",
      "\n",
      "Null Count: 0\n"
     ]
    }
   ],
   "source": [
    "show_df_where_col_isnull(loan_df, col_name, show_num=5)"
   ]
  },
  {
   "cell_type": "code",
   "execution_count": 49,
   "metadata": {},
   "outputs": [
    {
     "name": "stdout",
     "output_type": "stream",
     "text": [
      "+------+----------+\n",
      "|Sector|Percentage|\n",
      "+------+----------+\n",
      "|     0|     22.34|\n",
      "|    44|      9.41|\n",
      "|    81|      8.07|\n",
      "|    54|      7.57|\n",
      "|    72|      7.52|\n",
      "|    23|       7.4|\n",
      "|    62|      6.15|\n",
      "|    42|      5.41|\n",
      "|    45|      4.72|\n",
      "|    33|      4.25|\n",
      "+------+----------+\n",
      "only showing top 10 rows\n",
      "\n"
     ]
    }
   ],
   "source": [
    "\n",
    "# Convert NAICS code into related sector\n",
    "\n",
    "# Extract first two characters of NAICS code\n",
    "first_two_chars = substring(loan_df[\"NAICS\"], 1, 2)\n",
    "# print(first_two_chars)[0]\n",
    "\n",
    "# Apply mapping using when and otherwise\n",
    "loan_df = loan_df.withColumn(\"Sector\",\n",
    "    first_two_chars\n",
    ")\n",
    "loan_df = loan_df.drop(\"NAICS\")\n",
    "col_name='Sector'\n",
    "show_percentage_of_each_value_in_column(loan_df, loan_df_count,col_name)\n"
   ]
  },
  {
   "cell_type": "code",
   "execution_count": 50,
   "metadata": {},
   "outputs": [],
   "source": [
    "\n",
    "naics_to_sector = {\n",
    "    11: 'Agriculture, Forestry, Fishing and Hunting',\n",
    "    21: 'Mining, Quarrying, and Oil and Gas Extraction',\n",
    "    22: 'Utilities',\n",
    "    23: 'Construction',\n",
    "    31: 'Manufacturing',\n",
    "    32: 'Manufacturing',\n",
    "    33: 'Manufacturing',\n",
    "    42: 'Wholesale Trade',\n",
    "    44: 'Retail Trade',\n",
    "    45: 'Retail Trade',\n",
    "    48: 'Transportation and Warehousing',\n",
    "    49: 'Transportation and Warehousing',\n",
    "    51: 'Information',\n",
    "    52: 'Finance and Insurance',\n",
    "    53: 'Real Estate and Rental and Leasing',\n",
    "    54: 'Professional, Scientific, and Technical Services',\n",
    "    55: 'Management of Companies and Enterprises',\n",
    "    56: 'Administrative and Support and Waste Management and Remediation Services',\n",
    "    61: 'Educational Services',\n",
    "    62: 'Health Care and Social Assistance',\n",
    "    71: 'Arts, Entertainment, and Recreation',\n",
    "    72: 'Accommodation and Food Services',\n",
    "    81: 'Other Services (except Public Administration)',\n",
    "    92: 'Public Administration'\n",
    "}\n",
    "\n",
    "loan_df = loan_df.withColumn(col_name, \n",
    "                             when(col(col_name) == 32, 31)\n",
    "                             .when(col(col_name) == 33, 31)\n",
    "                             .when(col(col_name) == 45, 44)\n",
    "                             .when(col(col_name) == 49, 48)\n",
    "                             .otherwise(col(col_name)))\n",
    "# Cast the 'Zip' column to string\n",
    "# loan_df = loan_df.withColumn('Sector', col('Sector').cast('string'))\n",
    "# # Convert NAICS codes to their corresponding sectors\n",
    "# loan_df_temp = loan_df.withColumn(col_name, \n",
    "#                    when(col(col_name).isin(list(naics_to_sector.keys())), \n",
    "#                         naics_to_sector[col(col_name).cast(\"int\")])  # Cast to int before accessing dictionary\n",
    "#                    .otherwise(\"Unknown\"))\n",
    "\n",
    "# loan_df_temp.show(5)\n"
   ]
  },
  {
   "cell_type": "code",
   "execution_count": 51,
   "metadata": {},
   "outputs": [],
   "source": [
    "loan_df =loan_df.dropna(subset=[\"Sector\"]) "
   ]
  },
  {
   "cell_type": "code",
   "execution_count": 52,
   "metadata": {},
   "outputs": [
    {
     "name": "stdout",
     "output_type": "stream",
     "text": [
      "+------+----------+\n",
      "|Sector|Percentage|\n",
      "+------+----------+\n",
      "|     0|     22.34|\n",
      "|    44|     14.13|\n",
      "|    81|      8.07|\n",
      "|    54|      7.57|\n",
      "|    31|      7.55|\n",
      "|    72|      7.52|\n",
      "|    23|       7.4|\n",
      "|    62|      6.15|\n",
      "|    42|      5.41|\n",
      "|    56|      3.63|\n",
      "+------+----------+\n",
      "only showing top 10 rows\n",
      "\n"
     ]
    }
   ],
   "source": [
    "show_percentage_of_each_value_in_column(loan_df, loan_df_count,col_name)\n"
   ]
  },
  {
   "cell_type": "markdown",
   "metadata": {},
   "source": [
    " ### 9. ApprovalDate - Date SBA commitment issued"
   ]
  },
  {
   "cell_type": "code",
   "execution_count": 53,
   "metadata": {},
   "outputs": [
    {
     "name": "stdout",
     "output_type": "stream",
     "text": [
      "+------------+----------+\n",
      "|ApprovalDate|Percentage|\n",
      "+------------+----------+\n",
      "|    7-Jul-93|      0.12|\n",
      "|   30-Jan-04|      0.11|\n",
      "|    8-Jul-93|      0.09|\n",
      "|   30-Sep-03|      0.07|\n",
      "|    4-Oct-04|      0.07|\n",
      "|   21-Jan-05|      0.06|\n",
      "|   30-Jun-05|      0.06|\n",
      "|   18-Apr-05|      0.06|\n",
      "|    6-Jul-93|      0.06|\n",
      "|   27-Sep-02|      0.06|\n",
      "+------------+----------+\n",
      "only showing top 10 rows\n",
      "\n"
     ]
    }
   ],
   "source": [
    "\n",
    "col_name = 'ApprovalDate'\n",
    "show_percentage_of_each_value_in_column(loan_df, loan_df_count,col_name)\n"
   ]
  },
  {
   "cell_type": "code",
   "execution_count": 54,
   "metadata": {},
   "outputs": [
    {
     "name": "stdout",
     "output_type": "stream",
     "text": [
      "+----+----+-----+---+----+---------+------------+----------+----+-----+--------+---------+-----------+-------------+----------+---------+------+----------+----------------+-----------------+------------+----------+------------+------+--------+------+\n",
      "|Name|City|State|Zip|Bank|BankState|ApprovalDate|ApprovalFY|Term|NoEmp|NewExist|CreateJob|RetainedJob|FranchiseCode|UrbanRural|RevLineCr|LowDoc|ChgOffDate|DisbursementDate|DisbursementGross|BalanceGross|MIS_Status|ChgOffPrinGr|GrAppv|SBA_Appv|Sector|\n",
      "+----+----+-----+---+----+---------+------------+----------+----+-----+--------+---------+-----------+-------------+----------+---------+------+----------+----------------+-----------------+------------+----------+------------+------+--------+------+\n",
      "+----+----+-----+---+----+---------+------------+----------+----+-----+--------+---------+-----------+-------------+----------+---------+------+----------+----------------+-----------------+------------+----------+------------+------+--------+------+\n",
      "\n",
      "Null Count: 0\n"
     ]
    }
   ],
   "source": [
    "show_df_where_col_isnull(loan_df, col_name, show_num=5)"
   ]
  },
  {
   "cell_type": "code",
   "execution_count": 55,
   "metadata": {},
   "outputs": [
    {
     "name": "stdout",
     "output_type": "stream",
     "text": [
      "Number of unique values in ApprovalDate: 9835\n",
      "Percentage of unique values in ApprovalDate: 1.09%\n"
     ]
    }
   ],
   "source": [
    "print_unique_val_num_in_col(loan_df, col_name)"
   ]
  },
  {
   "cell_type": "code",
   "execution_count": 56,
   "metadata": {},
   "outputs": [
    {
     "name": "stdout",
     "output_type": "stream",
     "text": [
      "+-------------+----------+\n",
      "|ApprovalMonth|Percentage|\n",
      "+-------------+----------+\n",
      "|          Mar|      9.28|\n",
      "|          Sep|      9.22|\n",
      "|          Apr|       8.9|\n",
      "|          Aug|      8.75|\n",
      "|          Jun|      8.69|\n",
      "|          May|      8.57|\n",
      "|          Jul|      8.48|\n",
      "|          Dec|      7.76|\n",
      "|          Oct|      7.74|\n",
      "|          Nov|      7.59|\n",
      "+-------------+----------+\n",
      "only showing top 10 rows\n",
      "\n"
     ]
    }
   ],
   "source": [
    "\n",
    "# the full date has too much detail, so we will extract the month only\n",
    "\n",
    "loan_df = loan_df.withColumn(\"ApprovalMonth\", split(col(col_name), \"-\")[1])\n",
    "loan_df = loan_df.drop(col_name)\n",
    "col_name = 'ApprovalMonth'\n",
    "show_percentage_of_each_value_in_column(loan_df, loan_df_count,\"ApprovalMonth\")\n"
   ]
  },
  {
   "cell_type": "markdown",
   "metadata": {},
   "source": [
    " ### 10. ApprovalFY - Fiscal Year of commitment\n",
    "\n",
    " Drop the column as it is a date column and does not provide any information for the analysis."
   ]
  },
  {
   "cell_type": "code",
   "execution_count": 57,
   "metadata": {},
   "outputs": [],
   "source": [
    "\n",
    "loan_df = loan_df.drop('ApprovalFY')\n"
   ]
  },
  {
   "cell_type": "markdown",
   "metadata": {},
   "source": [
    " ### 11. Term - Loan term in months"
   ]
  },
  {
   "cell_type": "code",
   "execution_count": 58,
   "metadata": {},
   "outputs": [
    {
     "name": "stdout",
     "output_type": "stream",
     "text": [
      "+----+----------+\n",
      "|Term|Percentage|\n",
      "+----+----------+\n",
      "|  84|     25.56|\n",
      "|  60|      9.97|\n",
      "| 240|      9.54|\n",
      "| 120|      8.62|\n",
      "| 300|      4.97|\n",
      "| 180|      3.12|\n",
      "|  36|       2.2|\n",
      "|  12|      1.89|\n",
      "|  48|      1.73|\n",
      "|  72|      1.04|\n",
      "+----+----------+\n",
      "only showing top 10 rows\n",
      "\n"
     ]
    }
   ],
   "source": [
    "\n",
    "col_name = 'Term'\n",
    "show_percentage_of_each_value_in_column(loan_df, loan_df_count,col_name)\n"
   ]
  },
  {
   "cell_type": "code",
   "execution_count": 59,
   "metadata": {},
   "outputs": [
    {
     "name": "stdout",
     "output_type": "stream",
     "text": [
      "+----+----+-----+---+----+---------+----+-----+--------+---------+-----------+-------------+----------+---------+------+----------+----------------+-----------------+------------+----------+------------+------+--------+------+-------------+\n",
      "|Name|City|State|Zip|Bank|BankState|Term|NoEmp|NewExist|CreateJob|RetainedJob|FranchiseCode|UrbanRural|RevLineCr|LowDoc|ChgOffDate|DisbursementDate|DisbursementGross|BalanceGross|MIS_Status|ChgOffPrinGr|GrAppv|SBA_Appv|Sector|ApprovalMonth|\n",
      "+----+----+-----+---+----+---------+----+-----+--------+---------+-----------+-------------+----------+---------+------+----------+----------------+-----------------+------------+----------+------------+------+--------+------+-------------+\n",
      "+----+----+-----+---+----+---------+----+-----+--------+---------+-----------+-------------+----------+---------+------+----------+----------------+-----------------+------------+----------+------------+------+--------+------+-------------+\n",
      "\n",
      "Null Count: 0\n"
     ]
    }
   ],
   "source": [
    "show_df_where_col_isnull(loan_df, col_name, show_num=5)"
   ]
  },
  {
   "cell_type": "code",
   "execution_count": 60,
   "metadata": {},
   "outputs": [
    {
     "name": "stdout",
     "output_type": "stream",
     "text": [
      "Number of unique values in Term: 412\n",
      "Percentage of unique values in Term: 0.05%\n"
     ]
    }
   ],
   "source": [
    "print_unique_val_num_in_col(loan_df, col_name)"
   ]
  },
  {
   "cell_type": "code",
   "execution_count": 61,
   "metadata": {},
   "outputs": [],
   "source": [
    "\n",
    "# loan_df = loan_df.withColumn(\"Term_category\", \n",
    "#                              when((col(col_name) <=90),'Below 3 months')\n",
    "#                              .when(((col(col_name)>90) & (col(col_name)<=180)), '3-6 months')\n",
    "#                              .when(((col(col_name)>180) & (col(col_name)<=365)),  '6-12 months')\n",
    "#                              .otherwise('More Than a Year'))\n",
    "# loan_df = loan_df.drop(col_name)\n",
    "# col_name = \"Term_category\"\n",
    "# show_percentage_of_each_value_in_column(loan_df, loan_df_count,col_name)"
   ]
  },
  {
   "cell_type": "markdown",
   "metadata": {},
   "source": [
    " ### 12. NoEmp - Number of Business Employees"
   ]
  },
  {
   "cell_type": "code",
   "execution_count": 62,
   "metadata": {},
   "outputs": [
    {
     "name": "stdout",
     "output_type": "stream",
     "text": [
      "+-----+----------+\n",
      "|NoEmp|Percentage|\n",
      "+-----+----------+\n",
      "|    1|     17.13|\n",
      "|    2|     15.36|\n",
      "|    3|     10.06|\n",
      "|    4|      8.17|\n",
      "|    5|       6.7|\n",
      "|    6|      5.08|\n",
      "|   10|       3.5|\n",
      "|    7|      3.49|\n",
      "|    8|      3.48|\n",
      "|   12|      2.31|\n",
      "+-----+----------+\n",
      "only showing top 10 rows\n",
      "\n"
     ]
    }
   ],
   "source": [
    "\n",
    "col_name = 'NoEmp'\n",
    "show_percentage_of_each_value_in_column(loan_df, loan_df_count,col_name)\n"
   ]
  },
  {
   "cell_type": "code",
   "execution_count": 63,
   "metadata": {},
   "outputs": [
    {
     "name": "stdout",
     "output_type": "stream",
     "text": [
      "+----+----+-----+---+----+---------+----+-----+--------+---------+-----------+-------------+----------+---------+------+----------+----------------+-----------------+------------+----------+------------+------+--------+------+-------------+\n",
      "|Name|City|State|Zip|Bank|BankState|Term|NoEmp|NewExist|CreateJob|RetainedJob|FranchiseCode|UrbanRural|RevLineCr|LowDoc|ChgOffDate|DisbursementDate|DisbursementGross|BalanceGross|MIS_Status|ChgOffPrinGr|GrAppv|SBA_Appv|Sector|ApprovalMonth|\n",
      "+----+----+-----+---+----+---------+----+-----+--------+---------+-----------+-------------+----------+---------+------+----------+----------------+-----------------+------------+----------+------------+------+--------+------+-------------+\n",
      "+----+----+-----+---+----+---------+----+-----+--------+---------+-----------+-------------+----------+---------+------+----------+----------------+-----------------+------------+----------+------------+------+--------+------+-------------+\n",
      "\n",
      "Null Count: 0\n"
     ]
    }
   ],
   "source": [
    "show_df_where_col_isnull(loan_df, col_name, show_num=5)"
   ]
  },
  {
   "cell_type": "code",
   "execution_count": 64,
   "metadata": {},
   "outputs": [
    {
     "name": "stdout",
     "output_type": "stream",
     "text": [
      "Number of unique values in NoEmp: 599\n",
      "Percentage of unique values in NoEmp: 0.07%\n"
     ]
    }
   ],
   "source": [
    "print_unique_val_num_in_col(loan_df, col_name)"
   ]
  },
  {
   "cell_type": "markdown",
   "metadata": {},
   "source": [
    " ### 13. NewExist - 1 = Existing business, 2 = New business"
   ]
  },
  {
   "cell_type": "code",
   "execution_count": 65,
   "metadata": {},
   "outputs": [
    {
     "name": "stdout",
     "output_type": "stream",
     "text": [
      "+--------+----------+\n",
      "|NewExist|Percentage|\n",
      "+--------+----------+\n",
      "|       1|     71.56|\n",
      "|       2|     28.09|\n",
      "|       0|      0.11|\n",
      "|    NULL|      0.02|\n",
      "+--------+----------+\n",
      "\n"
     ]
    }
   ],
   "source": [
    "\n",
    "col_name = 'NewExist'\n",
    "show_percentage_of_each_value_in_column(loan_df, loan_df_count,col_name)\n"
   ]
  },
  {
   "cell_type": "code",
   "execution_count": 66,
   "metadata": {},
   "outputs": [
    {
     "name": "stdout",
     "output_type": "stream",
     "text": [
      "+--------------------+---------------+-----+----+--------------------+---------+----+-----+--------+---------+-----------+-------------+----------+---------+------+----------+----------------+-----------------+------------+----------+------------+------------+-----------+------+-------------+\n",
      "|                Name|           City|State| Zip|                Bank|BankState|Term|NoEmp|NewExist|CreateJob|RetainedJob|FranchiseCode|UrbanRural|RevLineCr|LowDoc|ChgOffDate|DisbursementDate|DisbursementGross|BalanceGross|MIS_Status|ChgOffPrinGr|      GrAppv|   SBA_Appv|Sector|ApprovalMonth|\n",
      "+--------------------+---------------+-----+----+--------------------+---------+----+-----+--------+---------+-----------+-------------+----------+---------+------+----------+----------------+-----------------+------------+----------+------------+------------+-----------+------+-------------+\n",
      "|     Eurostoves, Inc|        BEVERLY|   MA|1915|        BEVERLY BANK|       MA|  84|   25|    NULL|        0|         25|            0|         1|        N|     N|      NULL|        1-Jan-11|      $25,000.00 |      $0.00 |     P I F|      $0.00 | $25,000.00 |$12,500.00 |    42|          Dec|\n",
      "|Luna Design Group...|      LYNNFIELD|   MA|1940|PEOPLE'S UNITED BANK|       CT|  73|    4|    NULL|        0|          4|            0|         1|        N|     N|      NULL|       25-Mar-10|      $25,000.00 |      $0.00 |     P I F|      $0.00 | $25,000.00 |$25,000.00 |    54|          Jan|\n",
      "|George F. Gales, ...|         QUINCY|   MA|2170|        EASTERN BANK|       MA|  84|    2|    NULL|        0|          2|            0|         1|        Y|     N|      NULL|        1-Apr-10|      $52,395.00 |      $0.00 |     P I F|      $0.00 | $50,000.00 |$25,000.00 |    62|          Jan|\n",
      "| KTL Consulting, LLC|         WESTON|   MA|2493|        EASTERN BANK|       MA|  84|    4|    NULL|        1|          0|            0|         1|        Y|     N|      NULL|        1-Apr-11|     $150,000.00 |      $0.00 |     P I F|      $0.00 |$150,000.00 |$75,000.00 |    54|          Apr|\n",
      "|iMedia Technology...|WEST BARNSTABLE|   MA|2668|        EASTERN BANK|       MA|  72|    7|    NULL|        0|          7|            0|         2|        Y|     N|      NULL|        4-Jun-10|      $25,000.00 |      $0.00 |     P I F|      $0.00 | $25,000.00 |$12,500.00 |    54|          Jun|\n",
      "+--------------------+---------------+-----+----+--------------------+---------+----+-----+--------+---------+-----------+-------------+----------+---------+------+----------+----------------+-----------------+------------+----------+------------+------------+-----------+------+-------------+\n",
      "only showing top 5 rows\n",
      "\n",
      "Null Count: 136\n"
     ]
    }
   ],
   "source": [
    "show_df_where_col_isnull(loan_df, col_name, show_num=5)"
   ]
  },
  {
   "cell_type": "markdown",
   "metadata": {},
   "source": [
    " Drop rows with 0 or Null"
   ]
  },
  {
   "cell_type": "code",
   "execution_count": 67,
   "metadata": {},
   "outputs": [],
   "source": [
    "\n",
    "col_name = 'NewExist'\n",
    "loan_df = loan_df.filter(loan_df[col_name] != 0)\n",
    "loan_df = loan_df.filter(loan_df[col_name].isNotNull())\n",
    "loan_df_count = loan_df.count()"
   ]
  },
  {
   "cell_type": "code",
   "execution_count": 68,
   "metadata": {},
   "outputs": [
    {
     "name": "stdout",
     "output_type": "stream",
     "text": [
      "+--------+----------+\n",
      "|NewExist|Percentage|\n",
      "+--------+----------+\n",
      "|       1|     71.81|\n",
      "|       2|     28.19|\n",
      "+--------+----------+\n",
      "\n"
     ]
    }
   ],
   "source": [
    "\n",
    "show_percentage_of_each_value_in_column(loan_df, loan_df_count,col_name)\n"
   ]
  },
  {
   "cell_type": "markdown",
   "metadata": {},
   "source": [
    "Convert it to boolean, '2' is true, '1' is false."
   ]
  },
  {
   "cell_type": "code",
   "execution_count": 69,
   "metadata": {},
   "outputs": [],
   "source": [
    "\n",
    "loan_df = loan_df.withColumn(col_name, \n",
    "                   when(col(col_name) == \"2\", 1)\n",
    "                   .otherwise(0)\n",
    "                   .cast(\"int\"))\n"
   ]
  },
  {
   "cell_type": "code",
   "execution_count": 70,
   "metadata": {},
   "outputs": [
    {
     "name": "stdout",
     "output_type": "stream",
     "text": [
      "+--------+----------+\n",
      "|NewExist|Percentage|\n",
      "+--------+----------+\n",
      "|       0|     71.81|\n",
      "|       1|     28.19|\n",
      "+--------+----------+\n",
      "\n"
     ]
    }
   ],
   "source": [
    "\n",
    "show_percentage_of_each_value_in_column(loan_df, loan_df_count,col_name)\n"
   ]
  },
  {
   "cell_type": "markdown",
   "metadata": {},
   "source": [
    " ### 14. CreateJob - Number of jobs created"
   ]
  },
  {
   "cell_type": "code",
   "execution_count": 71,
   "metadata": {},
   "outputs": [
    {
     "name": "stdout",
     "output_type": "stream",
     "text": [
      "+---------+----------+\n",
      "|CreateJob|Percentage|\n",
      "+---------+----------+\n",
      "|        0|     69.92|\n",
      "|        1|      7.05|\n",
      "|        2|      6.45|\n",
      "|        3|      3.21|\n",
      "|        4|      2.29|\n",
      "|        5|      2.08|\n",
      "|       10|      1.29|\n",
      "|        6|      1.23|\n",
      "|        8|      0.82|\n",
      "|        7|      0.71|\n",
      "+---------+----------+\n",
      "only showing top 10 rows\n",
      "\n"
     ]
    }
   ],
   "source": [
    "\n",
    "col_name='CreateJob'\n",
    "show_percentage_of_each_value_in_column(loan_df, loan_df_count,col_name)\n"
   ]
  },
  {
   "cell_type": "code",
   "execution_count": 72,
   "metadata": {},
   "outputs": [
    {
     "name": "stdout",
     "output_type": "stream",
     "text": [
      "+----+----+-----+---+----+---------+----+-----+--------+---------+-----------+-------------+----------+---------+------+----------+----------------+-----------------+------------+----------+------------+------+--------+------+-------------+\n",
      "|Name|City|State|Zip|Bank|BankState|Term|NoEmp|NewExist|CreateJob|RetainedJob|FranchiseCode|UrbanRural|RevLineCr|LowDoc|ChgOffDate|DisbursementDate|DisbursementGross|BalanceGross|MIS_Status|ChgOffPrinGr|GrAppv|SBA_Appv|Sector|ApprovalMonth|\n",
      "+----+----+-----+---+----+---------+----+-----+--------+---------+-----------+-------------+----------+---------+------+----------+----------------+-----------------+------------+----------+------------+------+--------+------+-------------+\n",
      "+----+----+-----+---+----+---------+----+-----+--------+---------+-----------+-------------+----------+---------+------+----------+----------------+-----------------+------------+----------+------------+------+--------+------+-------------+\n",
      "\n",
      "Null Count: 0\n"
     ]
    }
   ],
   "source": [
    "show_df_where_col_isnull(loan_df, col_name, show_num=5)"
   ]
  },
  {
   "cell_type": "code",
   "execution_count": 73,
   "metadata": {},
   "outputs": [
    {
     "name": "stdout",
     "output_type": "stream",
     "text": [
      "Number of unique values in CreateJob: 245\n",
      "Percentage of unique values in CreateJob: 0.03%\n"
     ]
    }
   ],
   "source": [
    "print_unique_val_num_in_col(loan_df, col_name)"
   ]
  },
  {
   "cell_type": "code",
   "execution_count": 74,
   "metadata": {},
   "outputs": [],
   "source": [
    "\n",
    "# loan_df = loan_df.drop(col_name)\n"
   ]
  },
  {
   "cell_type": "markdown",
   "metadata": {},
   "source": [
    " ### 15. RetainedJob - Number of jobs retained"
   ]
  },
  {
   "cell_type": "code",
   "execution_count": 75,
   "metadata": {},
   "outputs": [
    {
     "name": "stdout",
     "output_type": "stream",
     "text": [
      "+-----------+----------+\n",
      "|RetainedJob|Percentage|\n",
      "+-----------+----------+\n",
      "|          0|     48.85|\n",
      "|          1|       9.9|\n",
      "|          2|      8.57|\n",
      "|          3|      5.57|\n",
      "|          4|      4.42|\n",
      "|          5|      3.64|\n",
      "|          6|      2.65|\n",
      "|          7|      1.84|\n",
      "|          8|      1.75|\n",
      "|         10|      1.72|\n",
      "+-----------+----------+\n",
      "only showing top 10 rows\n",
      "\n"
     ]
    }
   ],
   "source": [
    "\n",
    "col_name='RetainedJob'\n",
    "show_percentage_of_each_value_in_column(loan_df, loan_df_count,col_name)\n"
   ]
  },
  {
   "cell_type": "code",
   "execution_count": 76,
   "metadata": {},
   "outputs": [
    {
     "name": "stdout",
     "output_type": "stream",
     "text": [
      "+----+----+-----+---+----+---------+----+-----+--------+---------+-----------+-------------+----------+---------+------+----------+----------------+-----------------+------------+----------+------------+------+--------+------+-------------+\n",
      "|Name|City|State|Zip|Bank|BankState|Term|NoEmp|NewExist|CreateJob|RetainedJob|FranchiseCode|UrbanRural|RevLineCr|LowDoc|ChgOffDate|DisbursementDate|DisbursementGross|BalanceGross|MIS_Status|ChgOffPrinGr|GrAppv|SBA_Appv|Sector|ApprovalMonth|\n",
      "+----+----+-----+---+----+---------+----+-----+--------+---------+-----------+-------------+----------+---------+------+----------+----------------+-----------------+------------+----------+------------+------+--------+------+-------------+\n",
      "+----+----+-----+---+----+---------+----+-----+--------+---------+-----------+-------------+----------+---------+------+----------+----------------+-----------------+------------+----------+------------+------+--------+------+-------------+\n",
      "\n",
      "Null Count: 0\n"
     ]
    }
   ],
   "source": [
    "show_df_where_col_isnull(loan_df, col_name, show_num=5)"
   ]
  },
  {
   "cell_type": "code",
   "execution_count": 77,
   "metadata": {},
   "outputs": [
    {
     "name": "stdout",
     "output_type": "stream",
     "text": [
      "Number of unique values in RetainedJob: 358\n",
      "Percentage of unique values in RetainedJob: 0.04%\n"
     ]
    }
   ],
   "source": [
    "print_unique_val_num_in_col(loan_df, col_name)"
   ]
  },
  {
   "cell_type": "code",
   "execution_count": 78,
   "metadata": {},
   "outputs": [],
   "source": [
    "\n",
    "# loan_df = loan_df.drop(col_name)\n"
   ]
  },
  {
   "cell_type": "markdown",
   "metadata": {},
   "source": [
    " ### 16. FranchiseCode - Franchise code, (00000 or 00001) = No franchise"
   ]
  },
  {
   "cell_type": "code",
   "execution_count": 79,
   "metadata": {},
   "outputs": [
    {
     "name": "stdout",
     "output_type": "stream",
     "text": [
      "+-------------+----------+\n",
      "|FranchiseCode|Percentage|\n",
      "+-------------+----------+\n",
      "|            1|     71.01|\n",
      "|            0|     23.23|\n",
      "|        78760|      0.38|\n",
      "|        68020|      0.21|\n",
      "|        50564|      0.11|\n",
      "|        21780|      0.11|\n",
      "|        25650|      0.08|\n",
      "|        79140|      0.07|\n",
      "|        22470|      0.07|\n",
      "|        17998|      0.07|\n",
      "+-------------+----------+\n",
      "only showing top 10 rows\n",
      "\n"
     ]
    }
   ],
   "source": [
    "\n",
    "col_name='FranchiseCode'\n",
    "show_percentage_of_each_value_in_column(loan_df, loan_df_count,col_name)\n"
   ]
  },
  {
   "cell_type": "code",
   "execution_count": 80,
   "metadata": {},
   "outputs": [
    {
     "name": "stdout",
     "output_type": "stream",
     "text": [
      "+----+----+-----+---+----+---------+----+-----+--------+---------+-----------+-------------+----------+---------+------+----------+----------------+-----------------+------------+----------+------------+------+--------+------+-------------+\n",
      "|Name|City|State|Zip|Bank|BankState|Term|NoEmp|NewExist|CreateJob|RetainedJob|FranchiseCode|UrbanRural|RevLineCr|LowDoc|ChgOffDate|DisbursementDate|DisbursementGross|BalanceGross|MIS_Status|ChgOffPrinGr|GrAppv|SBA_Appv|Sector|ApprovalMonth|\n",
      "+----+----+-----+---+----+---------+----+-----+--------+---------+-----------+-------------+----------+---------+------+----------+----------------+-----------------+------------+----------+------------+------+--------+------+-------------+\n",
      "+----+----+-----+---+----+---------+----+-----+--------+---------+-----------+-------------+----------+---------+------+----------+----------------+-----------------+------------+----------+------------+------+--------+------+-------------+\n",
      "\n",
      "Null Count: 0\n"
     ]
    }
   ],
   "source": [
    "show_df_where_col_isnull(loan_df, col_name, show_num=5)"
   ]
  },
  {
   "cell_type": "code",
   "execution_count": 81,
   "metadata": {},
   "outputs": [
    {
     "name": "stdout",
     "output_type": "stream",
     "text": [
      "Number of unique values in FranchiseCode: 2763\n",
      "Percentage of unique values in FranchiseCode: 0.31%\n"
     ]
    }
   ],
   "source": [
    "print_unique_val_num_in_col(loan_df, col_name)"
   ]
  },
  {
   "cell_type": "markdown",
   "metadata": {},
   "source": [
    " We don't care about the franchise code, we only care if there is a franchise or not"
   ]
  },
  {
   "cell_type": "code",
   "execution_count": 82,
   "metadata": {},
   "outputs": [],
   "source": [
    "\n",
    "# make 0 or 1 = 0, anything else = 1\n",
    "loan_df = loan_df.withColumn(\"IsFranchise\", when((col(col_name) == 0) | (col(col_name) == 1), 0).otherwise(1))\n"
   ]
  },
  {
   "cell_type": "code",
   "execution_count": 83,
   "metadata": {},
   "outputs": [
    {
     "name": "stdout",
     "output_type": "stream",
     "text": [
      "+-----------+----------+\n",
      "|IsFranchise|Percentage|\n",
      "+-----------+----------+\n",
      "|          0|     94.24|\n",
      "|          1|      5.76|\n",
      "+-----------+----------+\n",
      "\n"
     ]
    }
   ],
   "source": [
    "\n",
    "col_name = 'IsFranchise'\n",
    "show_percentage_of_each_value_in_column(loan_df, loan_df_count,col_name)\n"
   ]
  },
  {
   "cell_type": "code",
   "execution_count": 84,
   "metadata": {},
   "outputs": [],
   "source": [
    "\n",
    "loan_df = loan_df.drop('FranchiseCode')\n"
   ]
  },
  {
   "cell_type": "markdown",
   "metadata": {},
   "source": [
    " ### 17. UrbanRural - 1 = Urban, 2 = rural, 0 = undefined"
   ]
  },
  {
   "cell_type": "code",
   "execution_count": 85,
   "metadata": {},
   "outputs": [
    {
     "name": "stdout",
     "output_type": "stream",
     "text": [
      "+----------+----------+\n",
      "|UrbanRural|Percentage|\n",
      "+----------+----------+\n",
      "|         1|     52.46|\n",
      "|         0|     35.81|\n",
      "|         2|     11.73|\n",
      "+----------+----------+\n",
      "\n"
     ]
    }
   ],
   "source": [
    "\n",
    "col_name = 'UrbanRural'\n",
    "show_percentage_of_each_value_in_column(loan_df, loan_df_count,col_name)"
   ]
  },
  {
   "cell_type": "code",
   "execution_count": 86,
   "metadata": {},
   "outputs": [
    {
     "name": "stdout",
     "output_type": "stream",
     "text": [
      "+----+----+-----+---+----+---------+----+-----+--------+---------+-----------+----------+---------+------+----------+----------------+-----------------+------------+----------+------------+------+--------+------+-------------+-----------+\n",
      "|Name|City|State|Zip|Bank|BankState|Term|NoEmp|NewExist|CreateJob|RetainedJob|UrbanRural|RevLineCr|LowDoc|ChgOffDate|DisbursementDate|DisbursementGross|BalanceGross|MIS_Status|ChgOffPrinGr|GrAppv|SBA_Appv|Sector|ApprovalMonth|IsFranchise|\n",
      "+----+----+-----+---+----+---------+----+-----+--------+---------+-----------+----------+---------+------+----------+----------------+-----------------+------------+----------+------------+------+--------+------+-------------+-----------+\n",
      "+----+----+-----+---+----+---------+----+-----+--------+---------+-----------+----------+---------+------+----------+----------------+-----------------+------------+----------+------------+------+--------+------+-------------+-----------+\n",
      "\n",
      "Null Count: 0\n"
     ]
    }
   ],
   "source": [
    "show_df_where_col_isnull(loan_df, col_name, show_num=5)"
   ]
  },
  {
   "cell_type": "code",
   "execution_count": 87,
   "metadata": {},
   "outputs": [
    {
     "name": "stdout",
     "output_type": "stream",
     "text": [
      "Number of unique values in UrbanRural: 3\n",
      "Percentage of unique values in UrbanRural: 0.00%\n"
     ]
    }
   ],
   "source": [
    "print_unique_val_num_in_col(loan_df, col_name)"
   ]
  },
  {
   "cell_type": "markdown",
   "metadata": {},
   "source": [
    " ### 18. RevLineCr - Revolving line of credit: Y = Yes, N = No"
   ]
  },
  {
   "cell_type": "code",
   "execution_count": 88,
   "metadata": {},
   "outputs": [
    {
     "name": "stdout",
     "output_type": "stream",
     "text": [
      "+---------+----------+\n",
      "|RevLineCr|Percentage|\n",
      "+---------+----------+\n",
      "|        N|      46.6|\n",
      "|        0|     28.72|\n",
      "|        Y|     22.46|\n",
      "|        T|       1.7|\n",
      "|     NULL|       0.5|\n",
      "|        7|       0.0|\n",
      "|        3|       0.0|\n",
      "|        Q|       0.0|\n",
      "|        5|       0.0|\n",
      "|        .|       0.0|\n",
      "+---------+----------+\n",
      "only showing top 10 rows\n",
      "\n"
     ]
    }
   ],
   "source": [
    "\n",
    "col_name = 'RevLineCr'\n",
    "show_percentage_of_each_value_in_column(loan_df, loan_df_count,col_name)\n"
   ]
  },
  {
   "cell_type": "code",
   "execution_count": 89,
   "metadata": {},
   "outputs": [
    {
     "name": "stdout",
     "output_type": "stream",
     "text": [
      "+--------------------+-------------+-----+----+--------------------+---------+----+-----+--------+---------+-----------+----------+---------+------+----------+----------------+-----------------+------------+----------+------------+------------+------------+------+-------------+-----------+\n",
      "|                Name|         City|State| Zip|                Bank|BankState|Term|NoEmp|NewExist|CreateJob|RetainedJob|UrbanRural|RevLineCr|LowDoc|ChgOffDate|DisbursementDate|DisbursementGross|BalanceGross|MIS_Status|ChgOffPrinGr|      GrAppv|    SBA_Appv|Sector|ApprovalMonth|IsFranchise|\n",
      "+--------------------+-------------+-----+----+--------------------+---------+----+-----+--------+---------+-----------+----------+---------+------+----------+----------------+-----------------+------------+----------+------------+------------+------------+------+-------------+-----------+\n",
      "|PASKO TRANSPORT C...|   CUMMINGTON|   MA|1026|TD BANK, NATIONAL...|       MA|  60|    1|       1|        0|          0|         0|     NULL|     Y|      NULL|       30-Apr-95|      $50,000.00 |      $0.00 |     P I F|      $0.00 | $50,000.00 | $45,000.00 |     0|          Mar|          0|\n",
      "|      JNP ASSOCIATES|      E. OTIS|   MA|1029|NBT BANK, NATIONA...|       MA|  36|    1|       0|        0|          0|         0|     NULL|     Y|      NULL|       30-Apr-95|      $10,500.00 |      $0.00 |     P I F|      $0.00 | $10,500.00 |  $9,450.00 |     0|          Feb|          0|\n",
      "|CANARY/BLOOMSTROM...|FEEDING HILLS|   MA|1030|         UNITED BANK|       MA|  84|    9|       0|        0|          0|         0|     NULL|     Y|      NULL|       31-Oct-95|      $50,000.00 |      $0.00 |     P I F|      $0.00 | $50,000.00 | $45,000.00 |     0|          Feb|          0|\n",
      "|Seven Sisters Mar...|       Hadley|   MA|1035|BAY COLONY DEVEL ...|       MA| 240|    1|       1|       20|          0|         1|     NULL|     N|      NULL|       14-Aug-13|     $773,000.00 |      $0.00 |     P I F|      $0.00 |$773,000.00 |$773,000.00 |    44|          Mar|          0|\n",
      "|SUBURBAN PRODUCTS...| THREE RIVERS|   MA|1080|BANK OF AMERICA N...|       CT|  84|   25|       0|        0|          0|         0|     NULL|     N|      NULL|       31-Jul-95|     $250,000.00 |      $0.00 |     P I F|      $0.00 |$250,000.00 |$206,250.00 |     0|          Mar|          0|\n",
      "+--------------------+-------------+-----+----+--------------------+---------+----+-----+--------+---------+-----------+----------+---------+------+----------+----------------+-----------------+------------+----------+------------+------------+------------+------+-------------+-----------+\n",
      "only showing top 5 rows\n",
      "\n",
      "Null Count: 4516\n"
     ]
    }
   ],
   "source": [
    "show_df_where_col_isnull(loan_df, col_name, show_num=5)"
   ]
  },
  {
   "cell_type": "code",
   "execution_count": 90,
   "metadata": {},
   "outputs": [
    {
     "name": "stdout",
     "output_type": "stream",
     "text": [
      "Number of unique values in RevLineCr: 19\n",
      "Percentage of unique values in RevLineCr: 0.00%\n"
     ]
    }
   ],
   "source": [
    "print_unique_val_num_in_col(loan_df, col_name)"
   ]
  },
  {
   "cell_type": "markdown",
   "metadata": {},
   "source": [
    " Filter only N and Y"
   ]
  },
  {
   "cell_type": "code",
   "execution_count": 91,
   "metadata": {},
   "outputs": [
    {
     "name": "stdout",
     "output_type": "stream",
     "text": [
      "Number of rows before filtering: 896032\n",
      "Number of rows after filtering: 618822\n",
      "+---------+----------+\n",
      "|RevLineCr|Percentage|\n",
      "+---------+----------+\n",
      "|        N|     67.48|\n",
      "|        Y|     32.52|\n",
      "+---------+----------+\n",
      "\n"
     ]
    }
   ],
   "source": [
    "\n",
    "col_name = 'RevLineCr'\n",
    "print(f\"Number of rows before filtering: {loan_df_count}\")\n",
    "loan_df = loan_df.filter(loan_df[col_name].isin('N', 'Y'))\n",
    "loan_df_count = loan_df.count()\n",
    "print(f\"Number of rows after filtering: {loan_df_count}\")\n",
    "show_percentage_of_each_value_in_column(loan_df, loan_df_count,col_name)\n"
   ]
  },
  {
   "cell_type": "markdown",
   "metadata": {},
   "source": [
    " Transform N and Y to 0 and 1"
   ]
  },
  {
   "cell_type": "code",
   "execution_count": 92,
   "metadata": {},
   "outputs": [],
   "source": [
    "\n",
    "loan_df = loan_df.withColumn(col_name, \n",
    "                   when(col(col_name) == \"Y\", 1)\n",
    "                   .otherwise(0)\n",
    "                   .cast(\"int\"))\n"
   ]
  },
  {
   "cell_type": "markdown",
   "metadata": {},
   "source": [
    " ### 19. LowDoc - LowDoc Loan Program: Y = Yes, N = No"
   ]
  },
  {
   "cell_type": "code",
   "execution_count": 93,
   "metadata": {},
   "outputs": [
    {
     "name": "stdout",
     "output_type": "stream",
     "text": [
      "+------+----------+\n",
      "|LowDoc|Percentage|\n",
      "+------+----------+\n",
      "|     N|     89.93|\n",
      "|     Y|      9.24|\n",
      "|  NULL|      0.41|\n",
      "|     0|      0.19|\n",
      "|     C|      0.11|\n",
      "|     S|      0.09|\n",
      "|     A|      0.02|\n",
      "|     R|      0.01|\n",
      "|     1|       0.0|\n",
      "+------+----------+\n",
      "\n"
     ]
    }
   ],
   "source": [
    "\n",
    "col_name = \"LowDoc\"\n",
    "show_percentage_of_each_value_in_column(loan_df, loan_df_count,col_name)\n"
   ]
  },
  {
   "cell_type": "code",
   "execution_count": 94,
   "metadata": {},
   "outputs": [
    {
     "name": "stdout",
     "output_type": "stream",
     "text": [
      "+--------------------+--------------+-----+----+--------------------+---------+----+-----+--------+---------+-----------+----------+---------+------+----------+----------------+-----------------+------------+----------+------------+-----------+-----------+------+-------------+-----------+\n",
      "|                Name|          City|State| Zip|                Bank|BankState|Term|NoEmp|NewExist|CreateJob|RetainedJob|UrbanRural|RevLineCr|LowDoc|ChgOffDate|DisbursementDate|DisbursementGross|BalanceGross|MIS_Status|ChgOffPrinGr|     GrAppv|   SBA_Appv|Sector|ApprovalMonth|IsFranchise|\n",
      "+--------------------+--------------+-----+----+--------------------+---------+----+-----+--------+---------+-----------+----------+---------+------+----------+----------------+-----------------+------------+----------+------------+-----------+-----------+------+-------------+-----------+\n",
      "| Meadow Brook Realty|       AMHERST|   MA|1002|FLORENCE SAVINGS ...|       MA|  84|    2|       0|        0|          2|         2|        1|  NULL|      NULL|       31-Dec-08|      $20,000.00 |      $0.00 |     P I F|      $0.00 |$20,000.00 |$10,000.00 |    23|          Oct|          0|\n",
      "|        Jose Sanchez|   NORTHAMPTON|   MA|1060|FLORENCE SAVINGS ...|       MA|  60|    0|       1|        1|          0|         1|        0|  NULL|      NULL|       31-Aug-09|      $16,000.00 |      $0.00 |     P I F|      $0.00 |$16,000.00 |$14,400.00 |    44|          Jul|          0|\n",
      "|Jeffrey Bradshaw ...|   Springfield|   MA|1104|TD BANK, NATIONAL...|       DE|  84|    1|       1|        0|          0|         1|        1|  NULL|      NULL|       31-Aug-08|      $40,000.00 |      $0.00 |     P I F|      $0.00 |$40,000.00 |$34,000.00 |    23|          Jun|          0|\n",
      "|JASM Real Estate ...|   SPRINGFIELD|   MA|1104|TD BANK, NATIONAL...|       DE|  60|    3|       0|        3|          3|         1|        0|  NULL|      NULL|        1-Nov-09|      $55,000.00 |      $0.00 |     P I F|      $0.00 |$55,000.00 |$49,500.00 |    23|          Aug|          0|\n",
      "|Crossfit Iron Wil...|INDIAN ORCHARD|   MA|1151|         UNITED BANK|       MA|  36|    0|       1|        2|          2|         1|        0|  NULL|      NULL|        1-Apr-10|      $15,000.00 |      $0.00 |     P I F|      $0.00 |$15,000.00 |$12,750.00 |    71|          Mar|          0|\n",
      "+--------------------+--------------+-----+----+--------------------+---------+----+-----+--------+---------+-----------+----------+---------+------+----------+----------------+-----------------+------------+----------+------------+-----------+-----------+------+-------------+-----------+\n",
      "only showing top 5 rows\n",
      "\n",
      "Null Count: 2528\n"
     ]
    }
   ],
   "source": [
    "show_df_where_col_isnull(loan_df, col_name, show_num=5)"
   ]
  },
  {
   "cell_type": "code",
   "execution_count": 95,
   "metadata": {},
   "outputs": [
    {
     "name": "stdout",
     "output_type": "stream",
     "text": [
      "Number of unique values in LowDoc: 9\n",
      "Percentage of unique values in LowDoc: 0.00%\n"
     ]
    }
   ],
   "source": [
    "print_unique_val_num_in_col(loan_df, col_name)"
   ]
  },
  {
   "cell_type": "markdown",
   "metadata": {},
   "source": [
    " Filter only N and Y"
   ]
  },
  {
   "cell_type": "code",
   "execution_count": 96,
   "metadata": {},
   "outputs": [
    {
     "name": "stdout",
     "output_type": "stream",
     "text": [
      "Number of rows before filtering: 618822\n",
      "Number of rows after filtering: 613725\n",
      "+------+----------+\n",
      "|LowDoc|Percentage|\n",
      "+------+----------+\n",
      "|     N|     90.68|\n",
      "|     Y|      9.32|\n",
      "+------+----------+\n",
      "\n"
     ]
    }
   ],
   "source": [
    "\n",
    "col_name = 'LowDoc'\n",
    "print(f\"Number of rows before filtering: {loan_df_count}\")\n",
    "loan_df = loan_df.filter(loan_df[col_name].isin('N', 'Y'))\n",
    "loan_df_count = loan_df.count()\n",
    "print(f\"Number of rows after filtering: {loan_df_count}\")\n",
    "show_percentage_of_each_value_in_column(loan_df, loan_df_count,col_name)\n"
   ]
  },
  {
   "cell_type": "markdown",
   "metadata": {},
   "source": [
    " Transform N and Y to 0 and 1"
   ]
  },
  {
   "cell_type": "code",
   "execution_count": 97,
   "metadata": {},
   "outputs": [],
   "source": [
    "\n",
    "loan_df = loan_df.withColumn(col_name, \n",
    "                   when(col(col_name) == \"Y\", 1)\n",
    "                   .otherwise(0)\n",
    "                   .cast(\"int\"))\n"
   ]
  },
  {
   "cell_type": "markdown",
   "metadata": {},
   "source": [
    " ### 20. ChgOffDate - The date when a loan is declared to be in default\n",
    "\n",
    " Drop the column due to the high number of missing values."
   ]
  },
  {
   "cell_type": "code",
   "execution_count": 98,
   "metadata": {},
   "outputs": [],
   "source": [
    "\n",
    "loan_df = loan_df.drop('ChgOffDate')\n"
   ]
  },
  {
   "cell_type": "markdown",
   "metadata": {},
   "source": [
    " ### 21. DisbursementDate - Date when loan was disbursed"
   ]
  },
  {
   "cell_type": "code",
   "execution_count": 99,
   "metadata": {},
   "outputs": [],
   "source": [
    "\n",
    "loan_df = loan_df.drop('DisbursementDate')\n"
   ]
  },
  {
   "cell_type": "markdown",
   "metadata": {},
   "source": [
    " ### 22. DisbursementGross - Amount disbursed"
   ]
  },
  {
   "cell_type": "code",
   "execution_count": 100,
   "metadata": {},
   "outputs": [
    {
     "name": "stdout",
     "output_type": "stream",
     "text": [
      "+-----------------+----------+\n",
      "|DisbursementGross|Percentage|\n",
      "+-----------------+----------+\n",
      "|      $50,000.00 |      4.93|\n",
      "|     $100,000.00 |       4.0|\n",
      "|      $25,000.00 |      3.31|\n",
      "|      $10,000.00 |       2.4|\n",
      "|     $150,000.00 |      1.78|\n",
      "|      $35,000.00 |      1.75|\n",
      "|      $20,000.00 |      1.62|\n",
      "|      $75,000.00 |      1.47|\n",
      "|      $15,000.00 |      1.41|\n",
      "|      $30,000.00 |      1.38|\n",
      "+-----------------+----------+\n",
      "only showing top 10 rows\n",
      "\n"
     ]
    }
   ],
   "source": [
    "col_name = \"DisbursementGross\"\n",
    "show_percentage_of_each_value_in_column(loan_df, loan_df_count,col_name)\n"
   ]
  },
  {
   "cell_type": "code",
   "execution_count": 101,
   "metadata": {},
   "outputs": [
    {
     "name": "stdout",
     "output_type": "stream",
     "text": [
      "+-----------------------+----------+\n",
      "|clean_DisbursementGross|Percentage|\n",
      "+-----------------------+----------+\n",
      "|                50000.0|      4.93|\n",
      "|               100000.0|       4.0|\n",
      "|                25000.0|      3.31|\n",
      "|                10000.0|       2.4|\n",
      "|               150000.0|      1.78|\n",
      "|                35000.0|      1.75|\n",
      "|                20000.0|      1.62|\n",
      "|                75000.0|      1.47|\n",
      "|                15000.0|      1.41|\n",
      "|                30000.0|      1.38|\n",
      "+-----------------------+----------+\n",
      "only showing top 10 rows\n",
      "\n"
     ]
    }
   ],
   "source": [
    "loan_df = loan_df.withColumn(\"clean_DisbursementGross\", regexp_replace(\"DisbursementGross\", \"\\$\", \"\"))  # Remove $\n",
    "loan_df = loan_df.withColumn(\"clean_DisbursementGross\", regexp_replace(\"clean_DisbursementGross\", \",\", \"\"))  # Remove comma\n",
    "loan_df = loan_df.withColumn(\"clean_DisbursementGross\", col(\"clean_DisbursementGross\").cast(\"float\"))\n",
    "col_name = \"clean_DisbursementGross\"\n",
    "show_percentage_of_each_value_in_column(loan_df, loan_df_count,col_name)"
   ]
  },
  {
   "cell_type": "code",
   "execution_count": 102,
   "metadata": {},
   "outputs": [
    {
     "name": "stdout",
     "output_type": "stream",
     "text": [
      "+----+----+-----+---+----+---------+----+-----+--------+---------+-----------+----------+---------+------+-----------------+------------+----------+------------+------+--------+------+-------------+-----------+-----------------------+\n",
      "|Name|City|State|Zip|Bank|BankState|Term|NoEmp|NewExist|CreateJob|RetainedJob|UrbanRural|RevLineCr|LowDoc|DisbursementGross|BalanceGross|MIS_Status|ChgOffPrinGr|GrAppv|SBA_Appv|Sector|ApprovalMonth|IsFranchise|clean_DisbursementGross|\n",
      "+----+----+-----+---+----+---------+----+-----+--------+---------+-----------+----------+---------+------+-----------------+------------+----------+------------+------+--------+------+-------------+-----------+-----------------------+\n",
      "+----+----+-----+---+----+---------+----+-----+--------+---------+-----------+----------+---------+------+-----------------+------------+----------+------------+------+--------+------+-------------+-----------+-----------------------+\n",
      "\n",
      "Null Count: 0\n"
     ]
    }
   ],
   "source": [
    "show_df_where_col_isnull(loan_df, col_name, show_num=5)"
   ]
  },
  {
   "cell_type": "code",
   "execution_count": 103,
   "metadata": {},
   "outputs": [],
   "source": [
    "\n",
    "loan_df = loan_df.drop('DisbursementGross')\n"
   ]
  },
  {
   "cell_type": "markdown",
   "metadata": {},
   "source": [
    " ### 23. BalanceGross - Gross amount outstanding"
   ]
  },
  {
   "cell_type": "code",
   "execution_count": 104,
   "metadata": {},
   "outputs": [
    {
     "name": "stdout",
     "output_type": "stream",
     "text": [
      "+------------+----------+\n",
      "|BalanceGross|Percentage|\n",
      "+------------+----------+\n",
      "|      $0.00 |     100.0|\n",
      "| $25,000.00 |       0.0|\n",
      "|  $1,760.00 |       0.0|\n",
      "| $84,617.00 |       0.0|\n",
      "| $37,100.00 |       0.0|\n",
      "|$827,875.00 |       0.0|\n",
      "| $43,127.00 |       0.0|\n",
      "|$996,262.00 |       0.0|\n",
      "+------------+----------+\n",
      "\n"
     ]
    }
   ],
   "source": [
    "\n",
    "col_name = 'BalanceGross'\n",
    "show_percentage_of_each_value_in_column(loan_df, loan_df_count,col_name)\n"
   ]
  },
  {
   "cell_type": "markdown",
   "metadata": {},
   "source": [
    " Drop as most of the values are 0"
   ]
  },
  {
   "cell_type": "code",
   "execution_count": 105,
   "metadata": {},
   "outputs": [],
   "source": [
    "\n",
    "loan_df = loan_df.drop('BalanceGross')\n"
   ]
  },
  {
   "cell_type": "markdown",
   "metadata": {},
   "source": [
    " ### 24. MIS_Status - Target variable"
   ]
  },
  {
   "cell_type": "markdown",
   "metadata": {},
   "source": [
    " Delete rows that have null target value (MIS_Status)"
   ]
  },
  {
   "cell_type": "code",
   "execution_count": 106,
   "metadata": {},
   "outputs": [
    {
     "name": "stdout",
     "output_type": "stream",
     "text": [
      "+----------+----------+\n",
      "|MIS_Status|Percentage|\n",
      "+----------+----------+\n",
      "|     P I F|     81.68|\n",
      "|    CHGOFF|     18.04|\n",
      "|      NULL|      0.28|\n",
      "+----------+----------+\n",
      "\n"
     ]
    }
   ],
   "source": [
    "\n",
    "col_name =\"MIS_Status\"\n",
    "show_percentage_of_each_value_in_column(loan_df, loan_df_count, col_name)\n"
   ]
  },
  {
   "cell_type": "code",
   "execution_count": 107,
   "metadata": {},
   "outputs": [
    {
     "name": "stdout",
     "output_type": "stream",
     "text": [
      "+----------+----------+\n",
      "|MIS_Status|Percentage|\n",
      "+----------+----------+\n",
      "|     P I F|     81.68|\n",
      "|    CHGOFF|     18.04|\n",
      "+----------+----------+\n",
      "\n"
     ]
    }
   ],
   "source": [
    "\n",
    "# drop rows with null values in MIS_Status column\n",
    "loan_df = loan_df.dropna(subset=[col_name])\n",
    "show_percentage_of_each_value_in_column(loan_df, loan_df_count, col_name)\n",
    "\n"
   ]
  },
  {
   "cell_type": "markdown",
   "metadata": {},
   "source": [
    " ### Replace target values with 0 and 1\n",
    "\n",
    " Target value column is: MIS_Status\n",
    "\n",
    " \"P I F\" = 1\n",
    "\n",
    " \"CHGOFF\" = 0"
   ]
  },
  {
   "cell_type": "code",
   "execution_count": 108,
   "metadata": {},
   "outputs": [],
   "source": [
    "\n",
    "loan_df = loan_df.withColumn(col_name, \n",
    "                   when(col(col_name) == \"P I F\", 1)\n",
    "                   .otherwise(0)\n",
    "                   .cast(\"int\"))\n"
   ]
  },
  {
   "cell_type": "markdown",
   "metadata": {},
   "source": [
    " Show the percentage of:\n",
    "\n",
    " - Paid in full loans (approved loans), MIS_Status = 1\n",
    "\n",
    " - Charged off loans (rejected loans), MIS_Status = 0"
   ]
  },
  {
   "cell_type": "code",
   "execution_count": 109,
   "metadata": {},
   "outputs": [
    {
     "name": "stdout",
     "output_type": "stream",
     "text": [
      "+----------+----------+\n",
      "|MIS_Status|Percentage|\n",
      "+----------+----------+\n",
      "|         1|     81.68|\n",
      "|         0|     18.04|\n",
      "+----------+----------+\n",
      "\n"
     ]
    }
   ],
   "source": [
    "\n",
    "show_percentage_of_each_value_in_column(loan_df, loan_df_count, col_name)\n"
   ]
  },
  {
   "cell_type": "markdown",
   "metadata": {},
   "source": [
    "Place target column at the end"
   ]
  },
  {
   "cell_type": "code",
   "execution_count": 110,
   "metadata": {},
   "outputs": [],
   "source": [
    "# Assuming df is your DataFrame and column_name is the name of the column you want to move to the end\n",
    "column_name = \"MIS_Status\"\n",
    "\n",
    "# Get the current column names\n",
    "current_columns = loan_df.columns\n",
    "\n",
    "# Select columns excluding the column to be moved to the end\n",
    "new_columns = [col for col in current_columns if col != column_name]\n",
    "\n",
    "# Add the column to be moved to the end\n",
    "new_columns.append(column_name)\n",
    "\n",
    "# Reorder the DataFrame with the new column order\n",
    "loan_df = loan_df.select(*new_columns)\n"
   ]
  },
  {
   "cell_type": "markdown",
   "metadata": {},
   "source": [
    " ### 25. ChgOffPrinGr - Charged-off amount"
   ]
  },
  {
   "cell_type": "code",
   "execution_count": 111,
   "metadata": {},
   "outputs": [
    {
     "name": "stdout",
     "output_type": "stream",
     "text": [
      "+------------+----------+\n",
      "|ChgOffPrinGr|Percentage|\n",
      "+------------+----------+\n",
      "|      $0.00 |     81.27|\n",
      "| $50,000.00 |      0.29|\n",
      "| $10,000.00 |      0.22|\n",
      "| $25,000.00 |      0.21|\n",
      "| $35,000.00 |      0.18|\n",
      "|$100,000.00 |      0.14|\n",
      "| $20,000.00 |      0.08|\n",
      "| $30,000.00 |      0.07|\n",
      "| $15,000.00 |      0.06|\n",
      "|  $5,000.00 |      0.05|\n",
      "+------------+----------+\n",
      "only showing top 10 rows\n",
      "\n"
     ]
    }
   ],
   "source": [
    "\n",
    "col_name = 'ChgOffPrinGr'\n",
    "show_percentage_of_each_value_in_column(loan_df, loan_df_count,col_name)\n"
   ]
  },
  {
   "cell_type": "code",
   "execution_count": 112,
   "metadata": {},
   "outputs": [
    {
     "name": "stdout",
     "output_type": "stream",
     "text": [
      "+------------------+----------+\n",
      "|clean_ChgOffPrinGr|Percentage|\n",
      "+------------------+----------+\n",
      "|               0.0|     81.27|\n",
      "|           50000.0|      0.29|\n",
      "|           10000.0|      0.22|\n",
      "|           25000.0|      0.21|\n",
      "|           35000.0|      0.18|\n",
      "|          100000.0|      0.14|\n",
      "|           20000.0|      0.08|\n",
      "|           30000.0|      0.07|\n",
      "|           15000.0|      0.06|\n",
      "|            5000.0|      0.05|\n",
      "+------------------+----------+\n",
      "only showing top 10 rows\n",
      "\n"
     ]
    }
   ],
   "source": [
    "loan_df = loan_df.withColumn(\"clean_ChgOffPrinGr\", regexp_replace(\"ChgOffPrinGr\", \"\\$\", \"\"))  # Remove $\n",
    "loan_df = loan_df.withColumn(\"clean_ChgOffPrinGr\", regexp_replace(\"clean_ChgOffPrinGr\", \",\", \"\"))  # Remove comma\n",
    "loan_df = loan_df.withColumn(\"clean_ChgOffPrinGr\", col(\"clean_ChgOffPrinGr\").cast(\"float\"))\n",
    "col_name = \"clean_ChgOffPrinGr\"\n",
    "show_percentage_of_each_value_in_column(loan_df, loan_df_count,col_name)"
   ]
  },
  {
   "cell_type": "markdown",
   "metadata": {},
   "source": [
    " Drop this column as it will leak info to the column, because if the value is 0, this means that the loan is charged off"
   ]
  },
  {
   "cell_type": "code",
   "execution_count": 113,
   "metadata": {},
   "outputs": [],
   "source": [
    "\n",
    "loan_df = loan_df.drop('ChgOffPrinGr')\n"
   ]
  },
  {
   "cell_type": "markdown",
   "metadata": {},
   "source": [
    " ### 26. GrAppv - Gross amount of loan approved by bank"
   ]
  },
  {
   "cell_type": "code",
   "execution_count": 114,
   "metadata": {},
   "outputs": [
    {
     "name": "stdout",
     "output_type": "stream",
     "text": [
      "+------------+----------+\n",
      "|      GrAppv|Percentage|\n",
      "+------------+----------+\n",
      "| $50,000.00 |      8.78|\n",
      "| $25,000.00 |      6.95|\n",
      "|$100,000.00 |      6.09|\n",
      "| $10,000.00 |      4.94|\n",
      "| $20,000.00 |      3.15|\n",
      "| $35,000.00 |      3.01|\n",
      "| $30,000.00 |      2.65|\n",
      "| $15,000.00 |      2.37|\n",
      "|$150,000.00 |      2.32|\n",
      "| $75,000.00 |      2.16|\n",
      "+------------+----------+\n",
      "only showing top 10 rows\n",
      "\n"
     ]
    }
   ],
   "source": [
    "\n",
    "col_name = \"GrAppv\"\n",
    "show_percentage_of_each_value_in_column(loan_df, loan_df_count,col_name)\n"
   ]
  },
  {
   "cell_type": "markdown",
   "metadata": {},
   "source": [
    " #### Clean this column\n",
    "\n",
    " - Remove $\n",
    "\n",
    " - Remove ,\n",
    "\n",
    " - Convert to float"
   ]
  },
  {
   "cell_type": "code",
   "execution_count": 115,
   "metadata": {},
   "outputs": [
    {
     "name": "stdout",
     "output_type": "stream",
     "text": [
      "+------------+----------+\n",
      "|clean_GrAppv|Percentage|\n",
      "+------------+----------+\n",
      "|     50000.0|      8.78|\n",
      "|     25000.0|      6.95|\n",
      "|    100000.0|      6.09|\n",
      "|     10000.0|      4.94|\n",
      "|     20000.0|      3.15|\n",
      "|     35000.0|      3.01|\n",
      "|     30000.0|      2.65|\n",
      "|     15000.0|      2.37|\n",
      "|    150000.0|      2.32|\n",
      "|     75000.0|      2.16|\n",
      "+------------+----------+\n",
      "only showing top 10 rows\n",
      "\n"
     ]
    }
   ],
   "source": [
    "\n",
    "loan_df = loan_df.withColumn(\"clean_GrAppv\", regexp_replace(\"GrAppv\", \"\\$\", \"\"))  # Remove $\n",
    "loan_df = loan_df.withColumn(\"clean_GrAppv\", regexp_replace(\"clean_GrAppv\", \",\", \"\"))  # Remove comma\n",
    "loan_df = loan_df.withColumn(\"clean_GrAppv\", col(\"clean_GrAppv\").cast(\"float\"))\n",
    "col_name = \"clean_GrAppv\"\n",
    "show_percentage_of_each_value_in_column(loan_df, loan_df_count,col_name)\n"
   ]
  },
  {
   "cell_type": "code",
   "execution_count": 116,
   "metadata": {},
   "outputs": [
    {
     "name": "stdout",
     "output_type": "stream",
     "text": [
      "+----+----+-----+---+----+---------+----+-----+--------+---------+-----------+----------+---------+------+------+--------+------+-------------+-----------+-----------------------+----------+------------------+------------+\n",
      "|Name|City|State|Zip|Bank|BankState|Term|NoEmp|NewExist|CreateJob|RetainedJob|UrbanRural|RevLineCr|LowDoc|GrAppv|SBA_Appv|Sector|ApprovalMonth|IsFranchise|clean_DisbursementGross|MIS_Status|clean_ChgOffPrinGr|clean_GrAppv|\n",
      "+----+----+-----+---+----+---------+----+-----+--------+---------+-----------+----------+---------+------+------+--------+------+-------------+-----------+-----------------------+----------+------------------+------------+\n",
      "+----+----+-----+---+----+---------+----+-----+--------+---------+-----------+----------+---------+------+------+--------+------+-------------+-----------+-----------------------+----------+------------------+------------+\n",
      "\n",
      "Null Count: 0\n"
     ]
    }
   ],
   "source": [
    "show_df_where_col_isnull(loan_df, \"clean_GrAppv\", show_num=5)"
   ]
  },
  {
   "cell_type": "code",
   "execution_count": 117,
   "metadata": {},
   "outputs": [],
   "source": [
    "\n",
    "loan_df = loan_df.drop('GrAppv')\n"
   ]
  },
  {
   "cell_type": "markdown",
   "metadata": {},
   "source": [
    " ### 27. SBA_Appv - SBA's guaranteed amount of approved loan\n",
    "\n",
    " Drop as we don't know this amount in the future"
   ]
  },
  {
   "cell_type": "code",
   "execution_count": 118,
   "metadata": {},
   "outputs": [
    {
     "name": "stdout",
     "output_type": "stream",
     "text": [
      "+-----------+----------+\n",
      "|   SBA_Appv|Percentage|\n",
      "+-----------+----------+\n",
      "|$25,000.00 |      6.59|\n",
      "|$12,500.00 |      5.59|\n",
      "| $5,000.00 |      4.39|\n",
      "|$50,000.00 |      3.35|\n",
      "|$10,000.00 |      2.36|\n",
      "|$17,500.00 |       2.1|\n",
      "|$15,000.00 |      1.93|\n",
      "| $7,500.00 |      1.77|\n",
      "|$37,500.00 |      1.33|\n",
      "| $2,500.00 |      1.29|\n",
      "+-----------+----------+\n",
      "only showing top 10 rows\n",
      "\n"
     ]
    }
   ],
   "source": [
    "col_name = 'SBA_Appv'\n",
    "show_percentage_of_each_value_in_column(loan_df, loan_df_count,col_name)"
   ]
  },
  {
   "cell_type": "code",
   "execution_count": 119,
   "metadata": {},
   "outputs": [
    {
     "name": "stdout",
     "output_type": "stream",
     "text": [
      "+--------------+----------+\n",
      "|clean_SBA_Appv|Percentage|\n",
      "+--------------+----------+\n",
      "|       25000.0|      6.59|\n",
      "|       12500.0|      5.59|\n",
      "|        5000.0|      4.39|\n",
      "|       50000.0|      3.35|\n",
      "|       10000.0|      2.36|\n",
      "|       17500.0|       2.1|\n",
      "|       15000.0|      1.93|\n",
      "|        7500.0|      1.77|\n",
      "|       37500.0|      1.33|\n",
      "|        2500.0|      1.29|\n",
      "+--------------+----------+\n",
      "only showing top 10 rows\n",
      "\n"
     ]
    }
   ],
   "source": [
    "loan_df = loan_df.withColumn(\"clean_SBA_Appv\", regexp_replace(\"SBA_Appv\", \"\\$\", \"\"))  # Remove $\n",
    "loan_df = loan_df.withColumn(\"clean_SBA_Appv\", regexp_replace(\"clean_SBA_Appv\", \",\", \"\"))  # Remove comma\n",
    "loan_df = loan_df.withColumn(\"clean_SBA_Appv\", col(\"clean_SBA_Appv\").cast(\"float\"))\n",
    "col_name = \"clean_SBA_Appv\"\n",
    "show_percentage_of_each_value_in_column(loan_df, loan_df_count,col_name)"
   ]
  },
  {
   "cell_type": "code",
   "execution_count": 120,
   "metadata": {},
   "outputs": [
    {
     "name": "stdout",
     "output_type": "stream",
     "text": [
      "+----+----+-----+---+----+---------+----+-----+--------+---------+-----------+----------+---------+------+--------+------+-------------+-----------+-----------------------+----------+------------------+------------+--------------+\n",
      "|Name|City|State|Zip|Bank|BankState|Term|NoEmp|NewExist|CreateJob|RetainedJob|UrbanRural|RevLineCr|LowDoc|SBA_Appv|Sector|ApprovalMonth|IsFranchise|clean_DisbursementGross|MIS_Status|clean_ChgOffPrinGr|clean_GrAppv|clean_SBA_Appv|\n",
      "+----+----+-----+---+----+---------+----+-----+--------+---------+-----------+----------+---------+------+--------+------+-------------+-----------+-----------------------+----------+------------------+------------+--------------+\n",
      "+----+----+-----+---+----+---------+----+-----+--------+---------+-----------+----------+---------+------+--------+------+-------------+-----------+-----------------------+----------+------------------+------------+--------------+\n",
      "\n",
      "Null Count: 0\n"
     ]
    }
   ],
   "source": [
    "show_df_where_col_isnull(loan_df, col_name, show_num=5)"
   ]
  },
  {
   "cell_type": "code",
   "execution_count": 121,
   "metadata": {},
   "outputs": [],
   "source": [
    "loan_df = loan_df.drop('SBA_Appv')\n"
   ]
  },
  {
   "cell_type": "markdown",
   "metadata": {},
   "source": [
    " ### Final schema"
   ]
  },
  {
   "cell_type": "code",
   "execution_count": 122,
   "metadata": {},
   "outputs": [
    {
     "name": "stdout",
     "output_type": "stream",
     "text": [
      "root\n",
      " |-- Name: string (nullable = false)\n",
      " |-- City: string (nullable = false)\n",
      " |-- State: string (nullable = false)\n",
      " |-- Zip: string (nullable = true)\n",
      " |-- Bank: string (nullable = false)\n",
      " |-- BankState: string (nullable = true)\n",
      " |-- Term: integer (nullable = true)\n",
      " |-- NoEmp: integer (nullable = true)\n",
      " |-- NewExist: integer (nullable = false)\n",
      " |-- CreateJob: integer (nullable = true)\n",
      " |-- RetainedJob: integer (nullable = true)\n",
      " |-- UrbanRural: integer (nullable = true)\n",
      " |-- RevLineCr: integer (nullable = false)\n",
      " |-- LowDoc: integer (nullable = false)\n",
      " |-- Sector: string (nullable = true)\n",
      " |-- ApprovalMonth: string (nullable = true)\n",
      " |-- IsFranchise: integer (nullable = false)\n",
      " |-- clean_DisbursementGross: float (nullable = true)\n",
      " |-- MIS_Status: integer (nullable = false)\n",
      " |-- clean_ChgOffPrinGr: float (nullable = true)\n",
      " |-- clean_GrAppv: float (nullable = true)\n",
      " |-- clean_SBA_Appv: float (nullable = true)\n",
      "\n"
     ]
    }
   ],
   "source": [
    "\n",
    "loan_df.printSchema()\n"
   ]
  },
  {
   "cell_type": "markdown",
   "metadata": {},
   "source": [
    " ### Check duplicated rows based on all columns\n",
    "\n"
   ]
  },
  {
   "cell_type": "code",
   "execution_count": 123,
   "metadata": {},
   "outputs": [
    {
     "name": "stdout",
     "output_type": "stream",
     "text": [
      "Number of duplicate rows in the dataframe:\n"
     ]
    },
    {
     "name": "stdout",
     "output_type": "stream",
     "text": [
      "1879\n"
     ]
    }
   ],
   "source": [
    "\n",
    "print(\"Number of duplicate rows in the dataframe:\")\n",
    "loan_df_duplicates = loan_df_count - loan_df.dropDuplicates().count()\n",
    "print(loan_df_duplicates)\n",
    "loan_df = loan_df.dropDuplicates()"
   ]
  },
  {
   "cell_type": "markdown",
   "metadata": {},
   "source": [
    " ### Final DF Count"
   ]
  },
  {
   "cell_type": "code",
   "execution_count": 124,
   "metadata": {},
   "outputs": [
    {
     "name": "stdout",
     "output_type": "stream",
     "text": [
      "Final DF count: 611846\n"
     ]
    }
   ],
   "source": [
    "\n",
    "loan_df_count = loan_df.count()\n",
    "print(f\"Final DF count: {loan_df_count}\")\n"
   ]
  },
  {
   "cell_type": "code",
   "execution_count": 125,
   "metadata": {},
   "outputs": [],
   "source": [
    "if print_reports:\n",
    "    report_res = report_df(loan_df, loan_df.columns)\n",
    "    # Display the result\n",
    "    column_names = ['Column', 'Type', 'Unique Sample', 'N Unique', '%None']\n",
    "    print(tabulate(report_res, headers=column_names, tablefmt='grid'))"
   ]
  },
  {
   "cell_type": "code",
   "execution_count": 126,
   "metadata": {},
   "outputs": [],
   "source": [
    "# output_path = \"../data/preprocessed.csv\"\n",
    "\n",
    "# # Save the DataFrame to a CSV file\n",
    "# loan_df.write.csv(output_path, header=True, mode=\"overwrite\")"
   ]
  },
  {
   "cell_type": "code",
   "execution_count": 127,
   "metadata": {},
   "outputs": [],
   "source": [
    "# Convert PySpark DataFrame to Pandas DataFrame\n",
    "pandas_df = loan_df.toPandas()\n",
    "\n",
    "# Specify the path where you want to save the CSV file\n",
    "output_path = \"../data/preprocessed.csv\"\n",
    "\n",
    "# Save the Pandas DataFrame to a CSV file\n",
    "pandas_df.to_csv(output_path, index=False)"
   ]
  },
  {
   "cell_type": "code",
   "execution_count": 128,
   "metadata": {},
   "outputs": [],
   "source": [
    "sample_size = 50000\n",
    "# Save a sample\n",
    "output_path = f\"../sample_data/{sample_size}.csv\"\n",
    "\n",
    "# Save the first 50000 rows of the Pandas DataFrame to a CSV file\n",
    "pandas_df.head(sample_size).to_csv(output_path, index=False)"
   ]
  },
  {
   "cell_type": "code",
   "execution_count": 129,
   "metadata": {},
   "outputs": [],
   "source": [
    "sample_size = 1000\n",
    "# Save a sample\n",
    "output_path = f\"../sample_data/{sample_size}.csv\"\n",
    "\n",
    "# Save the first 50000 rows of the Pandas DataFrame to a CSV file\n",
    "pandas_df.head(sample_size).to_csv(output_path, index=False)"
   ]
  }
 ],
 "metadata": {
  "kernelspec": {
   "display_name": "v38_env",
   "language": "python",
   "name": "python3"
  },
  "language_info": {
   "codemirror_mode": {
    "name": "ipython",
    "version": 3
   },
   "file_extension": ".py",
   "mimetype": "text/x-python",
   "name": "python",
   "nbconvert_exporter": "python",
   "pygments_lexer": "ipython3",
   "version": "3.8.18"
  }
 },
 "nbformat": 4,
 "nbformat_minor": 2
}
