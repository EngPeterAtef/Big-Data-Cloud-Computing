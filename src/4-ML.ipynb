{
 "cells": [
  {
   "cell_type": "markdown",
   "metadata": {},
   "source": [
    " ## Machine Learning"
   ]
  },
  {
   "cell_type": "code",
   "execution_count": null,
   "metadata": {},
   "outputs": [],
   "source": [
    "# %%\n",
    "from pyspark.sql import SparkSession\n",
    "from pyspark.conf import SparkConf\n",
    "from pyspark.sql.functions import col, countDistinct, isnan, when, count, round, substring_index,substring, split, regexp_replace, udf\n",
    "from pyspark.sql.types import StructType, StructField, StringType, DateType, DoubleType, IntegerType\n",
    "from pyspark.ml.feature import VectorAssembler, StringIndexer, OneHotEncoder\n",
    "from pyspark.ml import Pipeline\n",
    "from pyspark.ml.evaluation import BinaryClassificationEvaluator, MulticlassClassificationEvaluator\n",
    "from pyspark.ml.classification import LogisticRegression, DecisionTreeClassifier, RandomForestClassifier, LinearSVC\n",
    "\n",
    "import plotly.graph_objects as go\n",
    "from plotly.subplots import make_subplots\n",
    "\n",
    "from tabulate import tabulate"
   ]
  },
  {
   "cell_type": "code",
   "execution_count": null,
   "metadata": {},
   "outputs": [],
   "source": [
    "# %%\n",
    "spark=SparkSession.builder\\\n",
    "    .master(\"local[*]\")\\\n",
    "    .appName(\"LoanApproval\")\\\n",
    "    .getOrCreate()\n"
   ]
  },
  {
   "cell_type": "code",
   "execution_count": null,
   "metadata": {},
   "outputs": [],
   "source": [
    "# %%\n",
    "sc=spark.sparkContext\n"
   ]
  },
  {
   "cell_type": "markdown",
   "metadata": {},
   "source": [
    " ## Read Data - SBAnational.csv"
   ]
  },
  {
   "cell_type": "code",
   "execution_count": null,
   "metadata": {},
   "outputs": [],
   "source": [
    "# %%\n",
    "data_path=\"../data/SBAnational.csv\"\n"
   ]
  },
  {
   "cell_type": "code",
   "execution_count": null,
   "metadata": {},
   "outputs": [],
   "source": [
    "# %%\n",
    "loan_df =  spark.read.csv(data_path, header=True, inferSchema=True, quote='\"', escape='\"', multiLine=True)\n"
   ]
  },
  {
   "cell_type": "code",
   "execution_count": null,
   "metadata": {},
   "outputs": [],
   "source": [
    "# %%\n",
    "print(\"Transforming categorial features...\")\n",
    "# List of categorical columns to be one-hot encoded\n",
    "categorical_columns = [\"LowDoc\", \"RevLineCr\",\"BankState\",\"Bank\", \"State\", \"City\", \"UrbanRural\", \"Sector\", \"Term_category\"]\n",
    "\n",
    "# Define an empty list to store the pipeline stages\n",
    "stages = []\n",
    "\n",
    "# Iterate over each categorical column\n",
    "for column in categorical_columns:\n",
    "    # Define StringIndexer for the current column\n",
    "    indexer = StringIndexer(inputCol=column, outputCol=column + \"Index\")\n",
    "    \n",
    "    # Define OneHotEncoder for the indexed column\n",
    "    encoder = OneHotEncoder(inputCol=column + \"Index\", outputCol=column + \"Vec\")\n",
    "    \n",
    "    # Add StringIndexer and OneHotEncoder to the list of stages\n",
    "    stages += [indexer, encoder]\n",
    "label_column = \"MIS_Status\"\n",
    "\n",
    "\n",
    "\n",
    "# Create VectorAssembler for combining all features\n",
    "# List of input columns (excluding the label column and categorical columns)\n",
    "input_columns = [col for col in loan_df.columns if col != label_column and col not in categorical_columns]\n",
    "input_columns += [column + \"Vec\" for column in categorical_columns]\n",
    "assembler = VectorAssembler(inputCols=input_columns , outputCol=\"features\")\n",
    "\n",
    "# Combine all stages into a Pipeline\n",
    "pipeline = Pipeline(stages=stages + [assembler])\n",
    "\n",
    "# Fit the pipeline to your data\n",
    "pipeline_model = pipeline.fit(loan_df)\n",
    "\n",
    "# Transform your data using the pipeline\n",
    "transformed_data = pipeline_model.transform(loan_df)\n",
    "transformed_data.show(5)\n",
    "print(\"Splitting data into training, validation and test...\")\n",
    "# Split the transformed data into training and test sets (70% training, 30% test)\n",
    "# (trainingData, testData) = transformed_data.randomSplit([0.7, 0.3])\n",
    "(trainingData, validationData, testData) = transformed_data.randomSplit([0.6, 0.2, 0.2], seed=123)\n",
    "\n",
    "\n",
    "# Create a Logistic Regression model\n",
    "lr = LogisticRegression(maxIter=10, elasticNetParam=0.8, labelCol=label_column, featuresCol=\"features\")\n",
    "print(\"Training logistic regression model...\")\n",
    "# Train the model\n",
    "lrModel = lr.fit(trainingData)\n"
   ]
  },
  {
   "cell_type": "code",
   "execution_count": null,
   "metadata": {},
   "outputs": [],
   "source": [
    "# %%\n",
    "# Make predictions on the test data\n",
    "predictions = lrModel.transform(validationData)\n",
    "\n",
    "# predictions.describe().show()\n",
    "# Evaluate the model\n",
    "evaluator = BinaryClassificationEvaluator(rawPredictionCol=\"prediction\", labelCol=label_column)\n",
    "accuracy = evaluator.evaluate(predictions)\n",
    "\n",
    "print(\"Accuracy:\", accuracy)\n"
   ]
  },
  {
   "cell_type": "code",
   "execution_count": null,
   "metadata": {},
   "outputs": [],
   "source": [
    "# %%\n",
    "def evaluate_model(model, data, model_name , date_type):\n",
    "\n",
    "    # prdict on data\n",
    "    predictions = model.transform(data)\n",
    "\n",
    "    # Create evaluators for different metrics\n",
    "    evaluator_multi = MulticlassClassificationEvaluator(predictionCol='prediction', labelCol=label_column, metricName='accuracy')\n",
    "    evaluator_weighted_precision = MulticlassClassificationEvaluator(predictionCol='prediction', labelCol=label_column, metricName='weightedPrecision')\n",
    "    evaluator_weighted_recall = MulticlassClassificationEvaluator(predictionCol='prediction', labelCol=label_column, metricName='weightedRecall')\n",
    "    evaluator_f1 = MulticlassClassificationEvaluator(predictionCol='prediction', labelCol=label_column, metricName='f1')\n",
    "\n",
    "    # Calculate evaluation metrics\n",
    "    accuracy = evaluator_multi.evaluate(predictions)\n",
    "    weighted_precision = evaluator_weighted_precision.evaluate(predictions)\n",
    "    weighted_recall = evaluator_weighted_recall.evaluate(predictions)\n",
    "    f1 = evaluator_f1.evaluate(predictions)\n",
    "\n",
    "    # Print results\n",
    "    print('-------------------------------------------------------------------------------------------------------------------')\n",
    "    print(f'---------------------------------------------- Model: {model_name} -----------------------------------------------')\n",
    "    print('-------------------------------------------------------------------------------------------------------------------')\n",
    "    print(f'Data Type: {date_type}')\n",
    "    print(f'Accuracy: {accuracy}')\n",
    "    print(f'Weighted Precision: {weighted_precision}')\n",
    "    print(f'Weighted Recall: {weighted_recall}')\n",
    "    print(f'F1 Score: {f1}')\n"
   ]
  },
  {
   "cell_type": "code",
   "execution_count": null,
   "metadata": {},
   "outputs": [],
   "source": [
    "# %%\n",
    " # Create Random Forest model\n",
    "rf = RandomForestClassifier(featuresCol='features', labelCol=label_column)\n",
    "\n",
    "# Fit model to training data\n",
    "rf_model = rf.fit(trainingData)\n",
    "\n",
    "\n"
   ]
  },
  {
   "cell_type": "code",
   "execution_count": null,
   "metadata": {},
   "outputs": [],
   "source": [
    "# %%\n",
    "evaluate_model(rf_model, trainingData, 'Random Forest', 'train')\n",
    "evaluate_model(rf_model, validationData, 'Random Forest', 'validation')\n",
    "evaluate_model(rf_model, testData, 'Random Forest', 'test')\n"
   ]
  },
  {
   "cell_type": "code",
   "execution_count": null,
   "metadata": {},
   "outputs": [],
   "source": [
    "# %%\n",
    "evaluate_model(rf_model, testData, 'Random Forest', 'test')\n"
   ]
  },
  {
   "cell_type": "markdown",
   "metadata": {},
   "source": [
    " ## Save"
   ]
  },
  {
   "cell_type": "code",
   "execution_count": null,
   "metadata": {},
   "outputs": [],
   "source": [
    "# %%\n",
    "model_path = \"lrModel\"\n",
    "lrModel.save(model_path)\n",
    "\n"
   ]
  }
 ],
 "metadata": {
  "kernelspec": {
   "display_name": "v38_env",
   "language": "python",
   "name": "python3"
  },
  "language_info": {
   "codemirror_mode": {
    "name": "ipython",
    "version": 3
   },
   "file_extension": ".py",
   "mimetype": "text/x-python",
   "name": "python",
   "nbconvert_exporter": "python",
   "pygments_lexer": "ipython3",
   "version": "3.8.18"
  }
 },
 "nbformat": 4,
 "nbformat_minor": 2
}
